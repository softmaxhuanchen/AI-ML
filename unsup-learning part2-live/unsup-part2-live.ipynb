{
 "cells": [
  {
   "cell_type": "markdown",
   "id": "9695d73d-e798-4cd8-adb6-22c790421bc4",
   "metadata": {
    "tags": []
   },
   "source": [
    "### :Problem: what are observations?"
   ]
  },
  {
   "cell_type": "markdown",
   "id": "cb79d8bd-2bc2-4a5f-935a-e5bf7c21a6a4",
   "metadata": {},
   "source": [
    "### Again what are observations?\n"
   ]
  },
  {
   "cell_type": "markdown",
   "id": "02cd068c-a211-4bd6-83d9-95bdd2054655",
   "metadata": {},
   "source": [
    "### Activity 2, transform observations"
   ]
  },
  {
   "cell_type": "markdown",
   "id": "33c5e5a1-65be-4a50-a60b-4308a55837e5",
   "metadata": {},
   "source": [
    "### some insights"
   ]
  },
  {
   "cell_type": "markdown",
   "id": "da691872-ed0e-4316-b47d-83c8677e6f53",
   "metadata": {},
   "source": [
    "### Activity 3"
   ]
  },
  {
   "cell_type": "markdown",
   "id": "17f1ae73-5ab3-4879-999f-31100a425ff4",
   "metadata": {},
   "source": [
    "### activity 5"
   ]
  },
  {
   "cell_type": "code",
   "execution_count": null,
   "id": "e0d859de-3ad4-4431-a822-b2cdb88029c0",
   "metadata": {},
   "outputs": [],
   "source": []
  }
 ],
 "metadata": {
  "kernelspec": {
   "display_name": "Python 3 (ipykernel)",
   "language": "python",
   "name": "python3"
  },
  "language_info": {
   "codemirror_mode": {
    "name": "ipython",
    "version": 3
   },
   "file_extension": ".py",
   "mimetype": "text/x-python",
   "name": "python",
   "nbconvert_exporter": "python",
   "pygments_lexer": "ipython3",
   "version": "3.11.5"
  }
 },
 "nbformat": 4,
 "nbformat_minor": 5
}

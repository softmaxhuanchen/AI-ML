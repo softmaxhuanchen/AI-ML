{
 "cells": [
  {
   "cell_type": "markdown",
   "id": "c76754a4-adf9-4d44-8ffd-9fa1459dfa2c",
   "metadata": {},
   "source": [
    "### Review sup vs unsup"
   ]
  },
  {
   "cell_type": "code",
   "execution_count": null,
   "id": "89f865a1-4d09-4d8f-b273-8d31463921be",
   "metadata": {
    "tags": []
   },
   "outputs": [],
   "source": [
    "import pandas as pd\n",
    "from pathlib import Path\n",
    "ccinfo_df = pd.read_csv(\n",
    "    Path(\"Resources/cc_info_default.csv\")\n",
    ")\n",
    "ccinfo_df.head()\n",
    "# ccinfo_df.count()"
   ]
  },
  {
   "cell_type": "markdown",
   "id": "0a801f46-891e-48ad-b4e2-205f661b5127",
   "metadata": {},
   "source": [
    "(4999,7) @matmul (7, 3) = (4999, 3) project down from 7 to 3. project (4999, 7) @(7,100) up to (4999, 100) "
   ]
  },
  {
   "cell_type": "markdown",
   "id": "a8885f89-721d-4e41-893e-0607b8a6bb72",
   "metadata": {},
   "source": [
    "### Time Series\n",
    "- order dependency, can't switch, however we can shift. \n",
    "1. ts1(apple daily sales) -> ts2(apple stock price). we observe ts1 -> ts2, ts1 leading indicator\n",
    "2. ts0 (weather) -> ts1 (production of wheat), ts0 -> ts2 (wheat price). \n",
    "3. (ts1 unknown) -> ts2(we can observe, stock price) decompose, auto corralation, seasonality, cross corralation \n",
    "facebook prophet, \n",
    "sup learning models, rnn, lstm, transformers. "
   ]
  },
  {
   "cell_type": "code",
   "execution_count": null,
   "id": "930cabc6-18d5-46f2-a1de-eedce462766a",
   "metadata": {
    "tags": []
   },
   "outputs": [],
   "source": [
    "import pandas as pd\n",
    "import hvplot.pandas\n",
    "import numpy as np\n",
    "from pathlib import Path"
   ]
  },
  {
   "cell_type": "code",
   "execution_count": null,
   "id": "c41c8ef1-4fee-48af-a211-1a6a18cdc574",
   "metadata": {},
   "outputs": [],
   "source": [
    "# Set the file path\n",
    "file_path = Path(\"Resources/national-home-sales.csv\")"
   ]
  },
  {
   "cell_type": "code",
   "execution_count": null,
   "id": "4d6afcd5-c530-42fb-8610-32ff81dfd1ce",
   "metadata": {},
   "outputs": [],
   "source": [
    "# Load time series data into Pandas\n",
    "df_home_sales = pd.read_csv(file_path, index_col=\"period_end_date\", parse_dates=True)\n",
    "df_home_sales.head(30)\n",
    "\n",
    "# (103, 3)\n"
   ]
  },
  {
   "cell_type": "code",
   "execution_count": null,
   "id": "e840ef78-4811-4b05-bf08-2cbb86e7ce91",
   "metadata": {},
   "outputs": [],
   "source": []
  },
  {
   "cell_type": "markdown",
   "id": "a21a404a-dcb6-4bc7-9258-4297d7126f00",
   "metadata": {},
   "source": [
    "### Activity 1, time zone\n",
    "[Ref](https://docs.python.org/3/library/datetime.html#strftime-strptime-behavior)"
   ]
  },
  {
   "cell_type": "code",
   "execution_count": null,
   "id": "2440b536-928e-4ced-a755-08f4176fe670",
   "metadata": {},
   "outputs": [],
   "source": [
    "# Initial imports\n",
    "import pandas as pd\n",
    "from pathlib import Path"
   ]
  },
  {
   "cell_type": "code",
   "execution_count": null,
   "id": "c41097a8-0a80-47e3-a06f-863461c44029",
   "metadata": {},
   "outputs": [],
   "source": [
    "# Read the new S&P 500 CSV data into a DataFrame\n",
    "df_sp500 = pd.read_csv(\n",
    "    Path(\"Resources/sp500.csv\"),\n",
    "    # parse_dates=['time']\n",
    "    # date_format='%Y-%m-%d %H:%M:%S%z'\n",
    ")\n",
    "\n",
    "# Display the DataFrame\n",
    "df_sp500.head()\n",
    "df_sp500['time'].dtype"
   ]
  },
  {
   "cell_type": "code",
   "execution_count": null,
   "id": "1de33432-13e3-4d9c-a10b-662ddd642451",
   "metadata": {
    "tags": []
   },
   "outputs": [],
   "source": [
    "df_sp500['time'] = pd.to_datetime(\n",
    "    df_sp500['time'])\n",
    "df_sp500['time'].dtype"
   ]
  },
  {
   "cell_type": "code",
   "execution_count": null,
   "id": "8b09d68e-b949-4385-828b-d8b497baf29a",
   "metadata": {
    "tags": []
   },
   "outputs": [],
   "source": [
    "df_sp500['time'] = df_sp500['time'].dt.tz_convert('US/Eastern')\n",
    "df_sp500"
   ]
  },
  {
   "cell_type": "markdown",
   "id": "a61ce3dc-038a-4055-ad15-ccfa37609cbf",
   "metadata": {},
   "source": [
    "### Activity3: Analyzing Market Data Across Time"
   ]
  },
  {
   "cell_type": "code",
   "execution_count": null,
   "id": "7931de19-965b-4e65-98e7-41ce190aaf1e",
   "metadata": {
    "tags": []
   },
   "outputs": [],
   "source": [
    "# Initial imports\n",
    "import pandas as pd\n",
    "from pathlib import Path\n",
    "# Read the new S&P 500 CSV data into a DataFrame\n",
    "df_sp500 = pd.read_csv(\n",
    "    Path(\"Resources/sp500.csv\")\n",
    ")\n",
    "\n",
    "df_sp500.head()"
   ]
  },
  {
   "cell_type": "code",
   "execution_count": null,
   "id": "f843c44c-4de6-43c0-9ff2-f293d451b71d",
   "metadata": {
    "tags": []
   },
   "outputs": [],
   "source": [
    "df_sp500['time'] = pd.to_datetime(df_sp500['time'])\n",
    "df_sp500['time'] = df_sp500['time'].dt.tz_convert('US/Eastern')\n",
    "df_sp500['time'].dtype"
   ]
  },
  {
   "cell_type": "code",
   "execution_count": null,
   "id": "1da25136-1094-46b2-b100-5e3c673e379a",
   "metadata": {
    "tags": []
   },
   "outputs": [],
   "source": [
    "df_sp500.set_index('time', inplace=True)\n"
   ]
  },
  {
   "cell_type": "code",
   "execution_count": null,
   "id": "d30a854b-42c4-4769-a542-f0038d9e8106",
   "metadata": {
    "tags": []
   },
   "outputs": [],
   "source": [
    "df_sp500.index.year\n",
    "df_sp500.index.month\n",
    "df_sp500.index.quarter\n"
   ]
  },
  {
   "cell_type": "code",
   "execution_count": null,
   "id": "560db911-e99b-4363-8e40-0cd696396a50",
   "metadata": {
    "tags": []
   },
   "outputs": [],
   "source": [
    "df_sp500['close'].plot(\n",
    "    title  = 's&p prices',\n",
    "    figsize = [10,5]\n",
    ")"
   ]
  },
  {
   "cell_type": "code",
   "execution_count": null,
   "id": "d7eec83c-5bce-4ba5-b296-e65d7b096b36",
   "metadata": {
    "tags": []
   },
   "outputs": [],
   "source": [
    "df_sp500.loc['2019-06-03'].head(20)"
   ]
  },
  {
   "cell_type": "code",
   "execution_count": null,
   "id": "6fee6543-cca4-41d2-80bd-d9c3bcae7f65",
   "metadata": {
    "tags": []
   },
   "outputs": [],
   "source": [
    "df_sp500.loc['2019-06-03 10:00:00': '2019-06-04 10:00:00'].plot(figsize = [5,3])"
   ]
  },
  {
   "cell_type": "code",
   "execution_count": null,
   "id": "8d8c58fc-221d-4186-a1b9-cd9066900507",
   "metadata": {},
   "outputs": [],
   "source": []
  },
  {
   "cell_type": "markdown",
   "id": "bc4a8c1c-f265-4fc4-9b46-1716e49354af",
   "metadata": {},
   "source": [
    "## Activity 5: Exploring Time Series Data"
   ]
  },
  {
   "cell_type": "code",
   "execution_count": null,
   "id": "66f012e5-e109-4cc0-922c-9e166f95cbd9",
   "metadata": {
    "tags": []
   },
   "outputs": [],
   "source": [
    "import pandas as pd\n",
    "import hvplot.pandas\n",
    "import numpy as np\n",
    "from pathlib import Path"
   ]
  },
  {
   "cell_type": "code",
   "execution_count": null,
   "id": "27ec77b7-95cb-4b75-9b8b-3060a3e2b5c8",
   "metadata": {},
   "outputs": [],
   "source": [
    "# Set the file path\n",
    "file_path = Path(\"Resources/national-home-sales.csv\")"
   ]
  },
  {
   "cell_type": "code",
   "execution_count": null,
   "id": "d99e6c41-f1b7-4b66-9eb3-6080df466023",
   "metadata": {},
   "outputs": [],
   "source": [
    "# Load time series data into Pandas\n",
    "df_home_sales = pd.read_csv(file_path, index_col=\"period_end_date\", parse_dates=True)"
   ]
  },
  {
   "cell_type": "code",
   "execution_count": null,
   "id": "d1751ee5-1561-4aed-9132-056317ee127b",
   "metadata": {},
   "outputs": [],
   "source": [
    "# Display sample data\n",
    "df_home_sales.head(10)"
   ]
  }
 ],
 "metadata": {
  "kernelspec": {
   "display_name": "Python 3 (ipykernel)",
   "language": "python",
   "name": "python3"
  },
  "language_info": {
   "codemirror_mode": {
    "name": "ipython",
    "version": 3
   },
   "file_extension": ".py",
   "mimetype": "text/x-python",
   "name": "python",
   "nbconvert_exporter": "python",
   "pygments_lexer": "ipython3",
   "version": "3.11.5"
  }
 },
 "nbformat": 4,
 "nbformat_minor": 5
}

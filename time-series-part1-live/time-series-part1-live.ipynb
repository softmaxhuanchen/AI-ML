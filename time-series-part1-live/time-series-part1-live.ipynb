{
 "cells": [
  {
   "cell_type": "markdown",
   "id": "c76754a4-adf9-4d44-8ffd-9fa1459dfa2c",
   "metadata": {},
   "source": [
    "### Review sup vs unsup"
   ]
  },
  {
   "cell_type": "code",
   "execution_count": null,
   "id": "89f865a1-4d09-4d8f-b273-8d31463921be",
   "metadata": {
    "tags": []
   },
   "outputs": [],
   "source": [
    "import pandas as pd\n",
    "from pathlib import Path\n",
    "ccinfo_df = pd.read_csv(\n",
    "    Path(\"Resources/cc_info_default.csv\")\n",
    ")\n",
    "ccinfo_df.head()\n",
    "# ccinfo_df.count()"
   ]
  },
  {
   "cell_type": "markdown",
   "id": "a8885f89-721d-4e41-893e-0607b8a6bb72",
   "metadata": {},
   "source": [
    "### Time Series"
   ]
  },
  {
   "cell_type": "code",
   "execution_count": 118,
   "id": "930cabc6-18d5-46f2-a1de-eedce462766a",
   "metadata": {
    "tags": []
   },
   "outputs": [],
   "source": [
    "import pandas as pd\n",
    "import hvplot.pandas\n",
    "import numpy as np\n",
    "from pathlib import Path"
   ]
  },
  {
   "cell_type": "code",
   "execution_count": 119,
   "id": "c41c8ef1-4fee-48af-a211-1a6a18cdc574",
   "metadata": {},
   "outputs": [],
   "source": [
    "# Set the file path\n",
    "file_path = Path(\"Resources/national-home-sales.csv\")"
   ]
  },
  {
   "cell_type": "code",
   "execution_count": 120,
   "id": "4d6afcd5-c530-42fb-8610-32ff81dfd1ce",
   "metadata": {},
   "outputs": [],
   "source": [
    "# Load time series data into Pandas\n",
    "df_home_sales = pd.read_csv(file_path, index_col=\"period_end_date\", parse_dates=True)"
   ]
  },
  {
   "cell_type": "markdown",
   "id": "a21a404a-dcb6-4bc7-9258-4297d7126f00",
   "metadata": {},
   "source": [
    "### Activity 1, time zone\n",
    "[Ref](https://docs.python.org/3/library/datetime.html#strftime-strptime-behavior)"
   ]
  },
  {
   "cell_type": "markdown",
   "id": "e37c16a0-947a-477d-9692-4a5a4fac4230",
   "metadata": {},
   "source": [
    "### Activity3: Analyzing Market Data Across Time"
   ]
  },
  {
   "cell_type": "code",
   "execution_count": null,
   "id": "2440b536-928e-4ced-a755-08f4176fe670",
   "metadata": {},
   "outputs": [],
   "source": [
    "# Initial imports\n",
    "import pandas as pd\n",
    "from pathlib import Path"
   ]
  },
  {
   "cell_type": "code",
   "execution_count": null,
   "id": "c41097a8-0a80-47e3-a06f-863461c44029",
   "metadata": {},
   "outputs": [],
   "source": [
    "# Read the new S&P 500 CSV data into a DataFrame\n",
    "df_sp500 = pd.read_csv(\n",
    "    Path(\"Resources/sp500.csv\")\n",
    ")\n",
    "\n",
    "# Display the DataFrame\n",
    "df_sp500.head()"
   ]
  },
  {
   "cell_type": "markdown",
   "id": "bc4a8c1c-f265-4fc4-9b46-1716e49354af",
   "metadata": {},
   "source": [
    "## Activity 5: Exploring Time Series Data"
   ]
  },
  {
   "cell_type": "code",
   "execution_count": null,
   "id": "66f012e5-e109-4cc0-922c-9e166f95cbd9",
   "metadata": {
    "tags": []
   },
   "outputs": [],
   "source": [
    "import pandas as pd\n",
    "import hvplot.pandas\n",
    "import numpy as np\n",
    "from pathlib import Path"
   ]
  },
  {
   "cell_type": "code",
   "execution_count": null,
   "id": "27ec77b7-95cb-4b75-9b8b-3060a3e2b5c8",
   "metadata": {},
   "outputs": [],
   "source": [
    "# Set the file path\n",
    "file_path = Path(\"Resources/national-home-sales.csv\")"
   ]
  },
  {
   "cell_type": "code",
   "execution_count": null,
   "id": "d99e6c41-f1b7-4b66-9eb3-6080df466023",
   "metadata": {},
   "outputs": [],
   "source": [
    "# Load time series data into Pandas\n",
    "df_home_sales = pd.read_csv(file_path, index_col=\"period_end_date\", parse_dates=True)"
   ]
  },
  {
   "cell_type": "code",
   "execution_count": null,
   "id": "d1751ee5-1561-4aed-9132-056317ee127b",
   "metadata": {},
   "outputs": [],
   "source": [
    "# Display sample data\n",
    "df_home_sales.head(10)"
   ]
  }
 ],
 "metadata": {
  "kernelspec": {
   "display_name": "Python 3 (ipykernel)",
   "language": "python",
   "name": "python3"
  },
  "language_info": {
   "codemirror_mode": {
    "name": "ipython",
    "version": 3
   },
   "file_extension": ".py",
   "mimetype": "text/x-python",
   "name": "python",
   "nbconvert_exporter": "python",
   "pygments_lexer": "ipython3",
   "version": "3.11.5"
  }
 },
 "nbformat": 4,
 "nbformat_minor": 5
}

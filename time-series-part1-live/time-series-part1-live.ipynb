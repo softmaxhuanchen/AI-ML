{
 "cells": [
  {
   "cell_type": "markdown",
   "id": "c76754a4-adf9-4d44-8ffd-9fa1459dfa2c",
   "metadata": {},
   "source": [
    "### Review sup vs unsup"
   ]
  },
  {
   "cell_type": "code",
   "execution_count": null,
   "id": "89f865a1-4d09-4d8f-b273-8d31463921be",
   "metadata": {
    "tags": []
   },
   "outputs": [],
   "source": [
    "import pandas as pd\n",
    "from pathlib import Path\n",
    "ccinfo_df = pd.read_csv(\n",
    "    Path(\"Resources/cc_info_default.csv\")\n",
    ")\n",
    "ccinfo_df.head()\n",
    "# ccinfo_df.count()"
   ]
  },
  {
   "cell_type": "markdown",
   "id": "0a801f46-891e-48ad-b4e2-205f661b5127",
   "metadata": {},
   "source": [
    "(4999,7) @matmul (7, 3) = (4999, 3) project down from 7 to 3. project (4999, 7) @(7,100) up to (4999, 100) "
   ]
  },
  {
   "cell_type": "markdown",
   "id": "a8885f89-721d-4e41-893e-0607b8a6bb72",
   "metadata": {},
   "source": [
    "### Time Series\n",
    "- order dependency, can't switch, however we can shift. \n",
    "1. ts1(apple daily sales) -> ts2(apple stock price). we observe ts1 -> ts2, ts1 leading indicator\n",
    "2. ts0 (weather) -> ts1 (production of wheat), ts0 -> ts2 (wheat price). \n",
    "3. (ts1 unknown) -> ts2(we can observe, stock price) decompose, auto corralation, seasonality, cross corralation \n",
    "facebook prophet, \n",
    "sup learning models, rnn, lstm, transformers. "
   ]
  },
  {
   "cell_type": "code",
   "execution_count": 71,
   "id": "930cabc6-18d5-46f2-a1de-eedce462766a",
   "metadata": {
    "tags": []
   },
   "outputs": [],
   "source": [
    "import pandas as pd\n",
    "import hvplot.pandas\n",
    "import numpy as np\n",
    "from pathlib import Path"
   ]
  },
  {
   "cell_type": "code",
   "execution_count": 72,
   "id": "c41c8ef1-4fee-48af-a211-1a6a18cdc574",
   "metadata": {},
   "outputs": [],
   "source": [
    "# Set the file path\n",
    "file_path = Path(\"Resources/national-home-sales.csv\")"
   ]
  },
  {
   "cell_type": "code",
   "execution_count": 73,
   "id": "4d6afcd5-c530-42fb-8610-32ff81dfd1ce",
   "metadata": {},
   "outputs": [
    {
     "data": {
      "text/html": [
       "<div>\n",
       "<style scoped>\n",
       "    .dataframe tbody tr th:only-of-type {\n",
       "        vertical-align: middle;\n",
       "    }\n",
       "\n",
       "    .dataframe tbody tr th {\n",
       "        vertical-align: top;\n",
       "    }\n",
       "\n",
       "    .dataframe thead th {\n",
       "        text-align: right;\n",
       "    }\n",
       "</style>\n",
       "<table border=\"1\" class=\"dataframe\">\n",
       "  <thead>\n",
       "    <tr style=\"text-align: right;\">\n",
       "      <th></th>\n",
       "      <th>inventory</th>\n",
       "      <th>homes_sold</th>\n",
       "      <th>median_sale_price</th>\n",
       "    </tr>\n",
       "    <tr>\n",
       "      <th>period_end_date</th>\n",
       "      <th></th>\n",
       "      <th></th>\n",
       "      <th></th>\n",
       "    </tr>\n",
       "  </thead>\n",
       "  <tbody>\n",
       "    <tr>\n",
       "      <th>2020-01-01</th>\n",
       "      <td>1250798</td>\n",
       "      <td>377964</td>\n",
       "      <td>289000</td>\n",
       "    </tr>\n",
       "    <tr>\n",
       "      <th>2020-02-01</th>\n",
       "      <td>1265253</td>\n",
       "      <td>405992</td>\n",
       "      <td>294000</td>\n",
       "    </tr>\n",
       "    <tr>\n",
       "      <th>2020-03-01</th>\n",
       "      <td>1316823</td>\n",
       "      <td>507324</td>\n",
       "      <td>303000</td>\n",
       "    </tr>\n",
       "    <tr>\n",
       "      <th>2020-04-01</th>\n",
       "      <td>1297460</td>\n",
       "      <td>436855</td>\n",
       "      <td>304000</td>\n",
       "    </tr>\n",
       "    <tr>\n",
       "      <th>2020-05-01</th>\n",
       "      <td>1289500</td>\n",
       "      <td>421351</td>\n",
       "      <td>299000</td>\n",
       "    </tr>\n",
       "    <tr>\n",
       "      <th>2020-06-01</th>\n",
       "      <td>1219863</td>\n",
       "      <td>587635</td>\n",
       "      <td>310000</td>\n",
       "    </tr>\n",
       "    <tr>\n",
       "      <th>2020-07-01</th>\n",
       "      <td>1165359</td>\n",
       "      <td>700733</td>\n",
       "      <td>323000</td>\n",
       "    </tr>\n",
       "    <tr>\n",
       "      <th>2020-08-01</th>\n",
       "      <td>1066903</td>\n",
       "      <td>652878</td>\n",
       "      <td>328000</td>\n",
       "    </tr>\n",
       "    <tr>\n",
       "      <th>2012-02-01</th>\n",
       "      <td>2078931</td>\n",
       "      <td>304737</td>\n",
       "      <td>160000</td>\n",
       "    </tr>\n",
       "    <tr>\n",
       "      <th>2012-03-01</th>\n",
       "      <td>2120173</td>\n",
       "      <td>394034</td>\n",
       "      <td>171000</td>\n",
       "    </tr>\n",
       "    <tr>\n",
       "      <th>2012-04-01</th>\n",
       "      <td>2155803</td>\n",
       "      <td>404927</td>\n",
       "      <td>178000</td>\n",
       "    </tr>\n",
       "    <tr>\n",
       "      <th>2012-05-01</th>\n",
       "      <td>2163303</td>\n",
       "      <td>464281</td>\n",
       "      <td>186000</td>\n",
       "    </tr>\n",
       "    <tr>\n",
       "      <th>2012-06-01</th>\n",
       "      <td>2145658</td>\n",
       "      <td>487959</td>\n",
       "      <td>194000</td>\n",
       "    </tr>\n",
       "    <tr>\n",
       "      <th>2012-07-01</th>\n",
       "      <td>2109202</td>\n",
       "      <td>451243</td>\n",
       "      <td>192000</td>\n",
       "    </tr>\n",
       "    <tr>\n",
       "      <th>2012-08-01</th>\n",
       "      <td>2048712</td>\n",
       "      <td>485480</td>\n",
       "      <td>190000</td>\n",
       "    </tr>\n",
       "    <tr>\n",
       "      <th>2012-09-01</th>\n",
       "      <td>2010080</td>\n",
       "      <td>392397</td>\n",
       "      <td>187000</td>\n",
       "    </tr>\n",
       "    <tr>\n",
       "      <th>2012-10-01</th>\n",
       "      <td>1936114</td>\n",
       "      <td>423079</td>\n",
       "      <td>185000</td>\n",
       "    </tr>\n",
       "    <tr>\n",
       "      <th>2012-11-01</th>\n",
       "      <td>1823542</td>\n",
       "      <td>398471</td>\n",
       "      <td>189000</td>\n",
       "    </tr>\n",
       "    <tr>\n",
       "      <th>2012-12-01</th>\n",
       "      <td>1666931</td>\n",
       "      <td>391200</td>\n",
       "      <td>193000</td>\n",
       "    </tr>\n",
       "    <tr>\n",
       "      <th>2013-01-01</th>\n",
       "      <td>1680276</td>\n",
       "      <td>311458</td>\n",
       "      <td>180000</td>\n",
       "    </tr>\n",
       "    <tr>\n",
       "      <th>2013-02-01</th>\n",
       "      <td>1715241</td>\n",
       "      <td>322111</td>\n",
       "      <td>181000</td>\n",
       "    </tr>\n",
       "    <tr>\n",
       "      <th>2013-03-01</th>\n",
       "      <td>1758071</td>\n",
       "      <td>419901</td>\n",
       "      <td>193000</td>\n",
       "    </tr>\n",
       "    <tr>\n",
       "      <th>2013-04-01</th>\n",
       "      <td>1842873</td>\n",
       "      <td>459989</td>\n",
       "      <td>199000</td>\n",
       "    </tr>\n",
       "    <tr>\n",
       "      <th>2013-05-01</th>\n",
       "      <td>1911782</td>\n",
       "      <td>534797</td>\n",
       "      <td>209000</td>\n",
       "    </tr>\n",
       "    <tr>\n",
       "      <th>2013-06-01</th>\n",
       "      <td>1953106</td>\n",
       "      <td>526615</td>\n",
       "      <td>219000</td>\n",
       "    </tr>\n",
       "    <tr>\n",
       "      <th>2013-07-01</th>\n",
       "      <td>1983624</td>\n",
       "      <td>548495</td>\n",
       "      <td>220000</td>\n",
       "    </tr>\n",
       "    <tr>\n",
       "      <th>2013-08-01</th>\n",
       "      <td>1984408</td>\n",
       "      <td>537397</td>\n",
       "      <td>217000</td>\n",
       "    </tr>\n",
       "    <tr>\n",
       "      <th>2013-09-01</th>\n",
       "      <td>1990299</td>\n",
       "      <td>448002</td>\n",
       "      <td>210000</td>\n",
       "    </tr>\n",
       "    <tr>\n",
       "      <th>2013-10-01</th>\n",
       "      <td>1963663</td>\n",
       "      <td>447647</td>\n",
       "      <td>210000</td>\n",
       "    </tr>\n",
       "    <tr>\n",
       "      <th>2013-11-01</th>\n",
       "      <td>1863258</td>\n",
       "      <td>384211</td>\n",
       "      <td>208000</td>\n",
       "    </tr>\n",
       "  </tbody>\n",
       "</table>\n",
       "</div>"
      ],
      "text/plain": [
       "                 inventory  homes_sold  median_sale_price\n",
       "period_end_date                                          \n",
       "2020-01-01         1250798      377964             289000\n",
       "2020-02-01         1265253      405992             294000\n",
       "2020-03-01         1316823      507324             303000\n",
       "2020-04-01         1297460      436855             304000\n",
       "2020-05-01         1289500      421351             299000\n",
       "2020-06-01         1219863      587635             310000\n",
       "2020-07-01         1165359      700733             323000\n",
       "2020-08-01         1066903      652878             328000\n",
       "2012-02-01         2078931      304737             160000\n",
       "2012-03-01         2120173      394034             171000\n",
       "2012-04-01         2155803      404927             178000\n",
       "2012-05-01         2163303      464281             186000\n",
       "2012-06-01         2145658      487959             194000\n",
       "2012-07-01         2109202      451243             192000\n",
       "2012-08-01         2048712      485480             190000\n",
       "2012-09-01         2010080      392397             187000\n",
       "2012-10-01         1936114      423079             185000\n",
       "2012-11-01         1823542      398471             189000\n",
       "2012-12-01         1666931      391200             193000\n",
       "2013-01-01         1680276      311458             180000\n",
       "2013-02-01         1715241      322111             181000\n",
       "2013-03-01         1758071      419901             193000\n",
       "2013-04-01         1842873      459989             199000\n",
       "2013-05-01         1911782      534797             209000\n",
       "2013-06-01         1953106      526615             219000\n",
       "2013-07-01         1983624      548495             220000\n",
       "2013-08-01         1984408      537397             217000\n",
       "2013-09-01         1990299      448002             210000\n",
       "2013-10-01         1963663      447647             210000\n",
       "2013-11-01         1863258      384211             208000"
      ]
     },
     "execution_count": 73,
     "metadata": {},
     "output_type": "execute_result"
    }
   ],
   "source": [
    "# Load time series data into Pandas\n",
    "df_home_sales = pd.read_csv(file_path, index_col=\"period_end_date\", parse_dates=True)\n",
    "df_home_sales.head(30)\n",
    "\n",
    "# (103, 3)\n"
   ]
  },
  {
   "cell_type": "code",
   "execution_count": null,
   "id": "e840ef78-4811-4b05-bf08-2cbb86e7ce91",
   "metadata": {},
   "outputs": [],
   "source": []
  },
  {
   "cell_type": "markdown",
   "id": "a21a404a-dcb6-4bc7-9258-4297d7126f00",
   "metadata": {},
   "source": [
    "### Activity 1, time zone\n",
    "[Ref](https://docs.python.org/3/library/datetime.html#strftime-strptime-behavior)"
   ]
  },
  {
   "cell_type": "code",
   "execution_count": null,
   "id": "2440b536-928e-4ced-a755-08f4176fe670",
   "metadata": {},
   "outputs": [],
   "source": [
    "# Initial imports\n",
    "import pandas as pd\n",
    "from pathlib import Path"
   ]
  },
  {
   "cell_type": "code",
   "execution_count": null,
   "id": "c41097a8-0a80-47e3-a06f-863461c44029",
   "metadata": {},
   "outputs": [],
   "source": [
    "# Read the new S&P 500 CSV data into a DataFrame\n",
    "df_sp500 = pd.read_csv(\n",
    "    Path(\"Resources/sp500.csv\"),\n",
    "    # parse_dates=['time']\n",
    "    # date_format='%Y-%m-%d %H:%M:%S%z'\n",
    ")\n",
    "\n",
    "# Display the DataFrame\n",
    "df_sp500.head()\n",
    "df_sp500['time'].dtype"
   ]
  },
  {
   "cell_type": "code",
   "execution_count": null,
   "id": "1de33432-13e3-4d9c-a10b-662ddd642451",
   "metadata": {
    "tags": []
   },
   "outputs": [],
   "source": [
    "df_sp500['time'] = pd.to_datetime(\n",
    "    df_sp500['time'])\n",
    "df_sp500['time'].dtype"
   ]
  },
  {
   "cell_type": "code",
   "execution_count": null,
   "id": "8b09d68e-b949-4385-828b-d8b497baf29a",
   "metadata": {
    "tags": []
   },
   "outputs": [],
   "source": [
    "df_sp500['time'] = df_sp500['time'].dt.tz_convert('US/Eastern')\n",
    "df_sp500"
   ]
  },
  {
   "cell_type": "markdown",
   "id": "a61ce3dc-038a-4055-ad15-ccfa37609cbf",
   "metadata": {},
   "source": [
    "### Activity3: Analyzing Market Data Across Time"
   ]
  },
  {
   "cell_type": "code",
   "execution_count": null,
   "id": "7931de19-965b-4e65-98e7-41ce190aaf1e",
   "metadata": {
    "tags": []
   },
   "outputs": [],
   "source": [
    "# Initial imports\n",
    "import pandas as pd\n",
    "from pathlib import Path\n",
    "# Read the new S&P 500 CSV data into a DataFrame\n",
    "df_sp500 = pd.read_csv(\n",
    "    Path(\"Resources/sp500.csv\")\n",
    ")\n",
    "\n",
    "df_sp500.head()"
   ]
  },
  {
   "cell_type": "code",
   "execution_count": null,
   "id": "f843c44c-4de6-43c0-9ff2-f293d451b71d",
   "metadata": {
    "tags": []
   },
   "outputs": [],
   "source": [
    "df_sp500['time'] = pd.to_datetime(df_sp500['time'])\n",
    "df_sp500['time'] = df_sp500['time'].dt.tz_convert('US/Eastern')\n",
    "df_sp500['time'].dtype"
   ]
  },
  {
   "cell_type": "code",
   "execution_count": null,
   "id": "1da25136-1094-46b2-b100-5e3c673e379a",
   "metadata": {
    "tags": []
   },
   "outputs": [],
   "source": [
    "df_sp500.set_index('time', inplace=True)\n"
   ]
  },
  {
   "cell_type": "code",
   "execution_count": null,
   "id": "d30a854b-42c4-4769-a542-f0038d9e8106",
   "metadata": {
    "tags": []
   },
   "outputs": [],
   "source": [
    "df_sp500.index.year\n",
    "df_sp500.index.month\n",
    "df_sp500.index.quarter\n"
   ]
  },
  {
   "cell_type": "code",
   "execution_count": null,
   "id": "560db911-e99b-4363-8e40-0cd696396a50",
   "metadata": {
    "tags": []
   },
   "outputs": [],
   "source": [
    "df_sp500['close'].plot(\n",
    "    title  = 's&p prices',\n",
    "    figsize = [10,5]\n",
    ")"
   ]
  },
  {
   "cell_type": "code",
   "execution_count": null,
   "id": "d7eec83c-5bce-4ba5-b296-e65d7b096b36",
   "metadata": {
    "tags": []
   },
   "outputs": [],
   "source": [
    "df_sp500.loc['2019-06-03'].head(20)"
   ]
  },
  {
   "cell_type": "code",
   "execution_count": null,
   "id": "6fee6543-cca4-41d2-80bd-d9c3bcae7f65",
   "metadata": {
    "tags": []
   },
   "outputs": [],
   "source": [
    "df_sp500.loc['2019-06-03 10:00:00': '2019-06-04 10:00:00'].plot(figsize = [5,3])"
   ]
  },
  {
   "cell_type": "code",
   "execution_count": null,
   "id": "8d8c58fc-221d-4186-a1b9-cd9066900507",
   "metadata": {},
   "outputs": [],
   "source": []
  },
  {
   "cell_type": "markdown",
   "id": "bc4a8c1c-f265-4fc4-9b46-1716e49354af",
   "metadata": {},
   "source": [
    "## Activity 5: Exploring Time Series Data"
   ]
  },
  {
   "cell_type": "code",
   "execution_count": null,
   "id": "66f012e5-e109-4cc0-922c-9e166f95cbd9",
   "metadata": {
    "tags": []
   },
   "outputs": [],
   "source": [
    "import pandas as pd\n",
    "import hvplot.pandas\n",
    "import numpy as np\n",
    "from pathlib import Path"
   ]
  },
  {
   "cell_type": "code",
   "execution_count": null,
   "id": "27ec77b7-95cb-4b75-9b8b-3060a3e2b5c8",
   "metadata": {},
   "outputs": [],
   "source": [
    "# Set the file path\n",
    "file_path = Path(\"Resources/national-home-sales.csv\")"
   ]
  },
  {
   "cell_type": "code",
   "execution_count": null,
   "id": "d99e6c41-f1b7-4b66-9eb3-6080df466023",
   "metadata": {},
   "outputs": [],
   "source": [
    "# Load time series data into Pandas\n",
    "df_home_sales = pd.read_csv(file_path, index_col=\"period_end_date\", parse_dates=True)"
   ]
  },
  {
   "cell_type": "code",
   "execution_count": null,
   "id": "d1751ee5-1561-4aed-9132-056317ee127b",
   "metadata": {},
   "outputs": [],
   "source": [
    "# Display sample data\n",
    "df_home_sales.head(10)"
   ]
  },
  {
   "cell_type": "code",
   "execution_count": null,
   "id": "0969c4ac-8f52-4a87-ae72-3c14258e0c06",
   "metadata": {
    "tags": []
   },
   "outputs": [],
   "source": [
    "df_home_sales[['inventory','homes_sold','median_sale_price']].plot()"
   ]
  },
  {
   "cell_type": "code",
   "execution_count": null,
   "id": "080ab724-0231-4fd0-ac34-9365442c7e39",
   "metadata": {
    "tags": []
   },
   "outputs": [],
   "source": [
    "df_home_sales.index.dtype"
   ]
  },
  {
   "cell_type": "code",
   "execution_count": null,
   "id": "f20c9dd0-2551-47de-8a90-3ccd0aba5cfc",
   "metadata": {
    "tags": []
   },
   "outputs": [],
   "source": [
    "quarterly_sales = df_home_sales[\"homes_sold\"].groupby(by = [df_home_sales.index.quarter]).sum()\n",
    "type(quarterly_sales)\n",
    "quarterly_sales_df = pd.DataFrame(quarterly_sales)\n",
    "quarterly_sales_df"
   ]
  },
  {
   "cell_type": "code",
   "execution_count": null,
   "id": "f489ad1f-ddba-4657-aa08-c34777070aa2",
   "metadata": {
    "tags": []
   },
   "outputs": [],
   "source": [
    "quarterly_sales_per_year = df_home_sales['homes_sold'].groupby(by = [df_home_sales.index.year, df_home_sales.index.quarter]).sum()\n",
    "type(quarterly_sales_per_year)\n",
    "quarterly_sales_per_year_df = pd.DataFrame(quarterly_sales_per_year)\n",
    "quarterly_sales_per_year_df"
   ]
  },
  {
   "cell_type": "code",
   "execution_count": null,
   "id": "759060c0-38df-4597-a0d2-94df2ba8bd99",
   "metadata": {
    "tags": []
   },
   "outputs": [],
   "source": [
    "quarterly_sales_per_year_df.plot(figsize = [20,10])"
   ]
  },
  {
   "cell_type": "code",
   "execution_count": null,
   "id": "f5aefbdf-03aa-480f-9f1c-94fbba55045d",
   "metadata": {
    "tags": []
   },
   "outputs": [],
   "source": [
    "df_home_sales.hvplot.heatmap(\n",
    "    x = 'index.year',\n",
    "    y = 'index.quarter',\n",
    "    C= 'homes_sold',\n",
    "    cmap = 'blues'\n",
    ").aggregate(function = np.mean)"
   ]
  },
  {
   "cell_type": "code",
   "execution_count": null,
   "id": "a173d748-6bf5-4a34-b095-c936284acf48",
   "metadata": {},
   "outputs": [],
   "source": []
  }
 ],
 "metadata": {
  "kernelspec": {
   "display_name": "Python 3 (ipykernel)",
   "language": "python",
   "name": "python3"
  },
  "language_info": {
   "codemirror_mode": {
    "name": "ipython",
    "version": 3
   },
   "file_extension": ".py",
   "mimetype": "text/x-python",
   "name": "python",
   "nbconvert_exporter": "python",
   "pygments_lexer": "ipython3",
   "version": "3.11.5"
  }
 },
 "nbformat": 4,
 "nbformat_minor": 5
}

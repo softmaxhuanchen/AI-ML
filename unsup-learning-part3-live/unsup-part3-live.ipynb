{
 "cells": [
  {
   "cell_type": "markdown",
   "id": "55d58e1c-a408-48f7-8703-d4c5550fe3c3",
   "metadata": {},
   "source": [
    "### Review \n",
    "### Other clustering algo"
   ]
  },
  {
   "cell_type": "code",
   "execution_count": null,
   "id": "4a19fc58-9c1b-4beb-9fb2-29d457c2667a",
   "metadata": {
    "tags": []
   },
   "outputs": [],
   "source": [
    "import numpy as np\n",
    "np.random.seed(0)\n",
    "import pandas as pd\n",
    "import hvplot.pandas\n",
    "from sklearn import datasets\n",
    "import matplotlib.pyplot as plt"
   ]
  },
  {
   "cell_type": "code",
   "execution_count": null,
   "id": "20d86d4a-28a4-46fd-815d-795a511d0b0e",
   "metadata": {
    "tags": []
   },
   "outputs": [],
   "source": [
    "X, y = datasets.make_moons(n_samples=500, noise=0.05, random_state=1)\n",
    "\n",
    "X.shape\n",
    "\n",
    "y\n"
   ]
  },
  {
   "cell_type": "code",
   "execution_count": null,
   "id": "d70a24f5-64fa-4c14-a322-db3e7169d1f8",
   "metadata": {
    "tags": []
   },
   "outputs": [],
   "source": [
    "plt.scatter(X[:,0], X[:,1], c = y)"
   ]
  },
  {
   "cell_type": "code",
   "execution_count": null,
   "id": "615b5539-bc86-4589-88f4-3e007a4086d3",
   "metadata": {
    "tags": []
   },
   "outputs": [],
   "source": [
    "from sklearn.cluster import KMeans, AgglomerativeClustering, Birch\n",
    "k_model = KMeans(n_clusters=2, random_state=0, n_init=10)\n",
    "k_model.fit(X)\n",
    "p = k_model.predict(X)\n",
    "plt.scatter(X[:,0], X[:,1], c = p)\n"
   ]
  },
  {
   "cell_type": "code",
   "execution_count": null,
   "id": "53cba7c2-6a2f-41dd-adc3-f8e34454376a",
   "metadata": {
    "tags": []
   },
   "outputs": [],
   "source": [
    "# Fit and Predict Birch and Agglomerative models\n",
    "birch_model = Birch(n_clusters=2)\n",
    "birch_model.fit(X)\n",
    "p1= birch_model.predict(X)\n",
    "\n",
    "\n",
    "#Plot\n",
    "plt.scatter(X[:,0], X[:,1], c = p1)"
   ]
  },
  {
   "cell_type": "markdown",
   "id": "a7b758fe-df08-401b-96bd-064bf13c0706",
   "metadata": {},
   "source": [
    "### When do we use birch\n",
    "- big datasets\n",
    "- real time data, cluster dynamically\n",
    "\n"
   ]
  },
  {
   "cell_type": "code",
   "execution_count": null,
   "id": "aa79e4c1-f167-43a5-8908-17b0ce1ea74b",
   "metadata": {
    "tags": []
   },
   "outputs": [],
   "source": [
    "from sklearn.cluster import DBSCAN\n",
    "\n",
    "dbscan_model = DBSCAN(eps=0.3)\n",
    "\n",
    "p2 = dbscan_model.fit_predict(X)\n",
    "\n",
    "plt.scatter(X[:,0], X[:,1], c = p2)"
   ]
  },
  {
   "cell_type": "markdown",
   "id": "08a44783-0b2a-42ca-b286-11f8d590903a",
   "metadata": {},
   "source": [
    "### Activity 1"
   ]
  },
  {
   "cell_type": "markdown",
   "id": "10e38e05-3812-4c63-9f6b-e3aa9d47f273",
   "metadata": {},
   "source": [
    "### Dimension reduction - pca (principal component analysis)"
   ]
  },
  {
   "cell_type": "code",
   "execution_count": null,
   "id": "7bd14bc4-28a7-4fdd-8e9c-cf0de4596953",
   "metadata": {},
   "outputs": [],
   "source": [
    "# Required imports\n",
    "import pandas as pd\n",
    "import hvplot.pandas\n",
    "from pathlib import Path\n",
    "from sklearn.cluster import KMeans"
   ]
  },
  {
   "cell_type": "markdown",
   "id": "a5284921-e62e-402c-9ffc-1cdffef1d52f",
   "metadata": {},
   "source": [
    "## Load the Data Into a Pandas DataFrame"
   ]
  },
  {
   "cell_type": "code",
   "execution_count": 26,
   "id": "56caff5a-30f6-4a12-bd06-7389dc236f8f",
   "metadata": {},
   "outputs": [
    {
     "data": {
      "text/html": [
       "<div>\n",
       "<style scoped>\n",
       "    .dataframe tbody tr th:only-of-type {\n",
       "        vertical-align: middle;\n",
       "    }\n",
       "\n",
       "    .dataframe tbody tr th {\n",
       "        vertical-align: top;\n",
       "    }\n",
       "\n",
       "    .dataframe thead th {\n",
       "        text-align: right;\n",
       "    }\n",
       "</style>\n",
       "<table border=\"1\" class=\"dataframe\">\n",
       "  <thead>\n",
       "    <tr style=\"text-align: right;\">\n",
       "      <th></th>\n",
       "      <th>limit_bal</th>\n",
       "      <th>age</th>\n",
       "      <th>bill_amt</th>\n",
       "      <th>pay_amt</th>\n",
       "      <th>customer_segments</th>\n",
       "    </tr>\n",
       "  </thead>\n",
       "  <tbody>\n",
       "    <tr>\n",
       "      <th>0</th>\n",
       "      <td>-1.117341</td>\n",
       "      <td>24</td>\n",
       "      <td>-0.660703</td>\n",
       "      <td>-0.542779</td>\n",
       "      <td>2</td>\n",
       "    </tr>\n",
       "    <tr>\n",
       "      <th>1</th>\n",
       "      <td>-0.349942</td>\n",
       "      <td>26</td>\n",
       "      <td>-0.636370</td>\n",
       "      <td>-0.463994</td>\n",
       "      <td>2</td>\n",
       "    </tr>\n",
       "    <tr>\n",
       "      <th>2</th>\n",
       "      <td>-0.580162</td>\n",
       "      <td>34</td>\n",
       "      <td>-0.416808</td>\n",
       "      <td>-0.354013</td>\n",
       "      <td>0</td>\n",
       "    </tr>\n",
       "    <tr>\n",
       "      <th>3</th>\n",
       "      <td>-0.887121</td>\n",
       "      <td>37</td>\n",
       "      <td>-0.080152</td>\n",
       "      <td>-0.402077</td>\n",
       "      <td>0</td>\n",
       "    </tr>\n",
       "    <tr>\n",
       "      <th>4</th>\n",
       "      <td>-0.887121</td>\n",
       "      <td>57</td>\n",
       "      <td>-0.396855</td>\n",
       "      <td>0.523771</td>\n",
       "      <td>1</td>\n",
       "    </tr>\n",
       "  </tbody>\n",
       "</table>\n",
       "</div>"
      ],
      "text/plain": [
       "   limit_bal  age  bill_amt   pay_amt  customer_segments\n",
       "0  -1.117341   24 -0.660703 -0.542779                  2\n",
       "1  -0.349942   26 -0.636370 -0.463994                  2\n",
       "2  -0.580162   34 -0.416808 -0.354013                  0\n",
       "3  -0.887121   37 -0.080152 -0.402077                  0\n",
       "4  -0.887121   57 -0.396855  0.523771                  1"
      ]
     },
     "execution_count": 26,
     "metadata": {},
     "output_type": "execute_result"
    }
   ],
   "source": [
    "# Read in the CSV file as a Pandas Dataframe\n",
    "ccinfo_default_df = pd.read_csv(\n",
    "    Path(\"Resources/ccinfo_transformed_no_dummies_only_cust_segm.csv\")\n",
    ")\n",
    "\n",
    "ccinfo_default_df.head()"
   ]
  },
  {
   "cell_type": "code",
   "execution_count": null,
   "id": "977bcb24-7812-4be3-8f45-811cef11551d",
   "metadata": {},
   "outputs": [],
   "source": [
    "# Plot the clusters using the \"limit_bal\" and \"age\" columns\n",
    "ccinfo_default_df.hvplot.scatter(\n",
    "    x=\"limit_bal\",\n",
    "    y=\"age\",\n",
    "    by=\"customer_segments\"\n",
    ")"
   ]
  },
  {
   "cell_type": "code",
   "execution_count": null,
   "id": "7c03f437-1df0-40a9-b671-b9f25d220eb7",
   "metadata": {},
   "outputs": [],
   "source": [
    "# Plot the clusters using the \"bill_amt\" and \"pay_amt\" columns\n",
    "ccinfo_default_df.hvplot.scatter(\n",
    "    x=\"bill_amt\",\n",
    "    y=\"pay_amt\",\n",
    "    by=\"customer_segments\"\n",
    ")"
   ]
  },
  {
   "cell_type": "markdown",
   "id": "2415ddd7-85b3-4d1e-8345-99d187a95b79",
   "metadata": {},
   "source": [
    "## Use PCA to reduce the number of factors "
   ]
  },
  {
   "cell_type": "code",
   "execution_count": null,
   "id": "79ee63e7-ad5f-4e1d-bdea-9bdb2a94050c",
   "metadata": {},
   "outputs": [],
   "source": [
    "# Import Stadardscaler from sklearn.preprocessing\n",
    "from sklearn.preprocessing import StandardScaler\n",
    "from sklearn.decomposition import PCA"
   ]
  },
  {
   "cell_type": "code",
   "execution_count": 27,
   "id": "4ac384be-2d17-4d97-b88e-593c942b0a04",
   "metadata": {
    "tags": []
   },
   "outputs": [],
   "source": [
    "# Remove the Customer Segments variable, add inplace=True\n",
    "ccinfo_default_df.drop(columns='customer_segments', inplace=True)"
   ]
  },
  {
   "cell_type": "markdown",
   "id": "e583886a-2aa6-452a-83b5-09b9691f75ae",
   "metadata": {},
   "source": [
    "## PCA explained variance ratio"
   ]
  },
  {
   "cell_type": "code",
   "execution_count": 28,
   "id": "0208e45c-3ce6-4a26-b320-5ce2d6916596",
   "metadata": {
    "tags": []
   },
   "outputs": [
    {
     "data": {
      "text/plain": [
       "array([[-1.1173411 , -1.22679159, -0.66070266, -0.5427793 ],\n",
       "       [-0.3499424 , -1.01094155, -0.63637003, -0.46399421],\n",
       "       [-0.58016201, -0.14754142, -0.41680786, -0.35401308],\n",
       "       ...,\n",
       "       [ 0.26397655,  1.03963376,  1.1152494 , -0.16349243],\n",
       "       [ 1.10811512,  0.93170874,  3.33813208,  0.76045505],\n",
       "       [-0.04298292,  0.50000868, -0.66917611, -0.4872953 ]])"
      ]
     },
     "execution_count": 28,
     "metadata": {},
     "output_type": "execute_result"
    }
   ],
   "source": [
    "scaler = StandardScaler()\n",
    "ccinfo_default_lst = scaler.b(ccinfo_default_df)\n",
    "ccinfo_default_lst"
   ]
  },
  {
   "cell_type": "code",
   "execution_count": 29,
   "id": "8784a466-952a-4aa2-b4fe-36c76d8cfbf5",
   "metadata": {
    "tags": []
   },
   "outputs": [
    {
     "data": {
      "text/html": [
       "<div>\n",
       "<style scoped>\n",
       "    .dataframe tbody tr th:only-of-type {\n",
       "        vertical-align: middle;\n",
       "    }\n",
       "\n",
       "    .dataframe tbody tr th {\n",
       "        vertical-align: top;\n",
       "    }\n",
       "\n",
       "    .dataframe thead th {\n",
       "        text-align: right;\n",
       "    }\n",
       "</style>\n",
       "<table border=\"1\" class=\"dataframe\">\n",
       "  <thead>\n",
       "    <tr style=\"text-align: right;\">\n",
       "      <th></th>\n",
       "      <th>limit_bal</th>\n",
       "      <th>age</th>\n",
       "      <th>bill_amt</th>\n",
       "      <th>pay_amt</th>\n",
       "    </tr>\n",
       "  </thead>\n",
       "  <tbody>\n",
       "    <tr>\n",
       "      <th>0</th>\n",
       "      <td>-1.117341</td>\n",
       "      <td>-1.226792</td>\n",
       "      <td>-0.660703</td>\n",
       "      <td>-0.542779</td>\n",
       "    </tr>\n",
       "    <tr>\n",
       "      <th>1</th>\n",
       "      <td>-0.349942</td>\n",
       "      <td>-1.010942</td>\n",
       "      <td>-0.636370</td>\n",
       "      <td>-0.463994</td>\n",
       "    </tr>\n",
       "    <tr>\n",
       "      <th>2</th>\n",
       "      <td>-0.580162</td>\n",
       "      <td>-0.147541</td>\n",
       "      <td>-0.416808</td>\n",
       "      <td>-0.354013</td>\n",
       "    </tr>\n",
       "    <tr>\n",
       "      <th>3</th>\n",
       "      <td>-0.887121</td>\n",
       "      <td>0.176234</td>\n",
       "      <td>-0.080152</td>\n",
       "      <td>-0.402077</td>\n",
       "    </tr>\n",
       "    <tr>\n",
       "      <th>4</th>\n",
       "      <td>-0.887121</td>\n",
       "      <td>2.334734</td>\n",
       "      <td>-0.396855</td>\n",
       "      <td>0.523771</td>\n",
       "    </tr>\n",
       "    <tr>\n",
       "      <th>...</th>\n",
       "      <td>...</td>\n",
       "      <td>...</td>\n",
       "      <td>...</td>\n",
       "      <td>...</td>\n",
       "    </tr>\n",
       "    <tr>\n",
       "      <th>4994</th>\n",
       "      <td>-1.117341</td>\n",
       "      <td>0.068309</td>\n",
       "      <td>-0.392558</td>\n",
       "      <td>-0.422089</td>\n",
       "    </tr>\n",
       "    <tr>\n",
       "      <th>4995</th>\n",
       "      <td>0.110497</td>\n",
       "      <td>-0.147541</td>\n",
       "      <td>-0.589218</td>\n",
       "      <td>-0.152107</td>\n",
       "    </tr>\n",
       "    <tr>\n",
       "      <th>4996</th>\n",
       "      <td>0.263977</td>\n",
       "      <td>1.039634</td>\n",
       "      <td>1.115249</td>\n",
       "      <td>-0.163492</td>\n",
       "    </tr>\n",
       "    <tr>\n",
       "      <th>4997</th>\n",
       "      <td>1.108115</td>\n",
       "      <td>0.931709</td>\n",
       "      <td>3.338132</td>\n",
       "      <td>0.760455</td>\n",
       "    </tr>\n",
       "    <tr>\n",
       "      <th>4998</th>\n",
       "      <td>-0.042983</td>\n",
       "      <td>0.500009</td>\n",
       "      <td>-0.669176</td>\n",
       "      <td>-0.487295</td>\n",
       "    </tr>\n",
       "  </tbody>\n",
       "</table>\n",
       "<p>4999 rows × 4 columns</p>\n",
       "</div>"
      ],
      "text/plain": [
       "      limit_bal       age  bill_amt   pay_amt\n",
       "0     -1.117341 -1.226792 -0.660703 -0.542779\n",
       "1     -0.349942 -1.010942 -0.636370 -0.463994\n",
       "2     -0.580162 -0.147541 -0.416808 -0.354013\n",
       "3     -0.887121  0.176234 -0.080152 -0.402077\n",
       "4     -0.887121  2.334734 -0.396855  0.523771\n",
       "...         ...       ...       ...       ...\n",
       "4994  -1.117341  0.068309 -0.392558 -0.422089\n",
       "4995   0.110497 -0.147541 -0.589218 -0.152107\n",
       "4996   0.263977  1.039634  1.115249 -0.163492\n",
       "4997   1.108115  0.931709  3.338132  0.760455\n",
       "4998  -0.042983  0.500009 -0.669176 -0.487295\n",
       "\n",
       "[4999 rows x 4 columns]"
      ]
     },
     "execution_count": 29,
     "metadata": {},
     "output_type": "execute_result"
    }
   ],
   "source": [
    "ccinfo_default_df_scaled = pd.DataFrame(ccinfo_default_lst,columns=ccinfo_default_df.columns)\n",
    "ccinfo_default_df_scaled"
   ]
  },
  {
   "cell_type": "markdown",
   "id": "20858039-a55e-43dc-8140-96903a4f4426",
   "metadata": {},
   "source": [
    "## Creating the PCA DataFrame"
   ]
  },
  {
   "cell_type": "code",
   "execution_count": 30,
   "id": "4ecda34d-bc46-4457-9d79-a5700efb91ef",
   "metadata": {
    "tags": []
   },
   "outputs": [
    {
     "data": {
      "text/plain": [
       "array([[-1.58206442e+00,  9.62349772e-01, -8.13432088e-03],\n",
       "       [-1.03419484e+00,  7.37959636e-01,  3.48956768e-01],\n",
       "       [-7.94360670e-01,  2.99270545e-03, -4.45076232e-02],\n",
       "       ...,\n",
       "       [ 8.88820486e-01, -7.76856084e-01, -9.65751984e-01],\n",
       "       [ 3.07865321e+00, -1.79546893e-02, -2.01104790e+00],\n",
       "       [-5.54318721e-01, -7.26227686e-01,  2.84518572e-01]])"
      ]
     },
     "execution_count": 30,
     "metadata": {},
     "output_type": "execute_result"
    }
   ],
   "source": [
    "pca = PCA(n_components=3)\n",
    "ccinfo_pca = pca.fit_transform(ccinfo_default_df_scaled)\n",
    "ccinfo_pca"
   ]
  },
  {
   "cell_type": "code",
   "execution_count": 32,
   "id": "856c0c43-42cb-43c1-b721-f06857855c73",
   "metadata": {
    "tags": []
   },
   "outputs": [
    {
     "data": {
      "text/plain": [
       "array([[ 0.57570581,  0.221188  ,  0.53865898,  0.57400801],\n",
       "       [-0.05328826, -0.95007948,  0.2313744 ,  0.20242338],\n",
       "       [ 0.50399295, -0.15764597, -0.79422425,  0.30057725]])"
      ]
     },
     "execution_count": 32,
     "metadata": {},
     "output_type": "execute_result"
    }
   ],
   "source": [
    "pca.components_"
   ]
  },
  {
   "cell_type": "code",
   "execution_count": 34,
   "id": "60b7289b-6185-4580-9eec-27eba7d0262f",
   "metadata": {
    "tags": []
   },
   "outputs": [
    {
     "data": {
      "text/html": [
       "<div>\n",
       "<style scoped>\n",
       "    .dataframe tbody tr th:only-of-type {\n",
       "        vertical-align: middle;\n",
       "    }\n",
       "\n",
       "    .dataframe tbody tr th {\n",
       "        vertical-align: top;\n",
       "    }\n",
       "\n",
       "    .dataframe thead th {\n",
       "        text-align: right;\n",
       "    }\n",
       "</style>\n",
       "<table border=\"1\" class=\"dataframe\">\n",
       "  <thead>\n",
       "    <tr style=\"text-align: right;\">\n",
       "      <th></th>\n",
       "      <th>pca1</th>\n",
       "      <th>pca2</th>\n",
       "      <th>pca3</th>\n",
       "    </tr>\n",
       "  </thead>\n",
       "  <tbody>\n",
       "    <tr>\n",
       "      <th>0</th>\n",
       "      <td>-1.582064</td>\n",
       "      <td>0.962350</td>\n",
       "      <td>-0.008134</td>\n",
       "    </tr>\n",
       "    <tr>\n",
       "      <th>1</th>\n",
       "      <td>-1.034195</td>\n",
       "      <td>0.737960</td>\n",
       "      <td>0.348957</td>\n",
       "    </tr>\n",
       "    <tr>\n",
       "      <th>2</th>\n",
       "      <td>-0.794361</td>\n",
       "      <td>0.002993</td>\n",
       "      <td>-0.044508</td>\n",
       "    </tr>\n",
       "    <tr>\n",
       "      <th>3</th>\n",
       "      <td>-0.745710</td>\n",
       "      <td>-0.220098</td>\n",
       "      <td>-0.532082</td>\n",
       "    </tr>\n",
       "    <tr>\n",
       "      <th>4</th>\n",
       "      <td>0.092573</td>\n",
       "      <td>-2.156708</td>\n",
       "      <td>-0.342539</td>\n",
       "    </tr>\n",
       "    <tr>\n",
       "      <th>...</th>\n",
       "      <td>...</td>\n",
       "      <td>...</td>\n",
       "      <td>...</td>\n",
       "    </tr>\n",
       "    <tr>\n",
       "      <th>4994</th>\n",
       "      <td>-1.081888</td>\n",
       "      <td>-0.181626</td>\n",
       "      <td>-0.388992</td>\n",
       "    </tr>\n",
       "    <tr>\n",
       "      <th>4995</th>\n",
       "      <td>-0.373719</td>\n",
       "      <td>-0.032832</td>\n",
       "      <td>0.501200</td>\n",
       "    </tr>\n",
       "    <tr>\n",
       "      <th>4996</th>\n",
       "      <td>0.888820</td>\n",
       "      <td>-0.776856</td>\n",
       "      <td>-0.965752</td>\n",
       "    </tr>\n",
       "    <tr>\n",
       "      <th>4997</th>\n",
       "      <td>3.078653</td>\n",
       "      <td>-0.017955</td>\n",
       "      <td>-2.011048</td>\n",
       "    </tr>\n",
       "    <tr>\n",
       "      <th>4998</th>\n",
       "      <td>-0.554319</td>\n",
       "      <td>-0.726228</td>\n",
       "      <td>0.284519</td>\n",
       "    </tr>\n",
       "  </tbody>\n",
       "</table>\n",
       "<p>4999 rows × 3 columns</p>\n",
       "</div>"
      ],
      "text/plain": [
       "          pca1      pca2      pca3\n",
       "0    -1.582064  0.962350 -0.008134\n",
       "1    -1.034195  0.737960  0.348957\n",
       "2    -0.794361  0.002993 -0.044508\n",
       "3    -0.745710 -0.220098 -0.532082\n",
       "4     0.092573 -2.156708 -0.342539\n",
       "...        ...       ...       ...\n",
       "4994 -1.081888 -0.181626 -0.388992\n",
       "4995 -0.373719 -0.032832  0.501200\n",
       "4996  0.888820 -0.776856 -0.965752\n",
       "4997  3.078653 -0.017955 -2.011048\n",
       "4998 -0.554319 -0.726228  0.284519\n",
       "\n",
       "[4999 rows x 3 columns]"
      ]
     },
     "execution_count": 34,
     "metadata": {},
     "output_type": "execute_result"
    }
   ],
   "source": [
    "pca.explained_variance_ratio_\n",
    "# Create the PCA DataFrame\n",
    "ccinfo_pca_df = pd.DataFrame(ccinfo_pca, columns= ['pca1','pca2','pca3'])\n",
    "\n",
    "# Review the PCA DataFrame\n",
    "ccinfo_pca_df"
   ]
  },
  {
   "cell_type": "markdown",
   "id": "33762c81-1151-44c4-8b27-8d0cbfe7b844",
   "metadata": {},
   "source": [
    "## Incorporating the PCA DataFrame into the elbow method"
   ]
  },
  {
   "cell_type": "code",
   "execution_count": 36,
   "id": "d644fb33-457c-49a6-aa18-8041ef64b500",
   "metadata": {
    "tags": []
   },
   "outputs": [
    {
     "data": {},
     "metadata": {},
     "output_type": "display_data"
    },
    {
     "data": {
      "application/vnd.holoviews_exec.v0+json": "",
      "text/html": [
       "<div id='p1200'>\n",
       "  <div id=\"c43919a2-fda7-45ca-b2bf-ecc228c73a3e\" data-root-id=\"p1200\" style=\"display: contents;\"></div>\n",
       "</div>\n",
       "<script type=\"application/javascript\">(function(root) {\n",
       "  var docs_json = {\"93db91ea-e4a6-466a-bd83-aa0662aa36b6\":{\"version\":\"3.2.1\",\"title\":\"Bokeh Application\",\"roots\":[{\"type\":\"object\",\"name\":\"Row\",\"id\":\"p1200\",\"attributes\":{\"name\":\"Row01283\",\"tags\":[\"embedded\"],\"stylesheets\":[\"\\n:host(.pn-loading.pn-arc):before, .pn-loading.pn-arc:before {\\n  background-image: url(\\\"data:image/svg+xml;base64,PHN2ZyB4bWxucz0iaHR0cDovL3d3dy53My5vcmcvMjAwMC9zdmciIHN0eWxlPSJtYXJnaW46IGF1dG87IGJhY2tncm91bmQ6IG5vbmU7IGRpc3BsYXk6IGJsb2NrOyBzaGFwZS1yZW5kZXJpbmc6IGF1dG87IiB2aWV3Qm94PSIwIDAgMTAwIDEwMCIgcHJlc2VydmVBc3BlY3RSYXRpbz0ieE1pZFlNaWQiPiAgPGNpcmNsZSBjeD0iNTAiIGN5PSI1MCIgZmlsbD0ibm9uZSIgc3Ryb2tlPSIjYzNjM2MzIiBzdHJva2Utd2lkdGg9IjEwIiByPSIzNSIgc3Ryb2tlLWRhc2hhcnJheT0iMTY0LjkzMzYxNDMxMzQ2NDE1IDU2Ljk3Nzg3MTQzNzgyMTM4Ij4gICAgPGFuaW1hdGVUcmFuc2Zvcm0gYXR0cmlidXRlTmFtZT0idHJhbnNmb3JtIiB0eXBlPSJyb3RhdGUiIHJlcGVhdENvdW50PSJpbmRlZmluaXRlIiBkdXI9IjFzIiB2YWx1ZXM9IjAgNTAgNTA7MzYwIDUwIDUwIiBrZXlUaW1lcz0iMDsxIj48L2FuaW1hdGVUcmFuc2Zvcm0+ICA8L2NpcmNsZT48L3N2Zz4=\\\");\\n  background-size: auto calc(min(50%, 400px));\\n}\",{\"type\":\"object\",\"name\":\"ImportedStyleSheet\",\"id\":\"p1203\",\"attributes\":{\"url\":\"https://cdn.holoviz.org/panel/1.2.3/dist/css/loading.css\"}},{\"type\":\"object\",\"name\":\"ImportedStyleSheet\",\"id\":\"p1256\",\"attributes\":{\"url\":\"https://cdn.holoviz.org/panel/1.2.3/dist/css/listpanel.css\"}},{\"type\":\"object\",\"name\":\"ImportedStyleSheet\",\"id\":\"p1201\",\"attributes\":{\"url\":\"https://cdn.holoviz.org/panel/1.2.3/dist/bundled/theme/default.css\"}},{\"type\":\"object\",\"name\":\"ImportedStyleSheet\",\"id\":\"p1202\",\"attributes\":{\"url\":\"https://cdn.holoviz.org/panel/1.2.3/dist/bundled/theme/native.css\"}}],\"min_width\":700,\"margin\":0,\"sizing_mode\":\"stretch_width\",\"align\":\"start\",\"children\":[{\"type\":\"object\",\"name\":\"Spacer\",\"id\":\"p1204\",\"attributes\":{\"name\":\"HSpacer01294\",\"stylesheets\":[\"\\n:host(.pn-loading.pn-arc):before, .pn-loading.pn-arc:before {\\n  background-image: url(\\\"data:image/svg+xml;base64,PHN2ZyB4bWxucz0iaHR0cDovL3d3dy53My5vcmcvMjAwMC9zdmciIHN0eWxlPSJtYXJnaW46IGF1dG87IGJhY2tncm91bmQ6IG5vbmU7IGRpc3BsYXk6IGJsb2NrOyBzaGFwZS1yZW5kZXJpbmc6IGF1dG87IiB2aWV3Qm94PSIwIDAgMTAwIDEwMCIgcHJlc2VydmVBc3BlY3RSYXRpbz0ieE1pZFlNaWQiPiAgPGNpcmNsZSBjeD0iNTAiIGN5PSI1MCIgZmlsbD0ibm9uZSIgc3Ryb2tlPSIjYzNjM2MzIiBzdHJva2Utd2lkdGg9IjEwIiByPSIzNSIgc3Ryb2tlLWRhc2hhcnJheT0iMTY0LjkzMzYxNDMxMzQ2NDE1IDU2Ljk3Nzg3MTQzNzgyMTM4Ij4gICAgPGFuaW1hdGVUcmFuc2Zvcm0gYXR0cmlidXRlTmFtZT0idHJhbnNmb3JtIiB0eXBlPSJyb3RhdGUiIHJlcGVhdENvdW50PSJpbmRlZmluaXRlIiBkdXI9IjFzIiB2YWx1ZXM9IjAgNTAgNTA7MzYwIDUwIDUwIiBrZXlUaW1lcz0iMDsxIj48L2FuaW1hdGVUcmFuc2Zvcm0+ICA8L2NpcmNsZT48L3N2Zz4=\\\");\\n  background-size: auto calc(min(50%, 400px));\\n}\",{\"id\":\"p1203\"},{\"id\":\"p1201\"},{\"id\":\"p1202\"}],\"margin\":0,\"sizing_mode\":\"stretch_width\",\"align\":\"start\"}},{\"type\":\"object\",\"name\":\"Figure\",\"id\":\"p1212\",\"attributes\":{\"width\":700,\"height\":300,\"margin\":[5,10],\"sizing_mode\":\"fixed\",\"align\":\"start\",\"x_range\":{\"type\":\"object\",\"name\":\"Range1d\",\"id\":\"p1205\",\"attributes\":{\"tags\":[[[\"k\",\"k\",null]],[]],\"start\":1.0,\"end\":10.0,\"reset_start\":1.0,\"reset_end\":10.0}},\"y_range\":{\"type\":\"object\",\"name\":\"Range1d\",\"id\":\"p1206\",\"attributes\":{\"tags\":[[[\"inertia\",\"inertia\",null]],{\"type\":\"map\",\"entries\":[[\"invert_yaxis\",false],[\"autorange\",false]]}],\"start\":2148.195537584314,\"end\":18419.133422015122,\"reset_start\":2148.195537584314,\"reset_end\":18419.133422015122}},\"x_scale\":{\"type\":\"object\",\"name\":\"LinearScale\",\"id\":\"p1222\"},\"y_scale\":{\"type\":\"object\",\"name\":\"LinearScale\",\"id\":\"p1223\"},\"title\":{\"type\":\"object\",\"name\":\"Title\",\"id\":\"p1215\",\"attributes\":{\"text\":\"Elbow Curve\",\"text_color\":\"black\",\"text_font_size\":\"12pt\"}},\"renderers\":[{\"type\":\"object\",\"name\":\"GlyphRenderer\",\"id\":\"p1248\",\"attributes\":{\"data_source\":{\"type\":\"object\",\"name\":\"ColumnDataSource\",\"id\":\"p1239\",\"attributes\":{\"selected\":{\"type\":\"object\",\"name\":\"Selection\",\"id\":\"p1240\",\"attributes\":{\"indices\":[],\"line_indices\":[]}},\"selection_policy\":{\"type\":\"object\",\"name\":\"UnionRenderers\",\"id\":\"p1241\"},\"data\":{\"type\":\"map\",\"entries\":[[\"k\",{\"type\":\"ndarray\",\"array\":{\"type\":\"bytes\",\"data\":\"AQAAAAIAAAADAAAABAAAAAUAAAAGAAAABwAAAAgAAAAJAAAACgAAAA==\"},\"shape\":[10],\"dtype\":\"int32\",\"order\":\"little\"}],[\"inertia\",{\"type\":\"ndarray\",\"array\":{\"type\":\"bytes\",\"data\":\"QsogNM6p0ECrVEQwpwXHQP60h3TYzMBAkCxsCclAu0AMmmMyEDe3QPNxyyyzRbRAemo/iSwdskB8bAPFGDuwQN/Vb3NvmK1AfjBezDZgq0A=\"},\"shape\":[10],\"dtype\":\"float64\",\"order\":\"little\"}]]}}},\"view\":{\"type\":\"object\",\"name\":\"CDSView\",\"id\":\"p1249\",\"attributes\":{\"filter\":{\"type\":\"object\",\"name\":\"AllIndices\",\"id\":\"p1250\"}}},\"glyph\":{\"type\":\"object\",\"name\":\"Line\",\"id\":\"p1245\",\"attributes\":{\"tags\":[\"apply_ranges\"],\"x\":{\"type\":\"field\",\"field\":\"k\"},\"y\":{\"type\":\"field\",\"field\":\"inertia\"},\"line_color\":\"#30a2da\",\"line_width\":2}},\"selection_glyph\":{\"type\":\"object\",\"name\":\"Line\",\"id\":\"p1251\",\"attributes\":{\"tags\":[\"apply_ranges\"],\"x\":{\"type\":\"field\",\"field\":\"k\"},\"y\":{\"type\":\"field\",\"field\":\"inertia\"},\"line_color\":\"#30a2da\",\"line_width\":2}},\"nonselection_glyph\":{\"type\":\"object\",\"name\":\"Line\",\"id\":\"p1246\",\"attributes\":{\"tags\":[\"apply_ranges\"],\"x\":{\"type\":\"field\",\"field\":\"k\"},\"y\":{\"type\":\"field\",\"field\":\"inertia\"},\"line_color\":\"#30a2da\",\"line_alpha\":0.1,\"line_width\":2}},\"muted_glyph\":{\"type\":\"object\",\"name\":\"Line\",\"id\":\"p1247\",\"attributes\":{\"tags\":[\"apply_ranges\"],\"x\":{\"type\":\"field\",\"field\":\"k\"},\"y\":{\"type\":\"field\",\"field\":\"inertia\"},\"line_color\":\"#30a2da\",\"line_alpha\":0.2,\"line_width\":2}}}}],\"toolbar\":{\"type\":\"object\",\"name\":\"Toolbar\",\"id\":\"p1221\",\"attributes\":{\"tools\":[{\"type\":\"object\",\"name\":\"WheelZoomTool\",\"id\":\"p1210\",\"attributes\":{\"tags\":[\"hv_created\"],\"zoom_together\":\"none\"}},{\"type\":\"object\",\"name\":\"HoverTool\",\"id\":\"p1211\",\"attributes\":{\"tags\":[\"hv_created\"],\"renderers\":[{\"id\":\"p1248\"}],\"tooltips\":[[\"k\",\"@{k}\"],[\"inertia\",\"@{inertia}\"]]}},{\"type\":\"object\",\"name\":\"SaveTool\",\"id\":\"p1234\"},{\"type\":\"object\",\"name\":\"PanTool\",\"id\":\"p1235\"},{\"type\":\"object\",\"name\":\"BoxZoomTool\",\"id\":\"p1236\",\"attributes\":{\"overlay\":{\"type\":\"object\",\"name\":\"BoxAnnotation\",\"id\":\"p1237\",\"attributes\":{\"syncable\":false,\"level\":\"overlay\",\"visible\":false,\"left_units\":\"canvas\",\"right_units\":\"canvas\",\"bottom_units\":\"canvas\",\"top_units\":\"canvas\",\"line_color\":\"black\",\"line_alpha\":1.0,\"line_width\":2,\"line_dash\":[4,4],\"fill_color\":\"lightgrey\",\"fill_alpha\":0.5}}}},{\"type\":\"object\",\"name\":\"ResetTool\",\"id\":\"p1238\"}],\"active_drag\":{\"id\":\"p1235\"},\"active_scroll\":{\"id\":\"p1210\"}}},\"left\":[{\"type\":\"object\",\"name\":\"LinearAxis\",\"id\":\"p1229\",\"attributes\":{\"ticker\":{\"type\":\"object\",\"name\":\"BasicTicker\",\"id\":\"p1230\",\"attributes\":{\"mantissas\":[1,2,5]}},\"formatter\":{\"type\":\"object\",\"name\":\"BasicTickFormatter\",\"id\":\"p1231\"},\"axis_label\":\"inertia\",\"major_label_policy\":{\"type\":\"object\",\"name\":\"AllLabels\",\"id\":\"p1232\"}}}],\"below\":[{\"type\":\"object\",\"name\":\"LinearAxis\",\"id\":\"p1224\",\"attributes\":{\"ticker\":{\"type\":\"object\",\"name\":\"FixedTicker\",\"id\":\"p1252\",\"attributes\":{\"ticks\":[1,2,3,4,5,6,7,8,9,10],\"minor_ticks\":[]}},\"formatter\":{\"type\":\"object\",\"name\":\"BasicTickFormatter\",\"id\":\"p1226\"},\"axis_label\":\"k\",\"major_label_policy\":{\"type\":\"object\",\"name\":\"AllLabels\",\"id\":\"p1227\"}}}],\"center\":[{\"type\":\"object\",\"name\":\"Grid\",\"id\":\"p1228\",\"attributes\":{\"axis\":{\"id\":\"p1224\"},\"grid_line_color\":null}},{\"type\":\"object\",\"name\":\"Grid\",\"id\":\"p1233\",\"attributes\":{\"dimension\":1,\"axis\":{\"id\":\"p1229\"},\"grid_line_color\":null}}],\"min_border_top\":10,\"min_border_bottom\":10,\"min_border_left\":10,\"min_border_right\":10,\"output_backend\":\"webgl\"}},{\"type\":\"object\",\"name\":\"Spacer\",\"id\":\"p1254\",\"attributes\":{\"name\":\"HSpacer01297\",\"stylesheets\":[\"\\n:host(.pn-loading.pn-arc):before, .pn-loading.pn-arc:before {\\n  background-image: url(\\\"data:image/svg+xml;base64,PHN2ZyB4bWxucz0iaHR0cDovL3d3dy53My5vcmcvMjAwMC9zdmciIHN0eWxlPSJtYXJnaW46IGF1dG87IGJhY2tncm91bmQ6IG5vbmU7IGRpc3BsYXk6IGJsb2NrOyBzaGFwZS1yZW5kZXJpbmc6IGF1dG87IiB2aWV3Qm94PSIwIDAgMTAwIDEwMCIgcHJlc2VydmVBc3BlY3RSYXRpbz0ieE1pZFlNaWQiPiAgPGNpcmNsZSBjeD0iNTAiIGN5PSI1MCIgZmlsbD0ibm9uZSIgc3Ryb2tlPSIjYzNjM2MzIiBzdHJva2Utd2lkdGg9IjEwIiByPSIzNSIgc3Ryb2tlLWRhc2hhcnJheT0iMTY0LjkzMzYxNDMxMzQ2NDE1IDU2Ljk3Nzg3MTQzNzgyMTM4Ij4gICAgPGFuaW1hdGVUcmFuc2Zvcm0gYXR0cmlidXRlTmFtZT0idHJhbnNmb3JtIiB0eXBlPSJyb3RhdGUiIHJlcGVhdENvdW50PSJpbmRlZmluaXRlIiBkdXI9IjFzIiB2YWx1ZXM9IjAgNTAgNTA7MzYwIDUwIDUwIiBrZXlUaW1lcz0iMDsxIj48L2FuaW1hdGVUcmFuc2Zvcm0+ICA8L2NpcmNsZT48L3N2Zz4=\\\");\\n  background-size: auto calc(min(50%, 400px));\\n}\",{\"id\":\"p1203\"},{\"id\":\"p1201\"},{\"id\":\"p1202\"}],\"margin\":0,\"sizing_mode\":\"stretch_width\",\"align\":\"start\"}}]}}],\"defs\":[{\"type\":\"model\",\"name\":\"ReactiveHTML1\"},{\"type\":\"model\",\"name\":\"FlexBox1\",\"properties\":[{\"name\":\"align_content\",\"kind\":\"Any\",\"default\":\"flex-start\"},{\"name\":\"align_items\",\"kind\":\"Any\",\"default\":\"flex-start\"},{\"name\":\"flex_direction\",\"kind\":\"Any\",\"default\":\"row\"},{\"name\":\"flex_wrap\",\"kind\":\"Any\",\"default\":\"wrap\"},{\"name\":\"justify_content\",\"kind\":\"Any\",\"default\":\"flex-start\"}]},{\"type\":\"model\",\"name\":\"FloatPanel1\",\"properties\":[{\"name\":\"config\",\"kind\":\"Any\",\"default\":{\"type\":\"map\"}},{\"name\":\"contained\",\"kind\":\"Any\",\"default\":true},{\"name\":\"position\",\"kind\":\"Any\",\"default\":\"right-top\"},{\"name\":\"offsetx\",\"kind\":\"Any\",\"default\":null},{\"name\":\"offsety\",\"kind\":\"Any\",\"default\":null},{\"name\":\"theme\",\"kind\":\"Any\",\"default\":\"primary\"},{\"name\":\"status\",\"kind\":\"Any\",\"default\":\"normalized\"}]},{\"type\":\"model\",\"name\":\"GridStack1\",\"properties\":[{\"name\":\"mode\",\"kind\":\"Any\",\"default\":\"warn\"},{\"name\":\"ncols\",\"kind\":\"Any\",\"default\":null},{\"name\":\"nrows\",\"kind\":\"Any\",\"default\":null},{\"name\":\"allow_resize\",\"kind\":\"Any\",\"default\":true},{\"name\":\"allow_drag\",\"kind\":\"Any\",\"default\":true},{\"name\":\"state\",\"kind\":\"Any\",\"default\":[]}]},{\"type\":\"model\",\"name\":\"drag1\",\"properties\":[{\"name\":\"slider_width\",\"kind\":\"Any\",\"default\":5},{\"name\":\"slider_color\",\"kind\":\"Any\",\"default\":\"black\"},{\"name\":\"value\",\"kind\":\"Any\",\"default\":50}]},{\"type\":\"model\",\"name\":\"click1\",\"properties\":[{\"name\":\"terminal_output\",\"kind\":\"Any\",\"default\":\"\"},{\"name\":\"debug_name\",\"kind\":\"Any\",\"default\":\"\"},{\"name\":\"clears\",\"kind\":\"Any\",\"default\":0}]},{\"type\":\"model\",\"name\":\"FastWrapper1\",\"properties\":[{\"name\":\"object\",\"kind\":\"Any\",\"default\":null},{\"name\":\"style\",\"kind\":\"Any\",\"default\":null}]},{\"type\":\"model\",\"name\":\"NotificationAreaBase1\",\"properties\":[{\"name\":\"js_events\",\"kind\":\"Any\",\"default\":{\"type\":\"map\"}},{\"name\":\"position\",\"kind\":\"Any\",\"default\":\"bottom-right\"},{\"name\":\"_clear\",\"kind\":\"Any\",\"default\":0}]},{\"type\":\"model\",\"name\":\"NotificationArea1\",\"properties\":[{\"name\":\"js_events\",\"kind\":\"Any\",\"default\":{\"type\":\"map\"}},{\"name\":\"notifications\",\"kind\":\"Any\",\"default\":[]},{\"name\":\"position\",\"kind\":\"Any\",\"default\":\"bottom-right\"},{\"name\":\"_clear\",\"kind\":\"Any\",\"default\":0},{\"name\":\"types\",\"kind\":\"Any\",\"default\":[{\"type\":\"map\",\"entries\":[[\"type\",\"warning\"],[\"background\",\"#ffc107\"],[\"icon\",{\"type\":\"map\",\"entries\":[[\"className\",\"fas fa-exclamation-triangle\"],[\"tagName\",\"i\"],[\"color\",\"white\"]]}]]},{\"type\":\"map\",\"entries\":[[\"type\",\"info\"],[\"background\",\"#007bff\"],[\"icon\",{\"type\":\"map\",\"entries\":[[\"className\",\"fas fa-info-circle\"],[\"tagName\",\"i\"],[\"color\",\"white\"]]}]]}]}]},{\"type\":\"model\",\"name\":\"Notification\",\"properties\":[{\"name\":\"background\",\"kind\":\"Any\",\"default\":null},{\"name\":\"duration\",\"kind\":\"Any\",\"default\":3000},{\"name\":\"icon\",\"kind\":\"Any\",\"default\":null},{\"name\":\"message\",\"kind\":\"Any\",\"default\":\"\"},{\"name\":\"notification_type\",\"kind\":\"Any\",\"default\":null},{\"name\":\"_destroyed\",\"kind\":\"Any\",\"default\":false}]},{\"type\":\"model\",\"name\":\"TemplateActions1\",\"properties\":[{\"name\":\"open_modal\",\"kind\":\"Any\",\"default\":0},{\"name\":\"close_modal\",\"kind\":\"Any\",\"default\":0}]},{\"type\":\"model\",\"name\":\"BootstrapTemplateActions1\",\"properties\":[{\"name\":\"open_modal\",\"kind\":\"Any\",\"default\":0},{\"name\":\"close_modal\",\"kind\":\"Any\",\"default\":0}]},{\"type\":\"model\",\"name\":\"MaterialTemplateActions1\",\"properties\":[{\"name\":\"open_modal\",\"kind\":\"Any\",\"default\":0},{\"name\":\"close_modal\",\"kind\":\"Any\",\"default\":0}]}]}};\n",
       "  var render_items = [{\"docid\":\"93db91ea-e4a6-466a-bd83-aa0662aa36b6\",\"roots\":{\"p1200\":\"c43919a2-fda7-45ca-b2bf-ecc228c73a3e\"},\"root_ids\":[\"p1200\"]}];\n",
       "  var docs = Object.values(docs_json)\n",
       "  if (!docs) {\n",
       "    return\n",
       "  }\n",
       "  const py_version = docs[0].version.replace('rc', '-rc.').replace('.dev', '-dev.')\n",
       "  const is_dev = py_version.indexOf(\"+\") !== -1 || py_version.indexOf(\"-\") !== -1\n",
       "  function embed_document(root) {\n",
       "    var Bokeh = get_bokeh(root)\n",
       "    Bokeh.embed.embed_items_notebook(docs_json, render_items);\n",
       "    for (const render_item of render_items) {\n",
       "      for (const root_id of render_item.root_ids) {\n",
       "\tconst id_el = document.getElementById(root_id)\n",
       "\tif (id_el.children.length && (id_el.children[0].className === 'bk-root')) {\n",
       "\t  const root_el = id_el.children[0]\n",
       "\t  root_el.id = root_el.id + '-rendered'\n",
       "\t}\n",
       "      }\n",
       "    }\n",
       "  }\n",
       "  function get_bokeh(root) {\n",
       "    if (root.Bokeh === undefined) {\n",
       "      return null\n",
       "    } else if (root.Bokeh.version !== py_version && !is_dev) {\n",
       "      if (root.Bokeh.versions === undefined || !root.Bokeh.versions.has(py_version)) {\n",
       "\treturn null\n",
       "      }\n",
       "      return root.Bokeh.versions.get(py_version);\n",
       "    } else if (root.Bokeh.version === py_version) {\n",
       "      return root.Bokeh\n",
       "    }\n",
       "    return null\n",
       "  }\n",
       "  function is_loaded(root) {\n",
       "    var Bokeh = get_bokeh(root)\n",
       "    return (Bokeh != null && Bokeh.Panel !== undefined)\n",
       "  }\n",
       "  if (is_loaded(root)) {\n",
       "    embed_document(root);\n",
       "  } else {\n",
       "    var attempts = 0;\n",
       "    var timer = setInterval(function(root) {\n",
       "      if (is_loaded(root)) {\n",
       "        clearInterval(timer);\n",
       "        embed_document(root);\n",
       "      } else if (document.readyState == \"complete\") {\n",
       "        attempts++;\n",
       "        if (attempts > 200) {\n",
       "          clearInterval(timer);\n",
       "\t  var Bokeh = get_bokeh(root)\n",
       "\t  if (Bokeh == null || Bokeh.Panel == null) {\n",
       "            console.warn(\"Panel: ERROR: Unable to run Panel code because Bokeh or Panel library is missing\");\n",
       "\t  } else {\n",
       "\t    console.warn(\"Panel: WARNING: Attempting to render but not all required libraries could be resolved.\")\n",
       "\t    embed_document(root)\n",
       "\t  }\n",
       "        }\n",
       "      }\n",
       "    }, 25, root)\n",
       "  }\n",
       "})(window);</script>"
      ],
      "text/plain": [
       ":Curve   [k]   (inertia)"
      ]
     },
     "execution_count": 36,
     "metadata": {
      "application/vnd.holoviews_exec.v0+json": {
       "id": "p1200"
      }
     },
     "output_type": "execute_result"
    }
   ],
   "source": [
    "# Create a a list to store inertia values and the values of k\n",
    "inertia = []\n",
    "k = list(range(1,11))\n",
    "\n",
    "# Append the value of the computed inertia from the `inertia_` attribute of teh KMeans model instance\n",
    "for i in k:\n",
    "    k_model = KMeans(n_clusters=i, random_state=1, n_init=10)\n",
    "    k_model.fit(ccinfo_pca_df)\n",
    "    inertia += [k_model.inertia_]\n",
    "\n",
    "# Define a DataFrame to hold the values for k and the corresponding inertia\n",
    "elbow_data = {'k':k, 'inertia':inertia}\n",
    "df_elbow = pd.DataFrame(elbow_data)\n",
    "\n",
    "# Review the DataFrame\n",
    "df_elbow\n",
    "# Plot the Elbow Curve\n",
    "df_elbow.hvplot.line(x = 'k', y = 'inertia', title='Elbow Curve', xticks = k)"
   ]
  },
  {
   "cell_type": "markdown",
   "id": "25980955-c7ae-4f27-8b74-8a3a82c0dacf",
   "metadata": {},
   "source": [
    "## Segmention of the PCA data with Kmeans "
   ]
  },
  {
   "cell_type": "code",
   "execution_count": 37,
   "id": "be95f71d-4a50-4a52-98ce-bce76aadf5f3",
   "metadata": {
    "tags": []
   },
   "outputs": [
    {
     "data": {},
     "metadata": {},
     "output_type": "display_data"
    },
    {
     "data": {
      "application/vnd.holoviews_exec.v0+json": "",
      "text/html": [
       "<div id='p1260'>\n",
       "  <div id=\"db169a34-663f-4010-9630-5d5a1eefb0a4\" data-root-id=\"p1260\" style=\"display: contents;\"></div>\n",
       "</div>\n",
       "<script type=\"application/javascript\">(function(root) {\n",
       "  var docs_json = {\"021c8933-66cb-4901-bb8a-2f872037b59b\":{\"version\":\"3.2.1\",\"title\":\"Bokeh Application\",\"roots\":[{\"type\":\"object\",\"name\":\"Row\",\"id\":\"p1260\",\"attributes\":{\"name\":\"Row01459\",\"tags\":[\"embedded\"],\"stylesheets\":[\"\\n:host(.pn-loading.pn-arc):before, .pn-loading.pn-arc:before {\\n  background-image: url(\\\"data:image/svg+xml;base64,PHN2ZyB4bWxucz0iaHR0cDovL3d3dy53My5vcmcvMjAwMC9zdmciIHN0eWxlPSJtYXJnaW46IGF1dG87IGJhY2tncm91bmQ6IG5vbmU7IGRpc3BsYXk6IGJsb2NrOyBzaGFwZS1yZW5kZXJpbmc6IGF1dG87IiB2aWV3Qm94PSIwIDAgMTAwIDEwMCIgcHJlc2VydmVBc3BlY3RSYXRpbz0ieE1pZFlNaWQiPiAgPGNpcmNsZSBjeD0iNTAiIGN5PSI1MCIgZmlsbD0ibm9uZSIgc3Ryb2tlPSIjYzNjM2MzIiBzdHJva2Utd2lkdGg9IjEwIiByPSIzNSIgc3Ryb2tlLWRhc2hhcnJheT0iMTY0LjkzMzYxNDMxMzQ2NDE1IDU2Ljk3Nzg3MTQzNzgyMTM4Ij4gICAgPGFuaW1hdGVUcmFuc2Zvcm0gYXR0cmlidXRlTmFtZT0idHJhbnNmb3JtIiB0eXBlPSJyb3RhdGUiIHJlcGVhdENvdW50PSJpbmRlZmluaXRlIiBkdXI9IjFzIiB2YWx1ZXM9IjAgNTAgNTA7MzYwIDUwIDUwIiBrZXlUaW1lcz0iMDsxIj48L2FuaW1hdGVUcmFuc2Zvcm0+ICA8L2NpcmNsZT48L3N2Zz4=\\\");\\n  background-size: auto calc(min(50%, 400px));\\n}\",{\"type\":\"object\",\"name\":\"ImportedStyleSheet\",\"id\":\"p1263\",\"attributes\":{\"url\":\"https://cdn.holoviz.org/panel/1.2.3/dist/css/loading.css\"}},{\"type\":\"object\",\"name\":\"ImportedStyleSheet\",\"id\":\"p1351\",\"attributes\":{\"url\":\"https://cdn.holoviz.org/panel/1.2.3/dist/css/listpanel.css\"}},{\"type\":\"object\",\"name\":\"ImportedStyleSheet\",\"id\":\"p1261\",\"attributes\":{\"url\":\"https://cdn.holoviz.org/panel/1.2.3/dist/bundled/theme/default.css\"}},{\"type\":\"object\",\"name\":\"ImportedStyleSheet\",\"id\":\"p1262\",\"attributes\":{\"url\":\"https://cdn.holoviz.org/panel/1.2.3/dist/bundled/theme/native.css\"}}],\"min_width\":700,\"margin\":0,\"sizing_mode\":\"stretch_width\",\"align\":\"start\",\"children\":[{\"type\":\"object\",\"name\":\"Spacer\",\"id\":\"p1264\",\"attributes\":{\"name\":\"HSpacer01470\",\"stylesheets\":[\"\\n:host(.pn-loading.pn-arc):before, .pn-loading.pn-arc:before {\\n  background-image: url(\\\"data:image/svg+xml;base64,PHN2ZyB4bWxucz0iaHR0cDovL3d3dy53My5vcmcvMjAwMC9zdmciIHN0eWxlPSJtYXJnaW46IGF1dG87IGJhY2tncm91bmQ6IG5vbmU7IGRpc3BsYXk6IGJsb2NrOyBzaGFwZS1yZW5kZXJpbmc6IGF1dG87IiB2aWV3Qm94PSIwIDAgMTAwIDEwMCIgcHJlc2VydmVBc3BlY3RSYXRpbz0ieE1pZFlNaWQiPiAgPGNpcmNsZSBjeD0iNTAiIGN5PSI1MCIgZmlsbD0ibm9uZSIgc3Ryb2tlPSIjYzNjM2MzIiBzdHJva2Utd2lkdGg9IjEwIiByPSIzNSIgc3Ryb2tlLWRhc2hhcnJheT0iMTY0LjkzMzYxNDMxMzQ2NDE1IDU2Ljk3Nzg3MTQzNzgyMTM4Ij4gICAgPGFuaW1hdGVUcmFuc2Zvcm0gYXR0cmlidXRlTmFtZT0idHJhbnNmb3JtIiB0eXBlPSJyb3RhdGUiIHJlcGVhdENvdW50PSJpbmRlZmluaXRlIiBkdXI9IjFzIiB2YWx1ZXM9IjAgNTAgNTA7MzYwIDUwIDUwIiBrZXlUaW1lcz0iMDsxIj48L2FuaW1hdGVUcmFuc2Zvcm0+ICA8L2NpcmNsZT48L3N2Zz4=\\\");\\n  background-size: auto calc(min(50%, 400px));\\n}\",{\"id\":\"p1263\"},{\"id\":\"p1261\"},{\"id\":\"p1262\"}],\"margin\":0,\"sizing_mode\":\"stretch_width\",\"align\":\"start\"}},{\"type\":\"object\",\"name\":\"Figure\",\"id\":\"p1278\",\"attributes\":{\"width\":700,\"height\":300,\"margin\":[5,10],\"sizing_mode\":\"fixed\",\"align\":\"start\",\"x_range\":{\"type\":\"object\",\"name\":\"Range1d\",\"id\":\"p1265\",\"attributes\":{\"tags\":[[[\"pca2\",\"pca2\",null]],[]],\"start\":-4.710702587473801,\"end\":6.0278700157452825,\"reset_start\":-4.710702587473801,\"reset_end\":6.0278700157452825}},\"y_range\":{\"type\":\"object\",\"name\":\"Range1d\",\"id\":\"p1266\",\"attributes\":{\"tags\":[[[\"pca3\",\"pca3\",null]],{\"type\":\"map\",\"entries\":[[\"invert_yaxis\",false],[\"autorange\",false]]}],\"start\":-4.9570065145801685,\"end\":5.323003665504792,\"reset_start\":-4.9570065145801685,\"reset_end\":5.323003665504792}},\"x_scale\":{\"type\":\"object\",\"name\":\"LinearScale\",\"id\":\"p1288\"},\"y_scale\":{\"type\":\"object\",\"name\":\"LinearScale\",\"id\":\"p1289\"},\"title\":{\"type\":\"object\",\"name\":\"Title\",\"id\":\"p1281\",\"attributes\":{\"text_color\":\"black\",\"text_font_size\":\"12pt\"}},\"renderers\":[{\"type\":\"object\",\"name\":\"GlyphRenderer\",\"id\":\"p1314\",\"attributes\":{\"name\":\"0\",\"data_source\":{\"type\":\"object\",\"name\":\"ColumnDataSource\",\"id\":\"p1305\",\"attributes\":{\"selected\":{\"type\":\"object\",\"name\":\"Selection\",\"id\":\"p1306\",\"attributes\":{\"indices\":[],\"line_indices\":[]}},\"selection_policy\":{\"type\":\"object\",\"name\":\"UnionRenderers\",\"id\":\"p1307\"},\"data\":{\"type\":\"map\",\"entries\":[[\"pca2\",{\"type\":\"ndarray\",\"array\":{\"type\":\"bytes\",\"data\":\"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\"},\"shape\":[1762],\"dtype\":\"float64\",\"order\":\"little\"}],[\"pca3\",{\"type\":\"ndarray\",\"array\":{\"type\":\"bytes\",\"data\":\"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\"},\"shape\":[1762],\"dtype\":\"float64\",\"order\":\"little\"}],[\"customer_segments\",[0,0,0,0,0,0,0,0,0,0,0,0,0,0,0,0,0,0,0,0,0,0,0,0,0,0,0,0,0,0,0,0,0,0,0,0,0,0,0,0,0,0,0,0,0,0,0,0,0,0,0,0,0,0,0,0,0,0,0,0,0,0,0,0,0,0,0,0,0,0,0,0,0,0,0,0,0,0,0,0,0,0,0,0,0,0,0,0,0,0,0,0,0,0,0,0,0,0,0,0,0,0,0,0,0,0,0,0,0,0,0,0,0,0,0,0,0,0,0,0,0,0,0,0,0,0,0,0,0,0,0,0,0,0,0,0,0,0,0,0,0,0,0,0,0,0,0,0,0,0,0,0,0,0,0,0,0,0,0,0,0,0,0,0,0,0,0,0,0,0,0,0,0,0,0,0,0,0,0,0,0,0,0,0,0,0,0,0,0,0,0,0,0,0,0,0,0,0,0,0,0,0,0,0,0,0,0,0,0,0,0,0,0,0,0,0,0,0,0,0,0,0,0,0,0,0,0,0,0,0,0,0,0,0,0,0,0,0,0,0,0,0,0,0,0,0,0,0,0,0,0,0,0,0,0,0,0,0,0,0,0,0,0,0,0,0,0,0,0,0,0,0,0,0,0,0,0,0,0,0,0,0,0,0,0,0,0,0,0,0,0,0,0,0,0,0,0,0,0,0,0,0,0,0,0,0,0,0,0,0,0,0,0,0,0,0,0,0,0,0,0,0,0,0,0,0,0,0,0,0,0,0,0,0,0,0,0,0,0,0,0,0,0,0,0,0,0,0,0,0,0,0,0,0,0,0,0,0,0,0,0,0,0,0,0,0,0,0,0,0,0,0,0,0,0,0,0,0,0,0,0,0,0,0,0,0,0,0,0,0,0,0,0,0,0,0,0,0,0,0,0,0,0,0,0,0,0,0,0,0,0,0,0,0,0,0,0,0,0,0,0,0,0,0,0,0,0,0,0,0,0,0,0,0,0,0,0,0,0,0,0,0,0,0,0,0,0,0,0,0,0,0,0,0,0,0,0,0,0,0,0,0,0,0,0,0,0,0,0,0,0,0,0,0,0,0,0,0,0,0,0,0,0,0,0,0,0,0,0,0,0,0,0,0,0,0,0,0,0,0,0,0,0,0,0,0,0,0,0,0,0,0,0,0,0,0,0,0,0,0,0,0,0,0,0,0,0,0,0,0,0,0,0,0,0,0,0,0,0,0,0,0,0,0,0,0,0,0,0,0,0,0,0,0,0,0,0,0,0,0,0,0,0,0,0,0,0,0,0,0,0,0,0,0,0,0,0,0,0,0,0,0,0,0,0,0,0,0,0,0,0,0,0,0,0,0,0,0,0,0,0,0,0,0,0,0,0,0,0,0,0,0,0,0,0,0,0,0,0,0,0,0,0,0,0,0,0,0,0,0,0,0,0,0,0,0,0,0,0,0,0,0,0,0,0,0,0,0,0,0,0,0,0,0,0,0,0,0,0,0,0,0,0,0,0,0,0,0,0,0,0,0,0,0,0,0,0,0,0,0,0,0,0,0,0,0,0,0,0,0,0,0,0,0,0,0,0,0,0,0,0,0,0,0,0,0,0,0,0,0,0,0,0,0,0,0,0,0,0,0,0,0,0,0,0,0,0,0,0,0,0,0,0,0,0,0,0,0,0,0,0,0,0,0,0,0,0,0,0,0,0,0,0,0,0,0,0,0,0,0,0,0,0,0,0,0,0,0,0,0,0,0,0,0,0,0,0,0,0,0,0,0,0,0,0,0,0,0,0,0,0,0,0,0,0,0,0,0,0,0,0,0,0,0,0,0,0,0,0,0,0,0,0,0,0,0,0,0,0,0,0,0,0,0,0,0,0,0,0,0,0,0,0,0,0,0,0,0,0,0,0,0,0,0,0,0,0,0,0,0,0,0,0,0,0,0,0,0,0,0,0,0,0,0,0,0,0,0,0,0,0,0,0,0,0,0,0,0,0,0,0,0,0,0,0,0,0,0,0,0,0,0,0,0,0,0,0,0,0,0,0,0,0,0,0,0,0,0,0,0,0,0,0,0,0,0,0,0,0,0,0,0,0,0,0,0,0,0,0,0,0,0,0,0,0,0,0,0,0,0,0,0,0,0,0,0,0,0,0,0,0,0,0,0,0,0,0,0,0,0,0,0,0,0,0,0,0,0,0,0,0,0,0,0,0,0,0,0,0,0,0,0,0,0,0,0,0,0,0,0,0,0,0,0,0,0,0,0,0,0,0,0,0,0,0,0,0,0,0,0,0,0,0,0,0,0,0,0,0,0,0,0,0,0,0,0,0,0,0,0,0,0,0,0,0,0,0,0,0,0,0,0,0,0,0,0,0,0,0,0,0,0,0,0,0,0,0,0,0,0,0,0,0,0,0,0,0,0,0,0,0,0,0,0,0,0,0,0,0,0,0,0,0,0,0,0,0,0,0,0,0,0,0,0,0,0,0,0,0,0,0,0,0,0,0,0,0,0,0,0,0,0,0,0,0,0,0,0,0,0,0,0,0,0,0,0,0,0,0,0,0,0,0,0,0,0,0,0,0,0,0,0,0,0,0,0,0,0,0,0,0,0,0,0,0,0,0,0,0,0,0,0,0,0,0,0,0,0,0,0,0,0,0,0,0,0,0,0,0,0,0,0,0,0,0,0,0,0,0,0,0,0,0,0,0,0,0,0,0,0,0,0,0,0,0,0,0,0,0,0,0,0,0,0,0,0,0,0,0,0,0,0,0,0,0,0,0,0,0,0,0,0,0,0,0,0,0,0,0,0,0,0,0,0,0,0,0,0,0,0,0,0,0,0,0,0,0,0,0,0,0,0,0,0,0,0,0,0,0,0,0,0,0,0,0,0,0,0,0,0,0,0,0,0,0,0,0,0,0,0,0,0,0,0,0,0,0,0,0,0,0,0,0,0,0,0,0,0,0,0,0,0,0,0,0,0,0,0,0,0,0,0,0,0,0,0,0,0,0,0,0,0,0,0,0,0,0,0,0,0,0,0,0,0,0,0,0,0,0,0,0,0,0,0,0,0,0,0,0,0,0,0,0,0,0,0,0,0,0,0,0,0,0,0,0,0,0,0,0,0,0,0,0,0,0,0,0,0,0,0,0,0,0,0,0,0,0,0,0,0,0,0,0,0,0,0,0,0,0,0,0,0,0,0,0,0,0,0,0,0,0,0,0,0,0,0,0,0,0,0,0,0,0,0,0,0,0,0,0,0,0,0,0,0,0,0,0,0,0,0,0,0,0,0,0,0,0,0,0,0,0,0,0,0,0,0,0,0,0,0,0,0,0,0,0,0,0,0,0,0,0,0,0,0,0,0,0,0,0,0,0,0,0,0,0,0,0,0,0,0,0,0,0,0,0,0,0,0,0,0,0,0,0,0,0,0,0,0,0,0,0,0,0,0,0,0,0,0,0,0,0,0,0,0,0,0,0,0,0,0,0,0,0,0,0,0,0,0,0,0,0,0,0,0,0,0,0,0,0,0,0,0,0,0,0,0,0,0,0,0,0,0,0,0,0,0,0,0,0,0,0,0,0,0,0,0,0,0,0,0,0,0,0,0,0,0,0,0,0,0,0,0,0,0,0,0,0,0,0,0,0,0,0,0,0,0,0,0,0,0,0,0,0,0,0,0,0,0,0,0,0,0,0,0,0,0,0,0,0,0,0,0,0,0,0,0,0,0,0,0,0,0,0,0,0,0,0,0,0,0,0,0,0,0,0,0,0,0,0,0,0,0,0,0,0,0,0,0,0,0,0,0,0,0,0,0,0,0,0,0,0,0,0,0,0,0,0,0,0,0,0,0,0,0,0,0,0,0,0,0,0,0,0,0,0,0,0,0,0,0,0,0,0,0,0,0,0,0,0,0,0,0,0,0,0,0,0,0,0,0,0,0,0,0,0,0,0,0,0,0,0,0,0,0,0,0,0,0,0,0,0,0]]]}}},\"view\":{\"type\":\"object\",\"name\":\"CDSView\",\"id\":\"p1315\",\"attributes\":{\"filter\":{\"type\":\"object\",\"name\":\"AllIndices\",\"id\":\"p1316\"}}},\"glyph\":{\"type\":\"object\",\"name\":\"Scatter\",\"id\":\"p1311\",\"attributes\":{\"tags\":[\"apply_ranges\"],\"x\":{\"type\":\"field\",\"field\":\"pca2\"},\"y\":{\"type\":\"field\",\"field\":\"pca3\"},\"size\":{\"type\":\"value\",\"value\":5.477225575051661},\"line_color\":{\"type\":\"value\",\"value\":\"#30a2da\"},\"fill_color\":{\"type\":\"value\",\"value\":\"#30a2da\"},\"hatch_color\":{\"type\":\"value\",\"value\":\"#30a2da\"}}},\"selection_glyph\":{\"type\":\"object\",\"name\":\"Scatter\",\"id\":\"p1319\",\"attributes\":{\"tags\":[\"apply_ranges\"],\"x\":{\"type\":\"field\",\"field\":\"pca2\"},\"y\":{\"type\":\"field\",\"field\":\"pca3\"},\"size\":{\"type\":\"value\",\"value\":5.477225575051661},\"angle\":{\"type\":\"value\",\"value\":0.0},\"line_color\":{\"type\":\"value\",\"value\":\"#30a2da\"},\"line_alpha\":{\"type\":\"value\",\"value\":1.0},\"line_width\":{\"type\":\"value\",\"value\":1},\"line_join\":{\"type\":\"value\",\"value\":\"bevel\"},\"line_cap\":{\"type\":\"value\",\"value\":\"butt\"},\"line_dash\":{\"type\":\"value\",\"value\":[]},\"line_dash_offset\":{\"type\":\"value\",\"value\":0},\"fill_color\":{\"type\":\"value\",\"value\":\"#30a2da\"},\"fill_alpha\":{\"type\":\"value\",\"value\":1.0},\"hatch_color\":{\"type\":\"value\",\"value\":\"#30a2da\"},\"hatch_alpha\":{\"type\":\"value\",\"value\":1.0},\"hatch_scale\":{\"type\":\"value\",\"value\":12.0},\"hatch_pattern\":{\"type\":\"value\",\"value\":null},\"hatch_weight\":{\"type\":\"value\",\"value\":1.0},\"marker\":{\"type\":\"value\",\"value\":\"circle\"}}},\"nonselection_glyph\":{\"type\":\"object\",\"name\":\"Scatter\",\"id\":\"p1312\",\"attributes\":{\"tags\":[\"apply_ranges\"],\"x\":{\"type\":\"field\",\"field\":\"pca2\"},\"y\":{\"type\":\"field\",\"field\":\"pca3\"},\"size\":{\"type\":\"value\",\"value\":5.477225575051661},\"line_color\":{\"type\":\"value\",\"value\":\"#30a2da\"},\"line_alpha\":{\"type\":\"value\",\"value\":0.1},\"fill_color\":{\"type\":\"value\",\"value\":\"#30a2da\"},\"fill_alpha\":{\"type\":\"value\",\"value\":0.1},\"hatch_color\":{\"type\":\"value\",\"value\":\"#30a2da\"},\"hatch_alpha\":{\"type\":\"value\",\"value\":0.1}}},\"muted_glyph\":{\"type\":\"object\",\"name\":\"Scatter\",\"id\":\"p1313\",\"attributes\":{\"tags\":[\"apply_ranges\"],\"x\":{\"type\":\"field\",\"field\":\"pca2\"},\"y\":{\"type\":\"field\",\"field\":\"pca3\"},\"size\":{\"type\":\"value\",\"value\":5.477225575051661},\"line_color\":{\"type\":\"value\",\"value\":\"#30a2da\"},\"line_alpha\":{\"type\":\"value\",\"value\":0.2},\"fill_color\":{\"type\":\"value\",\"value\":\"#30a2da\"},\"fill_alpha\":{\"type\":\"value\",\"value\":0.2},\"hatch_color\":{\"type\":\"value\",\"value\":\"#30a2da\"},\"hatch_alpha\":{\"type\":\"value\",\"value\":0.2}}}}},{\"type\":\"object\",\"name\":\"GlyphRenderer\",\"id\":\"p1329\",\"attributes\":{\"name\":\"1\",\"data_source\":{\"type\":\"object\",\"name\":\"ColumnDataSource\",\"id\":\"p1320\",\"attributes\":{\"selected\":{\"type\":\"object\",\"name\":\"Selection\",\"id\":\"p1321\",\"attributes\":{\"indices\":[],\"line_indices\":[]}},\"selection_policy\":{\"type\":\"object\",\"name\":\"UnionRenderers\",\"id\":\"p1322\"},\"data\":{\"type\":\"map\",\"entries\":[[\"pca2\",{\"type\":\"ndarray\",\"array\":{\"type\":\"bytes\",\"data\":\"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\"},\"shape\":[2654],\"dtype\":\"float64\",\"order\":\"little\"}],[\"pca3\",{\"type\":\"ndarray\",\"array\":{\"type\":\"bytes\",\"data\":\"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\"},\"shape\":[2654],\"dtype\":\"float64\",\"order\":\"little\"}],[\"customer_segments\",[1,1,1,1,1,1,1,1,1,1,1,1,1,1,1,1,1,1,1,1,1,1,1,1,1,1,1,1,1,1,1,1,1,1,1,1,1,1,1,1,1,1,1,1,1,1,1,1,1,1,1,1,1,1,1,1,1,1,1,1,1,1,1,1,1,1,1,1,1,1,1,1,1,1,1,1,1,1,1,1,1,1,1,1,1,1,1,1,1,1,1,1,1,1,1,1,1,1,1,1,1,1,1,1,1,1,1,1,1,1,1,1,1,1,1,1,1,1,1,1,1,1,1,1,1,1,1,1,1,1,1,1,1,1,1,1,1,1,1,1,1,1,1,1,1,1,1,1,1,1,1,1,1,1,1,1,1,1,1,1,1,1,1,1,1,1,1,1,1,1,1,1,1,1,1,1,1,1,1,1,1,1,1,1,1,1,1,1,1,1,1,1,1,1,1,1,1,1,1,1,1,1,1,1,1,1,1,1,1,1,1,1,1,1,1,1,1,1,1,1,1,1,1,1,1,1,1,1,1,1,1,1,1,1,1,1,1,1,1,1,1,1,1,1,1,1,1,1,1,1,1,1,1,1,1,1,1,1,1,1,1,1,1,1,1,1,1,1,1,1,1,1,1,1,1,1,1,1,1,1,1,1,1,1,1,1,1,1,1,1,1,1,1,1,1,1,1,1,1,1,1,1,1,1,1,1,1,1,1,1,1,1,1,1,1,1,1,1,1,1,1,1,1,1,1,1,1,1,1,1,1,1,1,1,1,1,1,1,1,1,1,1,1,1,1,1,1,1,1,1,1,1,1,1,1,1,1,1,1,1,1,1,1,1,1,1,1,1,1,1,1,1,1,1,1,1,1,1,1,1,1,1,1,1,1,1,1,1,1,1,1,1,1,1,1,1,1,1,1,1,1,1,1,1,1,1,1,1,1,1,1,1,1,1,1,1,1,1,1,1,1,1,1,1,1,1,1,1,1,1,1,1,1,1,1,1,1,1,1,1,1,1,1,1,1,1,1,1,1,1,1,1,1,1,1,1,1,1,1,1,1,1,1,1,1,1,1,1,1,1,1,1,1,1,1,1,1,1,1,1,1,1,1,1,1,1,1,1,1,1,1,1,1,1,1,1,1,1,1,1,1,1,1,1,1,1,1,1,1,1,1,1,1,1,1,1,1,1,1,1,1,1,1,1,1,1,1,1,1,1,1,1,1,1,1,1,1,1,1,1,1,1,1,1,1,1,1,1,1,1,1,1,1,1,1,1,1,1,1,1,1,1,1,1,1,1,1,1,1,1,1,1,1,1,1,1,1,1,1,1,1,1,1,1,1,1,1,1,1,1,1,1,1,1,1,1,1,1,1,1,1,1,1,1,1,1,1,1,1,1,1,1,1,1,1,1,1,1,1,1,1,1,1,1,1,1,1,1,1,1,1,1,1,1,1,1,1,1,1,1,1,1,1,1,1,1,1,1,1,1,1,1,1,1,1,1,1,1,1,1,1,1,1,1,1,1,1,1,1,1,1,1,1,1,1,1,1,1,1,1,1,1,1,1,1,1,1,1,1,1,1,1,1,1,1,1,1,1,1,1,1,1,1,1,1,1,1,1,1,1,1,1,1,1,1,1,1,1,1,1,1,1,1,1,1,1,1,1,1,1,1,1,1,1,1,1,1,1,1,1,1,1,1,1,1,1,1,1,1,1,1,1,1,1,1,1,1,1,1,1,1,1,1,1,1,1,1,1,1,1,1,1,1,1,1,1,1,1,1,1,1,1,1,1,1,1,1,1,1,1,1,1,1,1,1,1,1,1,1,1,1,1,1,1,1,1,1,1,1,1,1,1,1,1,1,1,1,1,1,1,1,1,1,1,1,1,1,1,1,1,1,1,1,1,1,1,1,1,1,1,1,1,1,1,1,1,1,1,1,1,1,1,1,1,1,1,1,1,1,1,1,1,1,1,1,1,1,1,1,1,1,1,1,1,1,1,1,1,1,1,1,1,1,1,1,1,1,1,1,1,1,1,1,1,1,1,1,1,1,1,1,1,1,1,1,1,1,1,1,1,1,1,1,1,1,1,1,1,1,1,1,1,1,1,1,1,1,1,1,1,1,1,1,1,1,1,1,1,1,1,1,1,1,1,1,1,1,1,1,1,1,1,1,1,1,1,1,1,1,1,1,1,1,1,1,1,1,1,1,1,1,1,1,1,1,1,1,1,1,1,1,1,1,1,1,1,1,1,1,1,1,1,1,1,1,1,1,1,1,1,1,1,1,1,1,1,1,1,1,1,1,1,1,1,1,1,1,1,1,1,1,1,1,1,1,1,1,1,1,1,1,1,1,1,1,1,1,1,1,1,1,1,1,1,1,1,1,1,1,1,1,1,1,1,1,1,1,1,1,1,1,1,1,1,1,1,1,1,1,1,1,1,1,1,1,1,1,1,1,1,1,1,1,1,1,1,1,1,1,1,1,1,1,1,1,1,1,1,1,1,1,1,1,1,1,1,1,1,1,1,1,1,1,1,1,1,1,1,1,1,1,1,1,1,1,1,1,1,1,1,1,1,1,1,1,1,1,1,1,1,1,1,1,1,1,1,1,1,1,1,1,1,1,1,1,1,1,1,1,1,1,1,1,1,1,1,1,1,1,1,1,1,1,1,1,1,1,1,1,1,1,1,1,1,1,1,1,1,1,1,1,1,1,1,1,1,1,1,1,1,1,1,1,1,1,1,1,1,1,1,1,1,1,1,1,1,1,1,1,1,1,1,1,1,1,1,1,1,1,1,1,1,1,1,1,1,1,1,1,1,1,1,1,1,1,1,1,1,1,1,1,1,1,1,1,1,1,1,1,1,1,1,1,1,1,1,1,1,1,1,1,1,1,1,1,1,1,1,1,1,1,1,1,1,1,1,1,1,1,1,1,1,1,1,1,1,1,1,1,1,1,1,1,1,1,1,1,1,1,1,1,1,1,1,1,1,1,1,1,1,1,1,1,1,1,1,1,1,1,1,1,1,1,1,1,1,1,1,1,1,1,1,1,1,1,1,1,1,1,1,1,1,1,1,1,1,1,1,1,1,1,1,1,1,1,1,1,1,1,1,1,1,1,1,1,1,1,1,1,1,1,1,1,1,1,1,1,1,1,1,1,1,1,1,1,1,1,1,1,1,1,1,1,1,1,1,1,1,1,1,1,1,1,1,1,1,1,1,1,1,1,1,1,1,1,1,1,1,1,1,1,1,1,1,1,1,1,1,1,1,1,1,1,1,1,1,1,1,1,1,1,1,1,1,1,1,1,1,1,1,1,1,1,1,1,1,1,1,1,1,1,1,1,1,1,1,1,1,1,1,1,1,1,1,1,1,1,1,1,1,1,1,1,1,1,1,1,1,1,1,1,1,1,1,1,1,1,1,1,1,1,1,1,1,1,1,1,1,1,1,1,1,1,1,1,1,1,1,1,1,1,1,1,1,1,1,1,1,1,1,1,1,1,1,1,1,1,1,1,1,1,1,1,1,1,1,1,1,1,1,1,1,1,1,1,1,1,1,1,1,1,1,1,1,1,1,1,1,1,1,1,1,1,1,1,1,1,1,1,1,1,1,1,1,1,1,1,1,1,1,1,1,1,1,1,1,1,1,1,1,1,1,1,1,1,1,1,1,1,1,1,1,1,1,1,1,1,1,1,1,1,1,1,1,1,1,1,1,1,1,1,1,1,1,1,1,1,1,1,1,1,1,1,1,1,1,1,1,1,1,1,1,1,1,1,1,1,1,1,1,1,1,1,1,1,1,1,1,1,1,1,1,1,1,1,1,1,1,1,1,1,1,1,1,1,1,1,1,1,1,1,1,1,1,1,1,1,1,1,1,1,1,1,1,1,1,1,1,1,1,1,1,1,1,1,1,1,1,1,1,1,1,1,1,1,1,1,1,1,1,1,1,1,1,1,1,1,1,1,1,1,1,1,1,1,1,1,1,1,1,1,1,1,1,1,1,1,1,1,1,1,1,1,1,1,1,1,1,1,1,1,1,1,1,1,1,1,1,1,1,1,1,1,1,1,1,1,1,1,1,1,1,1,1,1,1,1,1,1,1,1,1,1,1,1,1,1,1,1,1,1,1,1,1,1,1,1,1,1,1,1,1,1,1,1,1,1,1,1,1,1,1,1,1,1,1,1,1,1,1,1,1,1,1,1,1,1,1,1,1,1,1,1,1,1,1,1,1,1,1,1,1,1,1,1,1,1,1,1,1,1,1,1,1,1,1,1,1,1,1,1,1,1,1,1,1,1,1,1,1,1,1,1,1,1,1,1,1,1,1,1,1,1,1,1,1,1,1,1,1,1,1,1,1,1,1,1,1,1,1,1,1,1,1,1,1,1,1,1,1,1,1,1,1,1,1,1,1,1,1,1,1,1,1,1,1,1,1,1,1,1,1,1,1,1,1,1,1,1,1,1,1,1,1,1,1,1,1,1,1,1,1,1,1,1,1,1,1,1,1,1,1,1,1,1,1,1,1,1,1,1,1,1,1,1,1,1,1,1,1,1,1,1,1,1,1,1,1,1,1,1,1,1,1,1,1,1,1,1,1,1,1,1,1,1,1,1,1,1,1,1,1,1,1,1,1,1,1,1,1,1,1,1,1,1,1,1,1,1,1,1,1,1,1,1,1,1,1,1,1,1,1,1,1,1,1,1,1,1,1,1,1,1,1,1,1,1,1,1,1,1,1,1,1,1,1,1,1,1,1,1,1,1,1,1,1,1,1,1,1,1,1,1,1,1,1,1,1,1,1,1,1,1,1,1,1,1,1,1,1,1,1,1,1,1,1,1,1,1,1,1,1,1,1,1,1,1,1,1,1,1,1,1,1,1,1,1,1,1,1,1,1,1,1,1,1,1,1,1,1,1,1,1,1,1,1,1,1,1,1,1,1,1,1,1,1,1,1,1,1,1,1,1,1,1,1,1,1,1,1,1,1,1,1,1,1,1,1,1,1,1,1,1,1,1,1,1,1,1,1,1,1,1,1,1,1,1,1,1,1,1,1,1,1,1,1,1,1,1,1,1,1,1,1,1,1,1,1,1,1,1,1,1,1,1,1,1,1,1,1,1,1,1,1,1,1,1,1,1,1,1,1,1,1,1,1,1,1,1,1,1,1,1,1,1,1,1,1,1,1,1,1,1,1,1,1,1,1,1,1,1,1,1,1,1,1,1,1,1,1,1,1,1,1,1,1,1,1,1,1,1,1,1,1,1,1,1,1,1,1,1,1,1,1,1,1,1,1,1,1,1,1,1,1,1,1,1,1,1,1,1,1,1,1,1,1,1,1,1,1,1,1,1,1,1,1,1,1,1,1,1,1,1,1,1,1,1,1,1,1,1,1,1,1,1,1,1,1,1,1,1,1,1,1,1,1,1,1,1,1,1,1,1,1,1,1,1,1,1,1,1,1,1,1,1,1,1,1,1,1,1,1,1,1,1,1,1,1,1,1,1,1,1,1,1,1,1,1,1,1,1,1,1,1,1,1,1,1,1,1,1,1,1,1,1,1,1,1,1,1,1,1,1,1,1,1,1,1,1,1,1,1,1,1,1,1,1,1,1,1,1,1,1,1,1,1,1,1,1,1,1,1,1,1,1,1,1,1,1,1,1,1,1,1,1,1,1,1,1,1,1,1,1,1,1,1,1,1,1,1,1,1,1,1,1,1,1,1,1,1,1,1,1,1,1,1,1,1,1,1,1,1,1,1,1,1,1,1,1,1,1,1,1,1,1,1,1,1,1,1,1,1,1,1,1,1,1,1,1,1,1,1,1,1,1,1,1,1,1,1,1,1,1,1,1,1,1,1,1,1,1,1,1,1,1,1,1,1,1,1,1,1,1,1,1,1,1,1,1,1,1,1,1,1,1,1,1,1,1,1,1,1,1,1,1,1,1,1,1,1,1,1,1,1,1,1,1,1,1,1,1,1,1,1,1,1,1,1,1,1,1,1,1,1]]]}}},\"view\":{\"type\":\"object\",\"name\":\"CDSView\",\"id\":\"p1330\",\"attributes\":{\"filter\":{\"type\":\"object\",\"name\":\"AllIndices\",\"id\":\"p1331\"}}},\"glyph\":{\"type\":\"object\",\"name\":\"Scatter\",\"id\":\"p1326\",\"attributes\":{\"tags\":[\"apply_ranges\"],\"x\":{\"type\":\"field\",\"field\":\"pca2\"},\"y\":{\"type\":\"field\",\"field\":\"pca3\"},\"size\":{\"type\":\"value\",\"value\":5.477225575051661},\"line_color\":{\"type\":\"value\",\"value\":\"#fc4f30\"},\"fill_color\":{\"type\":\"value\",\"value\":\"#fc4f30\"},\"hatch_color\":{\"type\":\"value\",\"value\":\"#fc4f30\"}}},\"selection_glyph\":{\"type\":\"object\",\"name\":\"Scatter\",\"id\":\"p1333\",\"attributes\":{\"tags\":[\"apply_ranges\"],\"x\":{\"type\":\"field\",\"field\":\"pca2\"},\"y\":{\"type\":\"field\",\"field\":\"pca3\"},\"size\":{\"type\":\"value\",\"value\":5.477225575051661},\"angle\":{\"type\":\"value\",\"value\":0.0},\"line_color\":{\"type\":\"value\",\"value\":\"#fc4f30\"},\"line_alpha\":{\"type\":\"value\",\"value\":1.0},\"line_width\":{\"type\":\"value\",\"value\":1},\"line_join\":{\"type\":\"value\",\"value\":\"bevel\"},\"line_cap\":{\"type\":\"value\",\"value\":\"butt\"},\"line_dash\":{\"type\":\"value\",\"value\":[]},\"line_dash_offset\":{\"type\":\"value\",\"value\":0},\"fill_color\":{\"type\":\"value\",\"value\":\"#fc4f30\"},\"fill_alpha\":{\"type\":\"value\",\"value\":1.0},\"hatch_color\":{\"type\":\"value\",\"value\":\"#fc4f30\"},\"hatch_alpha\":{\"type\":\"value\",\"value\":1.0},\"hatch_scale\":{\"type\":\"value\",\"value\":12.0},\"hatch_pattern\":{\"type\":\"value\",\"value\":null},\"hatch_weight\":{\"type\":\"value\",\"value\":1.0},\"marker\":{\"type\":\"value\",\"value\":\"circle\"}}},\"nonselection_glyph\":{\"type\":\"object\",\"name\":\"Scatter\",\"id\":\"p1327\",\"attributes\":{\"tags\":[\"apply_ranges\"],\"x\":{\"type\":\"field\",\"field\":\"pca2\"},\"y\":{\"type\":\"field\",\"field\":\"pca3\"},\"size\":{\"type\":\"value\",\"value\":5.477225575051661},\"line_color\":{\"type\":\"value\",\"value\":\"#fc4f30\"},\"line_alpha\":{\"type\":\"value\",\"value\":0.1},\"fill_color\":{\"type\":\"value\",\"value\":\"#fc4f30\"},\"fill_alpha\":{\"type\":\"value\",\"value\":0.1},\"hatch_color\":{\"type\":\"value\",\"value\":\"#fc4f30\"},\"hatch_alpha\":{\"type\":\"value\",\"value\":0.1}}},\"muted_glyph\":{\"type\":\"object\",\"name\":\"Scatter\",\"id\":\"p1328\",\"attributes\":{\"tags\":[\"apply_ranges\"],\"x\":{\"type\":\"field\",\"field\":\"pca2\"},\"y\":{\"type\":\"field\",\"field\":\"pca3\"},\"size\":{\"type\":\"value\",\"value\":5.477225575051661},\"line_color\":{\"type\":\"value\",\"value\":\"#fc4f30\"},\"line_alpha\":{\"type\":\"value\",\"value\":0.2},\"fill_color\":{\"type\":\"value\",\"value\":\"#fc4f30\"},\"fill_alpha\":{\"type\":\"value\",\"value\":0.2},\"hatch_color\":{\"type\":\"value\",\"value\":\"#fc4f30\"},\"hatch_alpha\":{\"type\":\"value\",\"value\":0.2}}}}},{\"type\":\"object\",\"name\":\"GlyphRenderer\",\"id\":\"p1343\",\"attributes\":{\"name\":\"2\",\"data_source\":{\"type\":\"object\",\"name\":\"ColumnDataSource\",\"id\":\"p1334\",\"attributes\":{\"selected\":{\"type\":\"object\",\"name\":\"Selection\",\"id\":\"p1335\",\"attributes\":{\"indices\":[],\"line_indices\":[]}},\"selection_policy\":{\"type\":\"object\",\"name\":\"UnionRenderers\",\"id\":\"p1336\"},\"data\":{\"type\":\"map\",\"entries\":[[\"pca2\",{\"type\":\"ndarray\",\"array\":{\"type\":\"bytes\",\"data\":\"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\"},\"shape\":[583],\"dtype\":\"float64\",\"order\":\"little\"}],[\"pca3\",{\"type\":\"ndarray\",\"array\":{\"type\":\"bytes\",\"data\":\"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\"},\"shape\":[583],\"dtype\":\"float64\",\"order\":\"little\"}],[\"customer_segments\",[2,2,2,2,2,2,2,2,2,2,2,2,2,2,2,2,2,2,2,2,2,2,2,2,2,2,2,2,2,2,2,2,2,2,2,2,2,2,2,2,2,2,2,2,2,2,2,2,2,2,2,2,2,2,2,2,2,2,2,2,2,2,2,2,2,2,2,2,2,2,2,2,2,2,2,2,2,2,2,2,2,2,2,2,2,2,2,2,2,2,2,2,2,2,2,2,2,2,2,2,2,2,2,2,2,2,2,2,2,2,2,2,2,2,2,2,2,2,2,2,2,2,2,2,2,2,2,2,2,2,2,2,2,2,2,2,2,2,2,2,2,2,2,2,2,2,2,2,2,2,2,2,2,2,2,2,2,2,2,2,2,2,2,2,2,2,2,2,2,2,2,2,2,2,2,2,2,2,2,2,2,2,2,2,2,2,2,2,2,2,2,2,2,2,2,2,2,2,2,2,2,2,2,2,2,2,2,2,2,2,2,2,2,2,2,2,2,2,2,2,2,2,2,2,2,2,2,2,2,2,2,2,2,2,2,2,2,2,2,2,2,2,2,2,2,2,2,2,2,2,2,2,2,2,2,2,2,2,2,2,2,2,2,2,2,2,2,2,2,2,2,2,2,2,2,2,2,2,2,2,2,2,2,2,2,2,2,2,2,2,2,2,2,2,2,2,2,2,2,2,2,2,2,2,2,2,2,2,2,2,2,2,2,2,2,2,2,2,2,2,2,2,2,2,2,2,2,2,2,2,2,2,2,2,2,2,2,2,2,2,2,2,2,2,2,2,2,2,2,2,2,2,2,2,2,2,2,2,2,2,2,2,2,2,2,2,2,2,2,2,2,2,2,2,2,2,2,2,2,2,2,2,2,2,2,2,2,2,2,2,2,2,2,2,2,2,2,2,2,2,2,2,2,2,2,2,2,2,2,2,2,2,2,2,2,2,2,2,2,2,2,2,2,2,2,2,2,2,2,2,2,2,2,2,2,2,2,2,2,2,2,2,2,2,2,2,2,2,2,2,2,2,2,2,2,2,2,2,2,2,2,2,2,2,2,2,2,2,2,2,2,2,2,2,2,2,2,2,2,2,2,2,2,2,2,2,2,2,2,2,2,2,2,2,2,2,2,2,2,2,2,2,2,2,2,2,2,2,2,2,2,2,2,2,2,2,2,2,2,2,2,2,2,2,2,2,2,2,2,2,2,2,2,2,2,2,2,2,2,2,2,2,2,2,2,2,2,2,2,2,2,2,2,2,2,2,2,2,2,2,2,2,2,2,2,2,2,2,2,2,2,2,2,2,2,2,2,2,2,2,2,2,2]]]}}},\"view\":{\"type\":\"object\",\"name\":\"CDSView\",\"id\":\"p1344\",\"attributes\":{\"filter\":{\"type\":\"object\",\"name\":\"AllIndices\",\"id\":\"p1345\"}}},\"glyph\":{\"type\":\"object\",\"name\":\"Scatter\",\"id\":\"p1340\",\"attributes\":{\"tags\":[\"apply_ranges\"],\"x\":{\"type\":\"field\",\"field\":\"pca2\"},\"y\":{\"type\":\"field\",\"field\":\"pca3\"},\"size\":{\"type\":\"value\",\"value\":5.477225575051661},\"line_color\":{\"type\":\"value\",\"value\":\"#e5ae38\"},\"fill_color\":{\"type\":\"value\",\"value\":\"#e5ae38\"},\"hatch_color\":{\"type\":\"value\",\"value\":\"#e5ae38\"}}},\"selection_glyph\":{\"type\":\"object\",\"name\":\"Scatter\",\"id\":\"p1347\",\"attributes\":{\"tags\":[\"apply_ranges\"],\"x\":{\"type\":\"field\",\"field\":\"pca2\"},\"y\":{\"type\":\"field\",\"field\":\"pca3\"},\"size\":{\"type\":\"value\",\"value\":5.477225575051661},\"angle\":{\"type\":\"value\",\"value\":0.0},\"line_color\":{\"type\":\"value\",\"value\":\"#e5ae38\"},\"line_alpha\":{\"type\":\"value\",\"value\":1.0},\"line_width\":{\"type\":\"value\",\"value\":1},\"line_join\":{\"type\":\"value\",\"value\":\"bevel\"},\"line_cap\":{\"type\":\"value\",\"value\":\"butt\"},\"line_dash\":{\"type\":\"value\",\"value\":[]},\"line_dash_offset\":{\"type\":\"value\",\"value\":0},\"fill_color\":{\"type\":\"value\",\"value\":\"#e5ae38\"},\"fill_alpha\":{\"type\":\"value\",\"value\":1.0},\"hatch_color\":{\"type\":\"value\",\"value\":\"#e5ae38\"},\"hatch_alpha\":{\"type\":\"value\",\"value\":1.0},\"hatch_scale\":{\"type\":\"value\",\"value\":12.0},\"hatch_pattern\":{\"type\":\"value\",\"value\":null},\"hatch_weight\":{\"type\":\"value\",\"value\":1.0},\"marker\":{\"type\":\"value\",\"value\":\"circle\"}}},\"nonselection_glyph\":{\"type\":\"object\",\"name\":\"Scatter\",\"id\":\"p1341\",\"attributes\":{\"tags\":[\"apply_ranges\"],\"x\":{\"type\":\"field\",\"field\":\"pca2\"},\"y\":{\"type\":\"field\",\"field\":\"pca3\"},\"size\":{\"type\":\"value\",\"value\":5.477225575051661},\"line_color\":{\"type\":\"value\",\"value\":\"#e5ae38\"},\"line_alpha\":{\"type\":\"value\",\"value\":0.1},\"fill_color\":{\"type\":\"value\",\"value\":\"#e5ae38\"},\"fill_alpha\":{\"type\":\"value\",\"value\":0.1},\"hatch_color\":{\"type\":\"value\",\"value\":\"#e5ae38\"},\"hatch_alpha\":{\"type\":\"value\",\"value\":0.1}}},\"muted_glyph\":{\"type\":\"object\",\"name\":\"Scatter\",\"id\":\"p1342\",\"attributes\":{\"tags\":[\"apply_ranges\"],\"x\":{\"type\":\"field\",\"field\":\"pca2\"},\"y\":{\"type\":\"field\",\"field\":\"pca3\"},\"size\":{\"type\":\"value\",\"value\":5.477225575051661},\"line_color\":{\"type\":\"value\",\"value\":\"#e5ae38\"},\"line_alpha\":{\"type\":\"value\",\"value\":0.2},\"fill_color\":{\"type\":\"value\",\"value\":\"#e5ae38\"},\"fill_alpha\":{\"type\":\"value\",\"value\":0.2},\"hatch_color\":{\"type\":\"value\",\"value\":\"#e5ae38\"},\"hatch_alpha\":{\"type\":\"value\",\"value\":0.2}}}}}],\"toolbar\":{\"type\":\"object\",\"name\":\"Toolbar\",\"id\":\"p1287\",\"attributes\":{\"tools\":[{\"type\":\"object\",\"name\":\"WheelZoomTool\",\"id\":\"p1270\",\"attributes\":{\"tags\":[\"hv_created\"],\"zoom_together\":\"none\"}},{\"type\":\"object\",\"name\":\"HoverTool\",\"id\":\"p1271\",\"attributes\":{\"tags\":[\"hv_created\"],\"renderers\":[{\"id\":\"p1314\"},{\"id\":\"p1329\"},{\"id\":\"p1343\"}],\"tooltips\":[[\"customer_segments\",\"@{customer_segments}\"],[\"pca2\",\"@{pca2}\"],[\"pca3\",\"@{pca3}\"]]}},{\"type\":\"object\",\"name\":\"SaveTool\",\"id\":\"p1300\"},{\"type\":\"object\",\"name\":\"PanTool\",\"id\":\"p1301\"},{\"type\":\"object\",\"name\":\"BoxZoomTool\",\"id\":\"p1302\",\"attributes\":{\"overlay\":{\"type\":\"object\",\"name\":\"BoxAnnotation\",\"id\":\"p1303\",\"attributes\":{\"syncable\":false,\"level\":\"overlay\",\"visible\":false,\"left_units\":\"canvas\",\"right_units\":\"canvas\",\"bottom_units\":\"canvas\",\"top_units\":\"canvas\",\"line_color\":\"black\",\"line_alpha\":1.0,\"line_width\":2,\"line_dash\":[4,4],\"fill_color\":\"lightgrey\",\"fill_alpha\":0.5}}}},{\"type\":\"object\",\"name\":\"ResetTool\",\"id\":\"p1304\"}],\"active_drag\":{\"id\":\"p1301\"},\"active_scroll\":{\"id\":\"p1270\"}}},\"left\":[{\"type\":\"object\",\"name\":\"LinearAxis\",\"id\":\"p1295\",\"attributes\":{\"ticker\":{\"type\":\"object\",\"name\":\"BasicTicker\",\"id\":\"p1296\",\"attributes\":{\"mantissas\":[1,2,5]}},\"formatter\":{\"type\":\"object\",\"name\":\"BasicTickFormatter\",\"id\":\"p1297\"},\"axis_label\":\"pca3\",\"major_label_policy\":{\"type\":\"object\",\"name\":\"AllLabels\",\"id\":\"p1298\"}}}],\"right\":[{\"type\":\"object\",\"name\":\"Legend\",\"id\":\"p1317\",\"attributes\":{\"location\":[0,0],\"title\":\"customer_segments\",\"click_policy\":\"mute\",\"items\":[{\"type\":\"object\",\"name\":\"LegendItem\",\"id\":\"p1318\",\"attributes\":{\"label\":{\"type\":\"value\",\"value\":\"0\"},\"renderers\":[{\"id\":\"p1314\"}]}},{\"type\":\"object\",\"name\":\"LegendItem\",\"id\":\"p1332\",\"attributes\":{\"label\":{\"type\":\"value\",\"value\":\"1\"},\"renderers\":[{\"id\":\"p1329\"}]}},{\"type\":\"object\",\"name\":\"LegendItem\",\"id\":\"p1346\",\"attributes\":{\"label\":{\"type\":\"value\",\"value\":\"2\"},\"renderers\":[{\"id\":\"p1343\"}]}}]}}],\"below\":[{\"type\":\"object\",\"name\":\"LinearAxis\",\"id\":\"p1290\",\"attributes\":{\"ticker\":{\"type\":\"object\",\"name\":\"BasicTicker\",\"id\":\"p1291\",\"attributes\":{\"mantissas\":[1,2,5]}},\"formatter\":{\"type\":\"object\",\"name\":\"BasicTickFormatter\",\"id\":\"p1292\"},\"axis_label\":\"pca2\",\"major_label_policy\":{\"type\":\"object\",\"name\":\"AllLabels\",\"id\":\"p1293\"}}}],\"center\":[{\"type\":\"object\",\"name\":\"Grid\",\"id\":\"p1294\",\"attributes\":{\"axis\":{\"id\":\"p1290\"},\"grid_line_color\":null}},{\"type\":\"object\",\"name\":\"Grid\",\"id\":\"p1299\",\"attributes\":{\"dimension\":1,\"axis\":{\"id\":\"p1295\"},\"grid_line_color\":null}}],\"min_border_top\":10,\"min_border_bottom\":10,\"min_border_left\":10,\"min_border_right\":10,\"output_backend\":\"webgl\"}},{\"type\":\"object\",\"name\":\"Spacer\",\"id\":\"p1349\",\"attributes\":{\"name\":\"HSpacer01473\",\"stylesheets\":[\"\\n:host(.pn-loading.pn-arc):before, .pn-loading.pn-arc:before {\\n  background-image: url(\\\"data:image/svg+xml;base64,PHN2ZyB4bWxucz0iaHR0cDovL3d3dy53My5vcmcvMjAwMC9zdmciIHN0eWxlPSJtYXJnaW46IGF1dG87IGJhY2tncm91bmQ6IG5vbmU7IGRpc3BsYXk6IGJsb2NrOyBzaGFwZS1yZW5kZXJpbmc6IGF1dG87IiB2aWV3Qm94PSIwIDAgMTAwIDEwMCIgcHJlc2VydmVBc3BlY3RSYXRpbz0ieE1pZFlNaWQiPiAgPGNpcmNsZSBjeD0iNTAiIGN5PSI1MCIgZmlsbD0ibm9uZSIgc3Ryb2tlPSIjYzNjM2MzIiBzdHJva2Utd2lkdGg9IjEwIiByPSIzNSIgc3Ryb2tlLWRhc2hhcnJheT0iMTY0LjkzMzYxNDMxMzQ2NDE1IDU2Ljk3Nzg3MTQzNzgyMTM4Ij4gICAgPGFuaW1hdGVUcmFuc2Zvcm0gYXR0cmlidXRlTmFtZT0idHJhbnNmb3JtIiB0eXBlPSJyb3RhdGUiIHJlcGVhdENvdW50PSJpbmRlZmluaXRlIiBkdXI9IjFzIiB2YWx1ZXM9IjAgNTAgNTA7MzYwIDUwIDUwIiBrZXlUaW1lcz0iMDsxIj48L2FuaW1hdGVUcmFuc2Zvcm0+ICA8L2NpcmNsZT48L3N2Zz4=\\\");\\n  background-size: auto calc(min(50%, 400px));\\n}\",{\"id\":\"p1263\"},{\"id\":\"p1261\"},{\"id\":\"p1262\"}],\"margin\":0,\"sizing_mode\":\"stretch_width\",\"align\":\"start\"}}]}}],\"defs\":[{\"type\":\"model\",\"name\":\"ReactiveHTML1\"},{\"type\":\"model\",\"name\":\"FlexBox1\",\"properties\":[{\"name\":\"align_content\",\"kind\":\"Any\",\"default\":\"flex-start\"},{\"name\":\"align_items\",\"kind\":\"Any\",\"default\":\"flex-start\"},{\"name\":\"flex_direction\",\"kind\":\"Any\",\"default\":\"row\"},{\"name\":\"flex_wrap\",\"kind\":\"Any\",\"default\":\"wrap\"},{\"name\":\"justify_content\",\"kind\":\"Any\",\"default\":\"flex-start\"}]},{\"type\":\"model\",\"name\":\"FloatPanel1\",\"properties\":[{\"name\":\"config\",\"kind\":\"Any\",\"default\":{\"type\":\"map\"}},{\"name\":\"contained\",\"kind\":\"Any\",\"default\":true},{\"name\":\"position\",\"kind\":\"Any\",\"default\":\"right-top\"},{\"name\":\"offsetx\",\"kind\":\"Any\",\"default\":null},{\"name\":\"offsety\",\"kind\":\"Any\",\"default\":null},{\"name\":\"theme\",\"kind\":\"Any\",\"default\":\"primary\"},{\"name\":\"status\",\"kind\":\"Any\",\"default\":\"normalized\"}]},{\"type\":\"model\",\"name\":\"GridStack1\",\"properties\":[{\"name\":\"mode\",\"kind\":\"Any\",\"default\":\"warn\"},{\"name\":\"ncols\",\"kind\":\"Any\",\"default\":null},{\"name\":\"nrows\",\"kind\":\"Any\",\"default\":null},{\"name\":\"allow_resize\",\"kind\":\"Any\",\"default\":true},{\"name\":\"allow_drag\",\"kind\":\"Any\",\"default\":true},{\"name\":\"state\",\"kind\":\"Any\",\"default\":[]}]},{\"type\":\"model\",\"name\":\"drag1\",\"properties\":[{\"name\":\"slider_width\",\"kind\":\"Any\",\"default\":5},{\"name\":\"slider_color\",\"kind\":\"Any\",\"default\":\"black\"},{\"name\":\"value\",\"kind\":\"Any\",\"default\":50}]},{\"type\":\"model\",\"name\":\"click1\",\"properties\":[{\"name\":\"terminal_output\",\"kind\":\"Any\",\"default\":\"\"},{\"name\":\"debug_name\",\"kind\":\"Any\",\"default\":\"\"},{\"name\":\"clears\",\"kind\":\"Any\",\"default\":0}]},{\"type\":\"model\",\"name\":\"FastWrapper1\",\"properties\":[{\"name\":\"object\",\"kind\":\"Any\",\"default\":null},{\"name\":\"style\",\"kind\":\"Any\",\"default\":null}]},{\"type\":\"model\",\"name\":\"NotificationAreaBase1\",\"properties\":[{\"name\":\"js_events\",\"kind\":\"Any\",\"default\":{\"type\":\"map\"}},{\"name\":\"position\",\"kind\":\"Any\",\"default\":\"bottom-right\"},{\"name\":\"_clear\",\"kind\":\"Any\",\"default\":0}]},{\"type\":\"model\",\"name\":\"NotificationArea1\",\"properties\":[{\"name\":\"js_events\",\"kind\":\"Any\",\"default\":{\"type\":\"map\"}},{\"name\":\"notifications\",\"kind\":\"Any\",\"default\":[]},{\"name\":\"position\",\"kind\":\"Any\",\"default\":\"bottom-right\"},{\"name\":\"_clear\",\"kind\":\"Any\",\"default\":0},{\"name\":\"types\",\"kind\":\"Any\",\"default\":[{\"type\":\"map\",\"entries\":[[\"type\",\"warning\"],[\"background\",\"#ffc107\"],[\"icon\",{\"type\":\"map\",\"entries\":[[\"className\",\"fas fa-exclamation-triangle\"],[\"tagName\",\"i\"],[\"color\",\"white\"]]}]]},{\"type\":\"map\",\"entries\":[[\"type\",\"info\"],[\"background\",\"#007bff\"],[\"icon\",{\"type\":\"map\",\"entries\":[[\"className\",\"fas fa-info-circle\"],[\"tagName\",\"i\"],[\"color\",\"white\"]]}]]}]}]},{\"type\":\"model\",\"name\":\"Notification\",\"properties\":[{\"name\":\"background\",\"kind\":\"Any\",\"default\":null},{\"name\":\"duration\",\"kind\":\"Any\",\"default\":3000},{\"name\":\"icon\",\"kind\":\"Any\",\"default\":null},{\"name\":\"message\",\"kind\":\"Any\",\"default\":\"\"},{\"name\":\"notification_type\",\"kind\":\"Any\",\"default\":null},{\"name\":\"_destroyed\",\"kind\":\"Any\",\"default\":false}]},{\"type\":\"model\",\"name\":\"TemplateActions1\",\"properties\":[{\"name\":\"open_modal\",\"kind\":\"Any\",\"default\":0},{\"name\":\"close_modal\",\"kind\":\"Any\",\"default\":0}]},{\"type\":\"model\",\"name\":\"BootstrapTemplateActions1\",\"properties\":[{\"name\":\"open_modal\",\"kind\":\"Any\",\"default\":0},{\"name\":\"close_modal\",\"kind\":\"Any\",\"default\":0}]},{\"type\":\"model\",\"name\":\"MaterialTemplateActions1\",\"properties\":[{\"name\":\"open_modal\",\"kind\":\"Any\",\"default\":0},{\"name\":\"close_modal\",\"kind\":\"Any\",\"default\":0}]}]}};\n",
       "  var render_items = [{\"docid\":\"021c8933-66cb-4901-bb8a-2f872037b59b\",\"roots\":{\"p1260\":\"db169a34-663f-4010-9630-5d5a1eefb0a4\"},\"root_ids\":[\"p1260\"]}];\n",
       "  var docs = Object.values(docs_json)\n",
       "  if (!docs) {\n",
       "    return\n",
       "  }\n",
       "  const py_version = docs[0].version.replace('rc', '-rc.').replace('.dev', '-dev.')\n",
       "  const is_dev = py_version.indexOf(\"+\") !== -1 || py_version.indexOf(\"-\") !== -1\n",
       "  function embed_document(root) {\n",
       "    var Bokeh = get_bokeh(root)\n",
       "    Bokeh.embed.embed_items_notebook(docs_json, render_items);\n",
       "    for (const render_item of render_items) {\n",
       "      for (const root_id of render_item.root_ids) {\n",
       "\tconst id_el = document.getElementById(root_id)\n",
       "\tif (id_el.children.length && (id_el.children[0].className === 'bk-root')) {\n",
       "\t  const root_el = id_el.children[0]\n",
       "\t  root_el.id = root_el.id + '-rendered'\n",
       "\t}\n",
       "      }\n",
       "    }\n",
       "  }\n",
       "  function get_bokeh(root) {\n",
       "    if (root.Bokeh === undefined) {\n",
       "      return null\n",
       "    } else if (root.Bokeh.version !== py_version && !is_dev) {\n",
       "      if (root.Bokeh.versions === undefined || !root.Bokeh.versions.has(py_version)) {\n",
       "\treturn null\n",
       "      }\n",
       "      return root.Bokeh.versions.get(py_version);\n",
       "    } else if (root.Bokeh.version === py_version) {\n",
       "      return root.Bokeh\n",
       "    }\n",
       "    return null\n",
       "  }\n",
       "  function is_loaded(root) {\n",
       "    var Bokeh = get_bokeh(root)\n",
       "    return (Bokeh != null && Bokeh.Panel !== undefined)\n",
       "  }\n",
       "  if (is_loaded(root)) {\n",
       "    embed_document(root);\n",
       "  } else {\n",
       "    var attempts = 0;\n",
       "    var timer = setInterval(function(root) {\n",
       "      if (is_loaded(root)) {\n",
       "        clearInterval(timer);\n",
       "        embed_document(root);\n",
       "      } else if (document.readyState == \"complete\") {\n",
       "        attempts++;\n",
       "        if (attempts > 200) {\n",
       "          clearInterval(timer);\n",
       "\t  var Bokeh = get_bokeh(root)\n",
       "\t  if (Bokeh == null || Bokeh.Panel == null) {\n",
       "            console.warn(\"Panel: ERROR: Unable to run Panel code because Bokeh or Panel library is missing\");\n",
       "\t  } else {\n",
       "\t    console.warn(\"Panel: WARNING: Attempting to render but not all required libraries could be resolved.\")\n",
       "\t    embed_document(root)\n",
       "\t  }\n",
       "        }\n",
       "      }\n",
       "    }, 25, root)\n",
       "  }\n",
       "})(window);</script>"
      ],
      "text/plain": [
       ":NdOverlay   [customer_segments]\n",
       "   :Scatter   [pca2]   (pca3)"
      ]
     },
     "execution_count": 37,
     "metadata": {
      "application/vnd.holoviews_exec.v0+json": {
       "id": "p1260"
      }
     },
     "output_type": "execute_result"
    }
   ],
   "source": [
    "# Define the model with 3 clusters\n",
    "model = KMeans(n_clusters=3, random_state=1, n_init=10)\n",
    "# Fit the model\n",
    "model.fit(ccinfo_pca_df)\n",
    "# Make predictions\n",
    "k_3 = model.predict(ccinfo_pca_df)\n",
    "# Create a copy of the PCA DataFrame\n",
    "ccinfo_pca_predictions_df = ccinfo_pca_df.copy()\n",
    "# Add a class column with the labels\n",
    "ccinfo_pca_predictions_df['customer_segments'] = k_3\n",
    "ccinfo_pca_predictions_df = pd.concat([ccinfo_pca_predictions_df,ccinfo_default_df], axis=1)\n",
    "ccinfo_pca_predictions_df\n",
    "\n",
    "# Plot the clusters\n",
    "ccinfo_pca_predictions_df.hvplot.scatter(\n",
    "    x='pca2',\n",
    "    y='pca3',\n",
    "    by = 'customer_segments'\n",
    ")"
   ]
  },
  {
   "cell_type": "code",
   "execution_count": null,
   "id": "b27f0662-07fe-4256-b54a-e1d766139dba",
   "metadata": {
    "tags": []
   },
   "outputs": [],
   "source": [
    "# Plot the clusters in 3d\n",
    "import plotly.express as px\n",
    "\n",
    "fig = px.scatter_3d(ccinfo_pca_predictions_df, \n",
    "                    x='pca1', \n",
    "                    y='pca2', \n",
    "                    z='pca3',\n",
    "                    color= 'customer_segments'\n",
    ")\n",
    "\n",
    "fig.show()"
   ]
  },
  {
   "cell_type": "markdown",
   "id": "f47c89bf-c0a6-4114-9201-fafcd425ff0b",
   "metadata": {},
   "source": [
    "### activity 3,4"
   ]
  },
  {
   "cell_type": "markdown",
   "id": "a0364c73-529a-494e-8fa0-dce5db2b83c2",
   "metadata": {},
   "source": [
    "### matrix calculation"
   ]
  },
  {
   "cell_type": "code",
   "execution_count": 44,
   "id": "724c6e40-e9da-474f-8c20-9dbfb2409b7f",
   "metadata": {},
   "outputs": [
    {
     "data": {
      "text/plain": [
       "(3, 5)"
      ]
     },
     "execution_count": 44,
     "metadata": {},
     "output_type": "execute_result"
    }
   ],
   "source": [
    "import numpy as np\n",
    "\n",
    "X = np.array([[1,2],\n",
    "              [3,4],\n",
    "              [5,6]])\n",
    "X.shape\n",
    "\n",
    "W = np.array([[.5,1,2,3,4],\n",
    "              [.1,1,2,3,4]])\n",
    "\n",
    "Y = np.matmul(X,W)\n",
    "\n",
    "Y.shape"
   ]
  },
  {
   "cell_type": "markdown",
   "id": "551b6eb7-4dce-4187-b54f-3ebd0187a1e8",
   "metadata": {},
   "source": [
    "### X (3,2) multiply W (2,1), (2,5) (5000, 512) x (512, 1000) = (5000, 1000)"
   ]
  },
  {
   "cell_type": "code",
   "execution_count": null,
   "id": "f712bdc9-c78a-48dc-aeee-6c3d10e88dd5",
   "metadata": {},
   "outputs": [],
   "source": []
  }
 ],
 "metadata": {
  "kernelspec": {
   "display_name": "Python 3 (ipykernel)",
   "language": "python",
   "name": "python3"
  },
  "language_info": {
   "codemirror_mode": {
    "name": "ipython",
    "version": 3
   },
   "file_extension": ".py",
   "mimetype": "text/x-python",
   "name": "python",
   "nbconvert_exporter": "python",
   "pygments_lexer": "ipython3",
   "version": "3.11.5"
  }
 },
 "nbformat": 4,
 "nbformat_minor": 5
}

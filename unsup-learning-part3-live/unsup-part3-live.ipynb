{
 "cells": [
  {
   "cell_type": "markdown",
   "id": "55d58e1c-a408-48f7-8703-d4c5550fe3c3",
   "metadata": {},
   "source": [
    "### Review \n",
    "### Other clustering algo"
   ]
  },
  {
   "cell_type": "code",
   "execution_count": null,
   "id": "4a19fc58-9c1b-4beb-9fb2-29d457c2667a",
   "metadata": {
    "tags": []
   },
   "outputs": [],
   "source": [
    "import numpy as np\n",
    "np.random.seed(0)\n",
    "import pandas as pd\n",
    "import hvplot.pandas\n",
    "from sklearn import datasets\n",
    "import matplotlib.pyplot as plt"
   ]
  },
  {
   "cell_type": "code",
   "execution_count": null,
   "id": "20d86d4a-28a4-46fd-815d-795a511d0b0e",
   "metadata": {
    "tags": []
   },
   "outputs": [],
   "source": [
    "X, y = datasets.make_moons(n_samples=500, noise=0.05, random_state=1)\n"
   ]
  },
  {
   "cell_type": "code",
   "execution_count": null,
   "id": "615b5539-bc86-4589-88f4-3e007a4086d3",
   "metadata": {
    "tags": []
   },
   "outputs": [],
   "source": [
    "from sklearn.cluster import KMeans, AgglomerativeClustering, Birch\n"
   ]
  },
  {
   "cell_type": "code",
   "execution_count": null,
   "id": "53cba7c2-6a2f-41dd-adc3-f8e34454376a",
   "metadata": {
    "tags": []
   },
   "outputs": [],
   "source": [
    "# Fit and Predict Birch and Agglomerative models\n",
    "\n",
    "\n",
    "#Plot\n"
   ]
  },
  {
   "cell_type": "markdown",
   "id": "08a44783-0b2a-42ca-b286-11f8d590903a",
   "metadata": {},
   "source": [
    "### Activity 1"
   ]
  },
  {
   "cell_type": "markdown",
   "id": "10e38e05-3812-4c63-9f6b-e3aa9d47f273",
   "metadata": {},
   "source": [
    "### Dimension reduction - pca (principal component analysis)"
   ]
  },
  {
   "cell_type": "code",
   "execution_count": null,
   "id": "7bd14bc4-28a7-4fdd-8e9c-cf0de4596953",
   "metadata": {},
   "outputs": [],
   "source": [
    "# Required imports\n",
    "import pandas as pd\n",
    "import hvplot.pandas\n",
    "from pathlib import Path\n",
    "from sklearn.cluster import KMeans"
   ]
  },
  {
   "cell_type": "markdown",
   "id": "a5284921-e62e-402c-9ffc-1cdffef1d52f",
   "metadata": {},
   "source": [
    "## Load the Data Into a Pandas DataFrame"
   ]
  },
  {
   "cell_type": "code",
   "execution_count": null,
   "id": "56caff5a-30f6-4a12-bd06-7389dc236f8f",
   "metadata": {},
   "outputs": [],
   "source": [
    "# Read in the CSV file as a Pandas Dataframe\n",
    "ccinfo_default_df = pd.read_csv(\n",
    "    Path(\"Resources/ccinfo_transformed_no_dummies_only_cust_segm.csv\")\n",
    ")\n",
    "\n",
    "ccinfo_default_df.head()"
   ]
  },
  {
   "cell_type": "code",
   "execution_count": null,
   "id": "977bcb24-7812-4be3-8f45-811cef11551d",
   "metadata": {},
   "outputs": [],
   "source": [
    "# Plot the clusters using the \"limit_bal\" and \"age\" columns\n"
   ]
  },
  {
   "cell_type": "code",
   "execution_count": null,
   "id": "7c03f437-1df0-40a9-b671-b9f25d220eb7",
   "metadata": {},
   "outputs": [],
   "source": [
    "# Plot the clusters using the \"bill_amt\" and \"pay_amt\" columns\n"
   ]
  },
  {
   "cell_type": "markdown",
   "id": "2415ddd7-85b3-4d1e-8345-99d187a95b79",
   "metadata": {},
   "source": [
    "## Use PCA to reduce the number of factors "
   ]
  },
  {
   "cell_type": "code",
   "execution_count": null,
   "id": "79ee63e7-ad5f-4e1d-bdea-9bdb2a94050c",
   "metadata": {},
   "outputs": [],
   "source": [
    "# Import Stadardscaler from sklearn.preprocessing\n",
    "from sklearn.preprocessing import StandardScaler\n",
    "from sklearn.decomposition import PCA"
   ]
  },
  {
   "cell_type": "markdown",
   "id": "e583886a-2aa6-452a-83b5-09b9691f75ae",
   "metadata": {},
   "source": [
    "## PCA explained variance ratio"
   ]
  },
  {
   "cell_type": "markdown",
   "id": "20858039-a55e-43dc-8140-96903a4f4426",
   "metadata": {},
   "source": [
    "## Creating the PCA DataFrame"
   ]
  },
  {
   "cell_type": "markdown",
   "id": "33762c81-1151-44c4-8b27-8d0cbfe7b844",
   "metadata": {},
   "source": [
    "## Incorporating the PCA DataFrame into the elbow method"
   ]
  },
  {
   "cell_type": "markdown",
   "id": "25980955-c7ae-4f27-8b74-8a3a82c0dacf",
   "metadata": {},
   "source": [
    "## Segmention of the PCA data with Kmeans "
   ]
  },
  {
   "cell_type": "markdown",
   "id": "f47c89bf-c0a6-4114-9201-fafcd425ff0b",
   "metadata": {},
   "source": [
    "### activity 3,4"
   ]
  },
  {
   "cell_type": "code",
   "execution_count": null,
   "id": "724c6e40-e9da-474f-8c20-9dbfb2409b7f",
   "metadata": {},
   "outputs": [],
   "source": []
  }
 ],
 "metadata": {
  "kernelspec": {
   "display_name": "Python 3 (ipykernel)",
   "language": "python",
   "name": "python3"
  },
  "language_info": {
   "codemirror_mode": {
    "name": "ipython",
    "version": 3
   },
   "file_extension": ".py",
   "mimetype": "text/x-python",
   "name": "python",
   "nbconvert_exporter": "python",
   "pygments_lexer": "ipython3",
   "version": "3.11.5"
  }
 },
 "nbformat": 4,
 "nbformat_minor": 5
}

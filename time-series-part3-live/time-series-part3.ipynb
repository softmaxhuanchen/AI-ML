{
 "cells": [
  {
   "cell_type": "markdown",
   "metadata": {
    "id": "frvKips94eGl"
   },
   "source": [
    "### Prophet\n",
    "- Observations compress -> model <-specify model structure (like holidays, domain knowlege etc)\n",
    "\n",
    "- model -> prediction\n",
    "- visualize -> further refinement etc.\n",
    "\n"
   ]
  },
  {
   "cell_type": "code",
   "execution_count": null,
   "metadata": {
    "id": "cLf1Wf1GfeHM"
   },
   "outputs": [],
   "source": [
    "# Install the required libraries\n",
    "!pip install prophet\n",
    "!pip install hvplot\n",
    "!pip install holoviews"
   ]
  },
  {
   "cell_type": "code",
   "execution_count": null,
   "metadata": {
    "id": "Rna9lYP2g0gn"
   },
   "outputs": [],
   "source": [
    "# Import the required libraries and dependencies\n",
    "import pandas as pd\n",
    "import hvplot.pandas\n",
    "import datetime as dt\n",
    "import holoviews as hv\n",
    "from prophet import Prophet\n",
    "\n",
    "%matplotlib inline"
   ]
  },
  {
   "cell_type": "code",
   "execution_count": null,
   "metadata": {
    "id": "DN8wvYYKg2Qv"
   },
   "outputs": [],
   "source": [
    "from google.colab import files"
   ]
  },
  {
   "cell_type": "code",
   "execution_count": null,
   "metadata": {
    "id": "mn7eZeitg-w9"
   },
   "outputs": [],
   "source": [
    "hv.extension(\"bokeh\")"
   ]
  },
  {
   "cell_type": "markdown",
   "metadata": {
    "id": "v72iUY0bhR8t"
   },
   "source": [
    "### Prepare data"
   ]
  },
  {
   "cell_type": "code",
   "execution_count": null,
   "metadata": {
    "id": "IthyDX6ihO-z"
   },
   "outputs": [],
   "source": [
    "# Upload \"hourly_grid_prices.csv\" into Colab, then store in a DataFrame\n",
    "uploaded = files.upload()"
   ]
  },
  {
   "cell_type": "code",
   "execution_count": null,
   "metadata": {
    "id": "MP5DC6B5hrm6"
   },
   "outputs": [],
   "source": [
    "hourly_prices = pd.read_csv(\n",
    "    \"hourly_grid_prices.csv\",\n",
    "    parse_dates=['day-hour'],\n",
    "    infer_datetime_format=True\n",
    ").dropna()"
   ]
  },
  {
   "cell_type": "code",
   "execution_count": null,
   "metadata": {
    "id": "9xTpdLzYhwOw"
   },
   "outputs": [],
   "source": [
    "hourly_prices"
   ]
  },
  {
   "cell_type": "code",
   "execution_count": null,
   "metadata": {
    "id": "vLWA2e2jh8Vr"
   },
   "outputs": [],
   "source": [
    "hv.extension('bokeh')\n",
    "hourly_prices.hvplot()"
   ]
  },
  {
   "cell_type": "code",
   "execution_count": null,
   "metadata": {
    "id": "gpi7uDcLkT-9"
   },
   "outputs": [],
   "source": [
    "prophet_df = hourly_prices\n",
    "prophet_df.columns = ['ds', 'y']\n",
    "prophet_df.head()"
   ]
  },
  {
   "cell_type": "code",
   "execution_count": null,
   "metadata": {
    "id": "MSFnaGFUkuNL"
   },
   "outputs": [],
   "source": [
    "prophet_df.dropna(inplace=True)\n",
    "prophet_df.tail()"
   ]
  },
  {
   "cell_type": "code",
   "execution_count": null,
   "metadata": {
    "id": "kQoJRhLflE4K"
   },
   "outputs": [],
   "source": [
    "m = Prophet()"
   ]
  },
  {
   "cell_type": "code",
   "execution_count": null,
   "metadata": {
    "id": "AWwba4YWrmIQ"
   },
   "outputs": [],
   "source": [
    "m.fit(prophet_df)"
   ]
  },
  {
   "cell_type": "code",
   "execution_count": null,
   "metadata": {
    "id": "1M8c5m6brpVA"
   },
   "outputs": [],
   "source": [
    "future = m.make_future_dataframe(periods=720, freq='H')\n",
    "future"
   ]
  },
  {
   "cell_type": "code",
   "execution_count": null,
   "metadata": {
    "id": "7wKCBEeQsErA"
   },
   "outputs": [],
   "source": [
    "forecast = m.predict(future)\n",
    "display(forecast.columns)\n",
    "display(forecast.head())\n",
    "display(forecast.tail())"
   ]
  },
  {
   "cell_type": "markdown",
   "metadata": {
    "id": "9Q4mNASwtnN_"
   },
   "source": [
    "### Plot the forecast"
   ]
  },
  {
   "cell_type": "code",
   "execution_count": null,
   "metadata": {
    "id": "JFgyXFVgtbiE"
   },
   "outputs": [],
   "source": [
    "m.plot(forecast[])"
   ]
  },
  {
   "cell_type": "code",
   "execution_count": null,
   "metadata": {
    "id": "EJN_Aqxutqy-"
   },
   "outputs": [],
   "source": []
  },
  {
   "cell_type": "markdown",
   "metadata": {
    "id": "MAAfk2tZvSiP"
   },
   "source": [
    "### refine the Forecast Results"
   ]
  },
  {
   "cell_type": "code",
   "execution_count": null,
   "metadata": {
    "id": "idRY1OrcvULJ"
   },
   "outputs": [],
   "source": [
    "forecast_refined = forecast[['ds', 'yhat', 'yhat_lower', 'yhat_upper']]"
   ]
  },
  {
   "cell_type": "code",
   "execution_count": null,
   "metadata": {
    "id": "43QuzvZ9vryU"
   },
   "outputs": [],
   "source": [
    "forecast_refined.set_index('ds', inplace=True)\n",
    "forecast_refined"
   ]
  },
  {
   "cell_type": "code",
   "execution_count": null,
   "metadata": {
    "id": "VeClvPCGv0lL"
   },
   "outputs": [],
   "source": [
    "### slice the forecast df\n",
    "hv.extension('bokeh')\n",
    "forecast_refined.iloc[-720:,:].hvplot()"
   ]
  },
  {
   "cell_type": "code",
   "execution_count": null,
   "metadata": {
    "id": "6FUTK_zfwQdP"
   },
   "outputs": [],
   "source": [
    "fig = m.plot_components(forecast)"
   ]
  },
  {
   "cell_type": "code",
   "execution_count": null,
   "metadata": {
    "id": "CY72Gyk3xEiz"
   },
   "outputs": [],
   "source": [
    "### What about those outliners?\n",
    "from prophet.make_holidays import make_holidays_df\n",
    "ca_holidays = make_holidays_df(year_list = [2015 + i for i in range(10)], country = \"CA\", province = 'ON')\n",
    "ca_holidays.head(12)"
   ]
  },
  {
   "cell_type": "code",
   "execution_count": null,
   "metadata": {
    "id": "fWJQrBFGz6yR"
   },
   "outputs": [],
   "source": [
    "m1 = Prophet(holidays=ca_holidays)\n",
    "m1.fit(prophet_df)\n",
    "display(m1.train_holiday_names)"
   ]
  },
  {
   "cell_type": "code",
   "execution_count": null,
   "metadata": {
    "id": "66JtnzJOyFVC"
   },
   "outputs": [],
   "source": [
    "future1 = m1.make_future_dataframe(periods=720, freq='H')\n",
    "forecast1 = m1.predict(future1)\n",
    "forecast_refined1 = forecast1[['ds', 'yhat', 'yhat_lower', 'yhat_upper']]\n",
    "### slice the forecast df\n",
    "hv.extension('bokeh')\n",
    "forecast_refined1.iloc[-720:,:].hvplot()\n"
   ]
  },
  {
   "cell_type": "code",
   "execution_count": null,
   "metadata": {
    "id": "9V8FGHwd31HB"
   },
   "outputs": [],
   "source": [
    "fig = m1.plot_components(forecast1)"
   ]
  },
  {
   "cell_type": "code",
   "execution_count": null,
   "metadata": {
    "id": "JsZ-znrT4DSZ"
   },
   "outputs": [],
   "source": []
  }
 ],
 "metadata": {
  "colab": {
   "authorship_tag": "ABX9TyPrMQV6YyBAxudUSLKb372N",
   "provenance": []
  },
  "kernelspec": {
   "display_name": "Python 3 (ipykernel)",
   "language": "python",
   "name": "python3"
  },
  "language_info": {
   "codemirror_mode": {
    "name": "ipython",
    "version": 3
   },
   "file_extension": ".py",
   "mimetype": "text/x-python",
   "name": "python",
   "nbconvert_exporter": "python",
   "pygments_lexer": "ipython3",
   "version": "3.11.5"
  }
 },
 "nbformat": 4,
 "nbformat_minor": 4
}

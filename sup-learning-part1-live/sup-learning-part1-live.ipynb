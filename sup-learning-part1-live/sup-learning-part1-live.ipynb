{
 "cells": [
  {
   "cell_type": "markdown",
   "id": "029a05e5-60d9-4b10-90e8-1628ff3f5516",
   "metadata": {},
   "source": [
    "[reference](https://stanford.edu/~shervine/teaching/cs-229/cheatsheet-machine-learning-tips-and-tricks)\n",
    "\n",
    "![confusion matrix](confusion-matrix.png)"
   ]
  },
  {
   "cell_type": "markdown",
   "id": "84914106-940c-45a8-85e0-25ae32c6a290",
   "metadata": {},
   "source": [
    "### Review"
   ]
  },
  {
   "cell_type": "markdown",
   "id": "28f3156e-312a-4750-b1cc-67979ba0152a",
   "metadata": {},
   "source": [
    "### sup-learning: "
   ]
  },
  {
   "cell_type": "markdown",
   "id": "e72ed514-1b75-4f1c-a956-0fc91b06ffd3",
   "metadata": {
    "tags": []
   },
   "source": [
    "### Linear Regression\n"
   ]
  },
  {
   "cell_type": "code",
   "execution_count": null,
   "id": "88b9f0ad-dcd3-4f49-9ac7-dff7a16b3e4a",
   "metadata": {},
   "outputs": [],
   "source": [
    "# Import required libraries\n",
    "import numpy as np\n",
    "import pandas as pd\n",
    "import hvplot.pandas\n",
    "from pathlib import Path\n",
    "from sklearn.linear_model import LinearRegression"
   ]
  },
  {
   "cell_type": "markdown",
   "id": "0e398ce5-5cf7-42c3-b01e-e7209b502ec1",
   "metadata": {},
   "source": [
    "#### Data Loading and Visualization"
   ]
  },
  {
   "cell_type": "code",
   "execution_count": null,
   "id": "ae86708c-4ee7-4cc8-9b23-d3492c9f747a",
   "metadata": {},
   "outputs": [],
   "source": [
    "# Read salary data\n",
    "file_path = Path(\"Resources/salary_data.csv\")\n",
    "df_salary = pd.read_csv(file_path)\n",
    "\n",
    "# Display sample data\n",
    "df_salary.head()"
   ]
  },
  {
   "cell_type": "code",
   "execution_count": null,
   "id": "9323fab0-612d-4b15-b1a3-8b314bd0e673",
   "metadata": {},
   "outputs": [],
   "source": [
    "# Create a scatter plot with the salary information\n",
    "salary_plot = df_salary.hvplot.scatter(\n",
    "    x=\"years_experience\",\n",
    "    y=\"salary\",\n",
    "    title=\"Expected Salary Based on Years of Experience\"\n",
    ")\n",
    "salary_plot"
   ]
  },
  {
   "cell_type": "markdown",
   "id": "2b594a3a-5ece-487b-ac3e-ff9c7d584c4f",
   "metadata": {},
   "source": [
    "#### Data Preparation"
   ]
  },
  {
   "cell_type": "markdown",
   "id": "de262a49-9dd5-4bc9-8f10-e3ab01ee7cce",
   "metadata": {},
   "source": [
    "#### Building the Linear Regression Model"
   ]
  },
  {
   "cell_type": "markdown",
   "id": "9a15c788-4269-4ae6-a425-35ba01cac50d",
   "metadata": {},
   "source": [
    "#### Linear Regression Model Assessment"
   ]
  },
  {
   "cell_type": "code",
   "execution_count": null,
   "id": "857c5d9b-35f3-4f72-94fc-56d646d3cc0c",
   "metadata": {},
   "outputs": [],
   "source": [
    "# Import relevant metrics - score, r2, mse, rmse, std - from Scikit-learn\n",
    "from sklearn.metrics import mean_squared_error, r2_score"
   ]
  },
  {
   "cell_type": "markdown",
   "id": "5e4d5dd6-5e6d-438d-a2ff-1f2b37db8f57",
   "metadata": {
    "tags": []
   },
   "source": [
    " ### Logistic Regression\n",
    "- [model structure](https://en.wikipedia.org/wiki/Logistic_regression) "
   ]
  },
  {
   "cell_type": "code",
   "execution_count": null,
   "id": "1563d2fe-02ee-41b2-8a45-91554f7f6d69",
   "metadata": {},
   "outputs": [],
   "source": [
    "import matplotlib.pyplot as plt\n",
    "import pandas as pd"
   ]
  },
  {
   "cell_type": "markdown",
   "id": "435a505e-0637-4e5a-94f5-ad119f0d3119",
   "metadata": {},
   "source": [
    " #### Generate some data"
   ]
  },
  {
   "cell_type": "code",
   "execution_count": null,
   "id": "d21f3ff1-b254-41e9-b473-5ded4d1b8721",
   "metadata": {},
   "outputs": [],
   "source": [
    "from sklearn.datasets import make_blobs\n",
    "\n",
    "X, y = make_blobs(centers=2, random_state=42)\n",
    "\n",
    "print(f\"Labels: {y[:10]}\")\n",
    "print(f\"Data: {X[:10]}\")"
   ]
  },
  {
   "cell_type": "code",
   "execution_count": null,
   "id": "512080e2-16ff-4d55-b428-66b0bc284852",
   "metadata": {},
   "outputs": [],
   "source": [
    "# Visualizing both classes\n",
    "plt.scatter(X[:, 0], X[:, 1], c=y)"
   ]
  },
  {
   "cell_type": "markdown",
   "id": "5f45a0ff-fd3e-4958-bf44-4da4e328bd1b",
   "metadata": {},
   "source": [
    " #### Split our data into training and testing"
   ]
  },
  {
   "cell_type": "code",
   "execution_count": null,
   "id": "92901cc5-8e2d-4669-be3b-54188db48755",
   "metadata": {},
   "outputs": [],
   "source": [
    "from sklearn.model_selection import train_test_split"
   ]
  },
  {
   "cell_type": "markdown",
   "id": "b76f3f85-f37c-4183-821d-ff76eb3dc345",
   "metadata": {},
   "source": [
    " #### Create a Logistic Regression Model"
   ]
  },
  {
   "cell_type": "code",
   "execution_count": null,
   "id": "512abe7d-d90a-4d4b-882b-d0572ca520d0",
   "metadata": {},
   "outputs": [],
   "source": [
    "from sklearn.linear_model import LogisticRegression"
   ]
  },
  {
   "cell_type": "markdown",
   "id": "da237ad4-219e-4984-a930-f6a6e09994b6",
   "metadata": {},
   "source": [
    " #### Fit (train) or model using the training data"
   ]
  },
  {
   "cell_type": "code",
   "execution_count": null,
   "id": "7df5ea3c-0188-4297-80ea-49bdf57dc8df",
   "metadata": {},
   "outputs": [],
   "source": [
    "# Train the data\n",
    "classifier.fit(X_train, y_train)"
   ]
  },
  {
   "cell_type": "markdown",
   "id": "8cfeda3b-7697-4bda-8996-ba0810ea45d9",
   "metadata": {},
   "source": [
    " ### Validate the model using the test data"
   ]
  },
  {
   "cell_type": "code",
   "execution_count": null,
   "id": "fd228638-a252-4f2d-aa92-2d433469b03e",
   "metadata": {},
   "outputs": [],
   "source": [
    "# Score the model\n",
    "print(f\"Training Data Score: {classifier.score(X_train, y_train)}\")\n",
    "print(f\"Testing Data Score: {classifier.score(X_test, y_test)}\")"
   ]
  },
  {
   "cell_type": "markdown",
   "id": "cdcddf3d-edb4-4947-a270-4d0b4de9981f",
   "metadata": {},
   "source": [
    "#### Make predictions"
   ]
  },
  {
   "cell_type": "code",
   "execution_count": null,
   "id": "e492ef3a-7097-4168-99a2-75de814e9f71",
   "metadata": {},
   "outputs": [],
   "source": [
    "# Predict outcomes for test data set\n",
    "predictions = classifier.predict(X_test)\n",
    "pd.DataFrame({\"Prediction\": predictions, \"Actual\": y_test})"
   ]
  },
  {
   "cell_type": "markdown",
   "id": "6d032a2b-6860-4278-b47d-4bba435bdb11",
   "metadata": {},
   "source": [
    "#### Calculate the Accuracy Score"
   ]
  },
  {
   "cell_type": "code",
   "execution_count": null,
   "id": "72da4ceb-0fd3-488b-8e83-e58aefbd7e8a",
   "metadata": {},
   "outputs": [],
   "source": [
    "from sklearn.metrics import accuracy_score"
   ]
  },
  {
   "cell_type": "markdown",
   "id": "88553625-ac88-4af5-8961-52f31cde9ede",
   "metadata": {},
   "source": [
    "#### Make a Prediction on a New Single Data Point"
   ]
  },
  {
   "cell_type": "code",
   "execution_count": null,
   "id": "b8905bf6-918e-4fb0-9024-ca3f9f3074ab",
   "metadata": {},
   "outputs": [],
   "source": [
    "# Generate a new data point (the red circle)\n",
    "import numpy as np\n",
    "new_data = np.array([[-2, 6]])\n",
    "plt.scatter(X[:, 0], X[:, 1], c=y)\n",
    "plt.scatter(new_data[0, 0], new_data[0, 1], c=\"r\", marker=\"o\", s=100)"
   ]
  },
  {
   "cell_type": "code",
   "execution_count": null,
   "id": "ff1d7d1c-655a-4de0-abb1-399e951c5d14",
   "metadata": {},
   "outputs": [],
   "source": [
    "# Predict the class (purple or yellow) of the new data point\n",
    "new_prediction = classifier.predict(new_data)\n",
    "print(\"Classes are either 0 (purple) or 1 (yellow)\")\n",
    "print(f\"The new point was classified as: {new_prediction}\")"
   ]
  },
  {
   "cell_type": "markdown",
   "id": "30266ecc-8687-4e85-8234-80ce568549dc",
   "metadata": {},
   "source": [
    "### confusion matrix"
   ]
  },
  {
   "cell_type": "code",
   "execution_count": null,
   "id": "6b0d8772-9f20-4065-9fb4-73a837c4dc73",
   "metadata": {},
   "outputs": [],
   "source": [
    "import matplotlib.pyplot as plt\n",
    "import pandas as pd"
   ]
  },
  {
   "cell_type": "markdown",
   "id": "d779c525-c45d-4d33-a134-bbedba7c26ae",
   "metadata": {},
   "source": [
    "### Generate some data"
   ]
  },
  {
   "cell_type": "code",
   "execution_count": null,
   "id": "52761c0f-0fc6-47fc-ace5-49b55e7e994d",
   "metadata": {
    "tags": []
   },
   "outputs": [],
   "source": [
    "from sklearn.datasets import make_blobs\n",
    "\n",
    "X, y = make_blobs(centers=2, random_state=1, cluster_std=3)\n",
    "\n",
    "from sklearn.model_selection import train_test_split\n",
    "X_train, X_test, y_train, y_test = train_test_split(X, \n",
    "                                                    y, \n",
    "                                                    random_state=1, \n",
    "                                                    stratify=y)\n",
    "\n",
    "plt.scatter(X[:, 0], X[:, 1], c=y)"
   ]
  },
  {
   "cell_type": "markdown",
   "id": "e14dece3-5951-4f2c-be38-c3b5bf5b23d1",
   "metadata": {},
   "source": [
    " #### Confusion Matrix"
   ]
  },
  {
   "cell_type": "markdown",
   "id": "20767470-2d58-4a2d-a358-23c4a940632a",
   "metadata": {},
   "source": [
    " #### Classification Report"
   ]
  }
 ],
 "metadata": {
  "kernelspec": {
   "display_name": "Python 3 (ipykernel)",
   "language": "python",
   "name": "python3"
  },
  "language_info": {
   "codemirror_mode": {
    "name": "ipython",
    "version": 3
   },
   "file_extension": ".py",
   "mimetype": "text/x-python",
   "name": "python",
   "nbconvert_exporter": "python",
   "pygments_lexer": "ipython3",
   "version": "3.11.5"
  }
 },
 "nbformat": 4,
 "nbformat_minor": 5
}

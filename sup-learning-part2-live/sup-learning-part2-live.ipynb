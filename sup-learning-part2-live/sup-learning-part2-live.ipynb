{
 "cells": [
  {
   "cell_type": "markdown",
   "id": "0f7f7949-78ad-43a8-ab91-e318ca2ece30",
   "metadata": {},
   "source": [
    "### important: \n",
    "**DO NOT** focus on the math details behind different models for now, otherwise you will get lost!"
   ]
  },
  {
   "cell_type": "markdown",
   "id": "86570a4c-212e-47e5-bd86-0b530626476b",
   "metadata": {
    "tags": []
   },
   "source": [
    "[reference](https://stanford.edu/~shervine/teaching/cs-229/cheatsheet-machine-learning-tips-and-tricks)\n",
    "\n",
    "![confusion matrix](confusion-matrix.png)"
   ]
  },
  {
   "cell_type": "markdown",
   "id": "f8e11cae-2ad0-4b70-b9b5-11367dd52404",
   "metadata": {},
   "source": [
    "### Sup learning Review\n"
   ]
  },
  {
   "cell_type": "markdown",
   "id": "e05adf30-5de9-4569-b68b-b55085b85b77",
   "metadata": {},
   "source": [
    "### Overfitting\n"
   ]
  },
  {
   "cell_type": "markdown",
   "id": "d7bc5d62-b0e4-4ba9-ac4f-026f62c6d66f",
   "metadata": {
    "jp-MarkdownHeadingCollapsed": true,
    "tags": []
   },
   "source": [
    "### comparing different sup learning models (please put the math aside, only focusing the framework of suplearning)"
   ]
  },
  {
   "cell_type": "markdown",
   "id": "14cb2976-53bd-474e-980d-47445055f471",
   "metadata": {
    "tags": []
   },
   "source": [
    "### data sets"
   ]
  },
  {
   "cell_type": "code",
   "execution_count": null,
   "id": "40dfc1ae-81cc-4c15-aef0-4a41d8685ec0",
   "metadata": {
    "tags": []
   },
   "outputs": [],
   "source": [
    "import numpy as np\n",
    "import matplotlib.pyplot as plt\n",
    "from matplotlib import style\n",
    "style.use(\"ggplot\")\n",
    "from sklearn.datasets import make_blobs, make_moons, make_blobs, make_circles\n",
    "\n",
    "# Generate datasets\n",
    "datasets = [\n",
    "    make_moons(n_samples=1000, noise=0.3, random_state=42),  # Moons Data\n",
    "    make_blobs(n_samples=300, n_features=2, centers=2, random_state=5, cluster_std=1.95), # Blobs Data\n",
    "    make_circles(n_samples=300, noise=0.05, random_state=42), # Circles Data\n",
    "    make_moons(n_samples=300, noise=0.9, random_state=0), # Interleaved Moons\n",
    "    make_blobs(n_samples=300, n_features=2, centers=2, cluster_std=[3.0, 5.5], random_state=0), # Varied Blobs\n",
    "    make_circles(n_samples=300, noise=0.9, factor=0.5, random_state=0), # Concentric Circles\n",
    "]\n",
    "\n",
    "# Plot each dataset\n",
    "fig, axs = plt.subplots(3, 3, figsize=(10, 10))  # Adjust subplot grid as needed\n",
    "axs = axs.flatten()  # Flatten the array of axes for easy iteration\n",
    "\n",
    "for i, dataset in enumerate(datasets):\n",
    "    X, y = dataset    \n",
    "    axs[i].scatter(X[:, 0], X[:, 1], c=y, cmap=plt.cm.coolwarm, s=20, edgecolor='k')\n",
    "    axs[i].set_title(f\"Dataset {i+1}\")\n",
    "\n",
    "# Hide any unused subplots\n",
    "for ax in axs[len(datasets):]:\n",
    "    ax.axis('off')\n",
    "\n",
    "plt.tight_layout()\n",
    "plt.show()\n",
    "\n",
    "\n"
   ]
  },
  {
   "cell_type": "markdown",
   "id": "7abc3810-3c7e-4596-967e-4fbfa1e421be",
   "metadata": {},
   "source": [
    "### Models"
   ]
  },
  {
   "cell_type": "code",
   "execution_count": null,
   "id": "1aad357d-f566-4053-aed3-04a23bfb0ad0",
   "metadata": {},
   "outputs": [],
   "source": [
    "from sklearn.datasets import make_moons, make_blobs, make_circles\n",
    "from sklearn.model_selection import train_test_split\n",
    "from sklearn.metrics import classification_report\n",
    "\n",
    "# Classification models\n",
    "from sklearn.svm import SVC\n",
    "from sklearn.tree import DecisionTreeClassifier\n",
    "from sklearn.ensemble import RandomForestClassifier, GradientBoostingClassifier\n",
    "from sklearn.neighbors import KNeighborsClassifier\n",
    "\n",
    "# Create a dictionary of the models\n",
    "models = {\n",
    "    \"SVM\": SVC(kernel='rbf', random_state=42),\n",
    "    \"Decision Tree\": DecisionTreeClassifier(random_state=42),\n",
    "    \"Random Forest\": RandomForestClassifier(random_state=42),\n",
    "    \"Gradient Boosting\": GradientBoostingClassifier(random_state=42),\n",
    "    \"KNN\": KNeighborsClassifier()\n",
    "}\n",
    "\n",
    "datasets = {\n",
    "    # \"Moons Data\": make_moons(n_samples=1000, noise=0.3, random_state=42),\n",
    "    # \"Blobs Data\": make_blobs(n_samples=1000, n_features=2, centers=2, random_state=5, cluster_std=1.95),\n",
    "    # \"Circles Data\": make_circles(n_samples=1000, noise=0.05, random_state=42),\n",
    "    \"Interleaved Moons\": make_moons(n_samples=10000, noise=0.9, random_state=0),\n",
    "    \"Varied Blobs\": make_blobs(n_samples=10000, n_features=2, centers=2, cluster_std=[3.0, 5.5], random_state=0),\n",
    "    \"Concentric Circles\": make_circles(n_samples=10000, noise=0.9, factor=0.5, random_state=0),\n",
    "    \"High Dimensional Blobs\": make_blobs(n_samples=10000, n_features=100, centers=2, random_state=5, cluster_std=3.95),\n",
    "}\n",
    "\n",
    "\n",
    "# Function to fit and evaluate models\n",
    "def fit_and_evaluate(models, datasets):\n",
    "    for data_name, (X, y) in datasets.items():\n",
    "        # Split the dataset into training and testing sets\n",
    "        X_train, X_test, y_train, y_test = train_test_split(X, y, test_size=0.2, random_state=42)\n",
    "        print(f\"\\n{data_name} Results:\\n\")\n",
    "        for name, model in models.items():\n",
    "            # Fit the model\n",
    "            model.fit(X_train, y_train)\n",
    "            # Make predictions\n",
    "            predictions = model.predict(X_test)\n",
    "            # Print classification report\n",
    "            print(f\"{name} Classification Report:\")\n",
    "            print(classification_report(y_test, predictions))\n",
    "            print(\"---------------------------------------------\")\n",
    "\n",
    "fit_and_evaluate(models, datasets)\n"
   ]
  },
  {
   "cell_type": "markdown",
   "id": "65aa9dec-96dd-476d-bb4e-7697cab60ea5",
   "metadata": {},
   "source": [
    "### Insight: models are just different structures with different knobs. But the framework is general"
   ]
  },
  {
   "cell_type": "markdown",
   "id": "01286a8c-0614-48e8-b1e3-38b04ccbcd39",
   "metadata": {
    "tags": []
   },
   "source": [
    "### SVM"
   ]
  },
  {
   "cell_type": "code",
   "execution_count": null,
   "id": "3e03fdb6-69dc-4f85-a96f-42dd99808760",
   "metadata": {},
   "outputs": [],
   "source": [
    "import numpy as np\n",
    "import matplotlib.pyplot as plt\n",
    "\n",
    "from matplotlib import style\n",
    "style.use(\"ggplot\")"
   ]
  },
  {
   "cell_type": "code",
   "execution_count": null,
   "id": "c3084604-c5e9-4309-91dd-d91275759cda",
   "metadata": {},
   "outputs": [],
   "source": [
    "# Demonstrate that support vectors will sometimes cross the margin\n",
    "# X, y = make_circles(n_samples=300, noise=0.05, random_state=42)\n",
    "X, y = make_blobs(n_samples=100, n_features=2, centers=2, random_state=5, cluster_std=0.95)\n",
    "\n",
    "plt.scatter(X[:, 0], X[:, 1], c=y, s=100, cmap=\"bwr\")\n",
    "plt.show()\n",
    "\n"
   ]
  },
  {
   "cell_type": "code",
   "execution_count": null,
   "id": "89a670fc-1706-4e7b-848d-6b28f7649786",
   "metadata": {},
   "outputs": [],
   "source": [
    "# Split data into training and testing\n",
    "from sklearn.model_selection import train_test_split\n",
    "X_train, X_test, y_train, y_test = train_test_split(X, y, random_state=42)"
   ]
  },
  {
   "cell_type": "markdown",
   "id": "1a5e8687-6efe-43e2-a163-255a8dec955d",
   "metadata": {
    "tags": []
   },
   "source": [
    "### DT"
   ]
  },
  {
   "cell_type": "code",
   "execution_count": null,
   "id": "a811a62e-43de-4e83-8b9d-f46392738bfc",
   "metadata": {
    "tags": []
   },
   "outputs": [],
   "source": [
    "# Import Modules\n",
    "import pandas as pd\n",
    "from pathlib import Path\n",
    "from sklearn import tree\n",
    "from sklearn.preprocessing import StandardScaler\n",
    "from sklearn.model_selection import train_test_split\n",
    "from sklearn.metrics import classification_report\n"
   ]
  },
  {
   "cell_type": "code",
   "execution_count": null,
   "id": "ad1b22ee-339f-4e9f-911f-cc38c1859d68",
   "metadata": {
    "tags": []
   },
   "outputs": [],
   "source": [
    "# Loading data\n",
    "file_path = Path(\"Resources/credit_data.csv\")\n",
    "df = pd.read_csv(file_path)\n",
    "df['credit_risk'].value_counts()"
   ]
  },
  {
   "cell_type": "code",
   "execution_count": null,
   "id": "362a5dd1-7602-443f-a549-edc4a60a0ee5",
   "metadata": {
    "tags": []
   },
   "outputs": [],
   "source": [
    "# Split target column from dataset\n",
    "y = df['credit_risk']\n",
    "X = df.drop(columns='credit_risk')\n",
    "\n",
    "# Set Index\n",
    "X = X.set_index('id')\n",
    "display(X.columns)\n",
    "X"
   ]
  },
  {
   "cell_type": "markdown",
   "id": "c89af4b3-9412-468a-ba4f-8776d93e8d76",
   "metadata": {},
   "source": [
    "#### Fitting the Decision Tree Model"
   ]
  },
  {
   "cell_type": "markdown",
   "id": "eb78e6e3-4496-4565-bb67-dac0e7d18aed",
   "metadata": {},
   "source": [
    "#### Making Predictions Using the Tree Model"
   ]
  },
  {
   "cell_type": "markdown",
   "id": "7f78fef1-b428-4126-80fa-9f627847e3ae",
   "metadata": {},
   "source": [
    "#### Model Evaluation"
   ]
  },
  {
   "cell_type": "markdown",
   "id": "3785a593-403b-48d6-96b8-6dcffa273af6",
   "metadata": {
    "tags": []
   },
   "source": [
    "### RF"
   ]
  },
  {
   "cell_type": "code",
   "execution_count": null,
   "id": "9a9871bc-4db7-44fd-a6f7-1964e2d767a7",
   "metadata": {
    "tags": []
   },
   "outputs": [],
   "source": [
    "# Initial imports\n",
    "import pandas as pd\n",
    "from pathlib import Path\n",
    "from sklearn.ensemble import RandomForestClassifier\n",
    "from sklearn.preprocessing import StandardScaler\n",
    "from sklearn.model_selection import train_test_split\n",
    "from sklearn.metrics import confusion_matrix, accuracy_score, classification_report"
   ]
  },
  {
   "cell_type": "markdown",
   "id": "6bcbe636-a022-4c6d-90a3-0b439222da4d",
   "metadata": {},
   "source": [
    "#### Loading and Preprocessing Loans Encoded Data"
   ]
  },
  {
   "cell_type": "code",
   "execution_count": null,
   "id": "305e7613-2875-4924-925a-3495720085ba",
   "metadata": {
    "tags": []
   },
   "outputs": [],
   "source": [
    "# Loading data\n",
    "file_path = Path(\"Resources/loans_data_encoded.csv\")\n",
    "df_loans = pd.read_csv(file_path)\n",
    "df_loans.head()"
   ]
  },
  {
   "cell_type": "markdown",
   "id": "e831364c-7d83-41b8-adfd-2b5fd57cd32a",
   "metadata": {},
   "source": [
    "#### Fitting the Random Forest Model"
   ]
  },
  {
   "cell_type": "markdown",
   "id": "6416fbfa-874b-4ed5-81fa-0b5da56bbbf1",
   "metadata": {},
   "source": [
    "#### Model Evaluation"
   ]
  },
  {
   "cell_type": "markdown",
   "id": "2a304164-2025-45be-aad4-49e6d249daca",
   "metadata": {},
   "source": [
    "#### Feature Importance"
   ]
  },
  {
   "cell_type": "code",
   "execution_count": null,
   "id": "f2e176e7-f241-48d0-8f40-8a34815561a1",
   "metadata": {
    "tags": []
   },
   "outputs": [],
   "source": [
    "# Random Forests in sklearn will automatically calculate feature importance\n",
    "importances = rf_model.feature_importances_"
   ]
  },
  {
   "cell_type": "code",
   "execution_count": null,
   "id": "5dca357e-929c-40a8-89cf-c274992150f2",
   "metadata": {
    "tags": []
   },
   "outputs": [],
   "source": [
    "# We can sort the features by their importance\n",
    "sorted(zip(rf_model.feature_importances_, X.columns), reverse=True)"
   ]
  },
  {
   "cell_type": "markdown",
   "id": "b43c8d0f-66d2-4c33-b03f-fe0cffd5a27c",
   "metadata": {},
   "source": [
    "### KNN"
   ]
  },
  {
   "cell_type": "code",
   "execution_count": null,
   "id": "52dcd7c6-dac6-4bc5-a0c8-78d2e6ea1717",
   "metadata": {
    "tags": []
   },
   "outputs": [],
   "source": [
    "# Import Modules\n",
    "import pandas as pd\n",
    "from pathlib import Path\n",
    "from sklearn.neighbors import KNeighborsClassifier\n",
    "from sklearn.model_selection import train_test_split\n",
    "from sklearn.metrics import confusion_matrix,classification_report\n",
    "from sklearn.preprocessing import StandardScaler"
   ]
  }
 ],
 "metadata": {
  "kernelspec": {
   "display_name": "Python 3 (ipykernel)",
   "language": "python",
   "name": "python3"
  },
  "language_info": {
   "codemirror_mode": {
    "name": "ipython",
    "version": 3
   },
   "file_extension": ".py",
   "mimetype": "text/x-python",
   "name": "python",
   "nbconvert_exporter": "python",
   "pygments_lexer": "ipython3",
   "version": "3.11.5"
  }
 },
 "nbformat": 4,
 "nbformat_minor": 5
}

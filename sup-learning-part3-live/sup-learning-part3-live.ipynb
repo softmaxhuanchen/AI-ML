{
 "cells": [
  {
   "cell_type": "markdown",
   "id": "71402892-5b08-4770-bc6c-52cf1e64d7fa",
   "metadata": {},
   "source": [
    "### More about overfitting\n",
    "- the task: y = f(X), given n sample pairs of n * (y, X), we are looking the good 'f'. \n",
    "- if we use RF, how many estimators we need to have?"
   ]
  },
  {
   "cell_type": "code",
   "execution_count": null,
   "id": "4d7df1a1-2445-4877-9758-20386af9a806",
   "metadata": {
    "tags": []
   },
   "outputs": [],
   "source": [
    "import numpy as np\n",
    "import matplotlib.pyplot as plt\n",
    "\n",
    "np.random.seed(42)\n",
    "\n",
    "# Generate X values\n",
    "X = np.linspace(0, 10, 100)\n",
    "\n",
    "# Function to generate Y values with noise\n",
    "def generate_y(X, noise_level):\n",
    "    noise = np.random.normal(0, noise_level, X.shape)\n",
    "    y = X * 2 + noise\n",
    "    return y\n",
    "\n",
    "# Generate Y values with different levels of noise\n",
    "y_low_noise = generate_y(X, 1)   # Low noise\n",
    "y_med_noise = generate_y(X, 3)   # Medium noise\n",
    "y_high_noise = generate_y(X, 5)  # High noise\n",
    "\n",
    "# Plotting\n",
    "plt.figure(figsize=(18, 6))\n",
    "\n",
    "plt.subplot(1, 3, 1)\n",
    "plt.scatter(X, y_low_noise, alpha=0.6)\n",
    "plt.title('Low Noise')\n",
    "plt.xlabel('X')\n",
    "plt.ylabel('y')\n",
    "\n",
    "plt.subplot(1, 3, 2)\n",
    "plt.scatter(X, y_med_noise, alpha=0.6)\n",
    "plt.title('Medium Noise')\n",
    "plt.xlabel('X')\n",
    "plt.ylabel('y')\n",
    "\n",
    "plt.subplot(1, 3, 3)\n",
    "plt.scatter(X, y_high_noise, alpha=0.6)\n",
    "plt.title('High Noise')\n",
    "plt.xlabel('X')\n",
    "plt.ylabel('y')\n",
    "\n",
    "plt.tight_layout()\n",
    "plt.show()\n"
   ]
  },
  {
   "cell_type": "markdown",
   "id": "6722b4ee-6001-4801-b4e3-71c0ba848b48",
   "metadata": {},
   "source": [
    "### insights"
   ]
  },
  {
   "cell_type": "markdown",
   "id": "b7e97499-bf7f-44df-9338-548566738e69",
   "metadata": {},
   "source": [
    "### Review Eval metrics\n",
    "![confusion matrix](confusion-matrix.png)"
   ]
  },
  {
   "cell_type": "markdown",
   "id": "4725435f-fe6b-44dc-9c2c-0d7841e9fb30",
   "metadata": {},
   "source": [
    "### imblanced classes"
   ]
  },
  {
   "cell_type": "code",
   "execution_count": 1,
   "id": "1c2dccf1-f74a-49e8-b81c-8e9f6fb80cbd",
   "metadata": {},
   "outputs": [],
   "source": [
    "%matplotlib inline\n",
    "import matplotlib.pyplot as plt\n",
    "import pandas as pd"
   ]
  },
  {
   "cell_type": "code",
   "execution_count": null,
   "id": "41a50237-2dec-4518-8f3a-aa7fcd23012c",
   "metadata": {},
   "outputs": [],
   "source": [
    "# Generate Test Data\n",
    "from sklearn.datasets import make_blobs\n",
    "X, y = make_blobs(n_samples=[200, 20], random_state=1, cluster_std=6)\n",
    "plt.scatter(X[:, 0], X[:, 1], c=y)"
   ]
  },
  {
   "cell_type": "code",
   "execution_count": 3,
   "id": "1b5436d9-50ef-401d-905b-2938eb28e6e2",
   "metadata": {},
   "outputs": [
    {
     "data": {
      "text/html": [
       "<style>#sk-container-id-1 {color: black;}#sk-container-id-1 pre{padding: 0;}#sk-container-id-1 div.sk-toggleable {background-color: white;}#sk-container-id-1 label.sk-toggleable__label {cursor: pointer;display: block;width: 100%;margin-bottom: 0;padding: 0.3em;box-sizing: border-box;text-align: center;}#sk-container-id-1 label.sk-toggleable__label-arrow:before {content: \"▸\";float: left;margin-right: 0.25em;color: #696969;}#sk-container-id-1 label.sk-toggleable__label-arrow:hover:before {color: black;}#sk-container-id-1 div.sk-estimator:hover label.sk-toggleable__label-arrow:before {color: black;}#sk-container-id-1 div.sk-toggleable__content {max-height: 0;max-width: 0;overflow: hidden;text-align: left;background-color: #f0f8ff;}#sk-container-id-1 div.sk-toggleable__content pre {margin: 0.2em;color: black;border-radius: 0.25em;background-color: #f0f8ff;}#sk-container-id-1 input.sk-toggleable__control:checked~div.sk-toggleable__content {max-height: 200px;max-width: 100%;overflow: auto;}#sk-container-id-1 input.sk-toggleable__control:checked~label.sk-toggleable__label-arrow:before {content: \"▾\";}#sk-container-id-1 div.sk-estimator input.sk-toggleable__control:checked~label.sk-toggleable__label {background-color: #d4ebff;}#sk-container-id-1 div.sk-label input.sk-toggleable__control:checked~label.sk-toggleable__label {background-color: #d4ebff;}#sk-container-id-1 input.sk-hidden--visually {border: 0;clip: rect(1px 1px 1px 1px);clip: rect(1px, 1px, 1px, 1px);height: 1px;margin: -1px;overflow: hidden;padding: 0;position: absolute;width: 1px;}#sk-container-id-1 div.sk-estimator {font-family: monospace;background-color: #f0f8ff;border: 1px dotted black;border-radius: 0.25em;box-sizing: border-box;margin-bottom: 0.5em;}#sk-container-id-1 div.sk-estimator:hover {background-color: #d4ebff;}#sk-container-id-1 div.sk-parallel-item::after {content: \"\";width: 100%;border-bottom: 1px solid gray;flex-grow: 1;}#sk-container-id-1 div.sk-label:hover label.sk-toggleable__label {background-color: #d4ebff;}#sk-container-id-1 div.sk-serial::before {content: \"\";position: absolute;border-left: 1px solid gray;box-sizing: border-box;top: 0;bottom: 0;left: 50%;z-index: 0;}#sk-container-id-1 div.sk-serial {display: flex;flex-direction: column;align-items: center;background-color: white;padding-right: 0.2em;padding-left: 0.2em;position: relative;}#sk-container-id-1 div.sk-item {position: relative;z-index: 1;}#sk-container-id-1 div.sk-parallel {display: flex;align-items: stretch;justify-content: center;background-color: white;position: relative;}#sk-container-id-1 div.sk-item::before, #sk-container-id-1 div.sk-parallel-item::before {content: \"\";position: absolute;border-left: 1px solid gray;box-sizing: border-box;top: 0;bottom: 0;left: 50%;z-index: -1;}#sk-container-id-1 div.sk-parallel-item {display: flex;flex-direction: column;z-index: 1;position: relative;background-color: white;}#sk-container-id-1 div.sk-parallel-item:first-child::after {align-self: flex-end;width: 50%;}#sk-container-id-1 div.sk-parallel-item:last-child::after {align-self: flex-start;width: 50%;}#sk-container-id-1 div.sk-parallel-item:only-child::after {width: 0;}#sk-container-id-1 div.sk-dashed-wrapped {border: 1px dashed gray;margin: 0 0.4em 0.5em 0.4em;box-sizing: border-box;padding-bottom: 0.4em;background-color: white;}#sk-container-id-1 div.sk-label label {font-family: monospace;font-weight: bold;display: inline-block;line-height: 1.2em;}#sk-container-id-1 div.sk-label-container {text-align: center;}#sk-container-id-1 div.sk-container {/* jupyter's `normalize.less` sets `[hidden] { display: none; }` but bootstrap.min.css set `[hidden] { display: none !important; }` so we also need the `!important` here to be able to override the default hidden behavior on the sphinx rendered scikit-learn.org. See: https://github.com/scikit-learn/scikit-learn/issues/21755 */display: inline-block !important;position: relative;}#sk-container-id-1 div.sk-text-repr-fallback {display: none;}</style><div id=\"sk-container-id-1\" class=\"sk-top-container\"><div class=\"sk-text-repr-fallback\"><pre>LogisticRegression()</pre><b>In a Jupyter environment, please rerun this cell to show the HTML representation or trust the notebook. <br />On GitHub, the HTML representation is unable to render, please try loading this page with nbviewer.org.</b></div><div class=\"sk-container\" hidden><div class=\"sk-item\"><div class=\"sk-estimator sk-toggleable\"><input class=\"sk-toggleable__control sk-hidden--visually\" id=\"sk-estimator-id-1\" type=\"checkbox\" checked><label for=\"sk-estimator-id-1\" class=\"sk-toggleable__label sk-toggleable__label-arrow\">LogisticRegression</label><div class=\"sk-toggleable__content\"><pre>LogisticRegression()</pre></div></div></div></div></div>"
      ],
      "text/plain": [
       "LogisticRegression()"
      ]
     },
     "execution_count": 3,
     "metadata": {},
     "output_type": "execute_result"
    }
   ],
   "source": [
    "from sklearn.model_selection import train_test_split\n",
    "X_train, X_test, y_train, y_test = train_test_split(X, y, random_state=1, stratify=y)\n",
    "# Create a Logistic Regression Model\n",
    "from sklearn.linear_model import LogisticRegression\n",
    "classifier = LogisticRegression()\n",
    "# Fit (train) or model using the training data\n",
    "classifier.fit(X_train, y_train)"
   ]
  },
  {
   "cell_type": "code",
   "execution_count": null,
   "id": "a539a43b-642f-43ae-b168-162a7f92c52b",
   "metadata": {},
   "outputs": [],
   "source": [
    "predictions = classifier.predict(X_test)\n",
    "pd.DataFrame({\"Prediction\": predictions, \"Actual\": y_test})"
   ]
  },
  {
   "cell_type": "code",
   "execution_count": 5,
   "id": "db6d33fd-9164-4ecf-a7ba-c9f2fa633212",
   "metadata": {},
   "outputs": [
    {
     "data": {
      "text/plain": [
       "array([[50,  0],\n",
       "       [ 4,  1]])"
      ]
     },
     "execution_count": 5,
     "metadata": {},
     "output_type": "execute_result"
    }
   ],
   "source": [
    "from sklearn.metrics import confusion_matrix\n",
    "confusion_matrix(y_test, predictions)"
   ]
  },
  {
   "cell_type": "code",
   "execution_count": 6,
   "id": "e4a976cd-a2a8-4639-b412-81c547b5d61c",
   "metadata": {},
   "outputs": [
    {
     "name": "stdout",
     "output_type": "stream",
     "text": [
      "              precision    recall  f1-score   support\n",
      "\n",
      "Class Purple       0.93      1.00      0.96        50\n",
      "Class Yellow       1.00      0.20      0.33         5\n",
      "\n",
      "    accuracy                           0.93        55\n",
      "   macro avg       0.96      0.60      0.65        55\n",
      "weighted avg       0.93      0.93      0.90        55\n",
      "\n"
     ]
    }
   ],
   "source": [
    "from sklearn.metrics import classification_report\n",
    "target_names = [\"Class Purple\", \"Class Yellow\"]\n",
    "print(classification_report(y_test, predictions, target_names=target_names))"
   ]
  },
  {
   "cell_type": "markdown",
   "id": "8bbe9c20-4a2e-4490-a645-fc4472b6b7b0",
   "metadata": {},
   "source": [
    "### Activity 2\n",
    "- which classes is important?\n",
    "- what is better/worse, fp, fn?"
   ]
  },
  {
   "cell_type": "markdown",
   "id": "4bcb5a85-5d63-46d5-8f58-abf997f567e0",
   "metadata": {},
   "source": [
    "### The Problem"
   ]
  },
  {
   "cell_type": "markdown",
   "id": "57eda456-8bb0-436d-81fe-1a5f7a452206",
   "metadata": {},
   "source": [
    "### resampling"
   ]
  },
  {
   "cell_type": "code",
   "execution_count": null,
   "id": "d5eb5cb5-7e70-4788-9226-877eee7fce8a",
   "metadata": {},
   "outputs": [],
   "source": [
    "import numpy as np\n",
    "import matplotlib.pyplot as plt\n",
    "from sklearn.datasets import make_blobs\n",
    "from sklearn.model_selection import train_test_split"
   ]
  },
  {
   "cell_type": "markdown",
   "id": "e68b8baf-9157-4ce4-97d9-d1158d998a54",
   "metadata": {},
   "source": [
    "#### Generating the features and targets dataset"
   ]
  },
  {
   "cell_type": "markdown",
   "id": "50c7b46d-c401-4853-a6f5-068a125b1896",
   "metadata": {},
   "source": [
    "#### Random Undersampling\n",
    "- you might need to update the imblearn lib using\n",
    "- 'conda update scikit-learn imbalanced-learn'"
   ]
  },
  {
   "cell_type": "markdown",
   "id": "9ef54d0b-feec-45bf-9a92-5c55fde4695d",
   "metadata": {},
   "source": [
    "#### Undersampling explained\n"
   ]
  },
  {
   "cell_type": "code",
   "execution_count": null,
   "id": "d1f34bae-e128-4807-ba7f-f7b89e4e6a12",
   "metadata": {},
   "outputs": [],
   "source": [
    "from imblearn.under_sampling import RandomUnderSampler\n",
    "from sklearn.ensemble import RandomForestClassifier\n",
    "from sklearn.metrics import classification_report\n"
   ]
  },
  {
   "cell_type": "markdown",
   "id": "e90f8347-dfea-4c56-b7ef-ddb18d6ffa5e",
   "metadata": {},
   "source": [
    "#### Random Oversampling explained"
   ]
  },
  {
   "cell_type": "code",
   "execution_count": null,
   "id": "e215f0d0-dc42-4b7a-8fcc-c8ec7c61c811",
   "metadata": {},
   "outputs": [],
   "source": [
    "from imblearn.over_sampling import RandomOverSampler"
   ]
  },
  {
   "cell_type": "markdown",
   "id": "0b9b8cc6-7034-4f02-9585-313368198718",
   "metadata": {},
   "source": [
    "### Synthetic Resampling"
   ]
  },
  {
   "cell_type": "code",
   "execution_count": null,
   "id": "79eeb6c3-defe-4e57-bd93-57208f25d15f",
   "metadata": {},
   "outputs": [],
   "source": [
    "import pandas as pd\n",
    "import matplotlib.pyplot as plt\n",
    "from sklearn.datasets import make_blobs\n",
    "from sklearn.model_selection import train_test_split\n",
    "from sklearn.ensemble import RandomForestClassifier\n",
    "from sklearn.metrics import classification_report"
   ]
  },
  {
   "cell_type": "markdown",
   "id": "aaf4d843-a85e-452a-a344-93e8c3cf6f2f",
   "metadata": {},
   "source": [
    "#### Generate an imbalanced data set"
   ]
  },
  {
   "cell_type": "code",
   "execution_count": null,
   "id": "5ff5f58f-53ce-4623-b804-cb3aa5fa5111",
   "metadata": {},
   "outputs": [],
   "source": [
    "# Generate Data\n",
    "X, y = make_blobs(n_samples=[5000, 50], random_state=1, cluster_std=7)\n",
    "X = pd.DataFrame(X)\n",
    "y = pd.Series(y)"
   ]
  },
  {
   "cell_type": "code",
   "execution_count": null,
   "id": "c9c2e8b2-d242-4ec0-9f3b-2f9e38497d9e",
   "metadata": {},
   "outputs": [],
   "source": [
    "# Plot data\n",
    "plt.scatter(\n",
    "    x=X[0],\n",
    "    y=X[1],\n",
    "    c=y)\n",
    "plt.show()"
   ]
  },
  {
   "cell_type": "code",
   "execution_count": null,
   "id": "f8685a0d-9b4d-42b0-b95d-2b59ec664743",
   "metadata": {},
   "outputs": [],
   "source": [
    "# Split data\n",
    "X_train, X_test, y_train, y_test = train_test_split(X, y, random_state=1)"
   ]
  },
  {
   "cell_type": "code",
   "execution_count": null,
   "id": "3675cdff-c7fc-4572-9b2b-b05c62e27f1c",
   "metadata": {},
   "outputs": [],
   "source": [
    "# Count distinct values\n",
    "y_train.value_counts()"
   ]
  },
  {
   "cell_type": "markdown",
   "id": "f4f48bae-1300-4509-9f99-2735356c8354",
   "metadata": {},
   "source": [
    "#### Cluster Centroids explained\n"
   ]
  },
  {
   "cell_type": "code",
   "execution_count": null,
   "id": "c03e99f0-c8b1-4890-93bf-8510971a5d22",
   "metadata": {},
   "outputs": [],
   "source": [
    "from imblearn.under_sampling import ClusterCentroids\n"
   ]
  },
  {
   "cell_type": "markdown",
   "id": "2f93ea01-109b-4305-99fc-e332b5345414",
   "metadata": {},
   "source": [
    "#### SMOTE"
   ]
  },
  {
   "cell_type": "code",
   "execution_count": null,
   "id": "00d1ff62-0216-421d-8bbd-0cb7ff944f9d",
   "metadata": {},
   "outputs": [],
   "source": [
    "from imblearn.over_sampling import SMOTE\n"
   ]
  },
  {
   "cell_type": "markdown",
   "id": "3bb59c45-823e-42e0-aa86-3a1bb2dd2244",
   "metadata": {},
   "source": [
    "#### SMOTEENN\n"
   ]
  },
  {
   "cell_type": "code",
   "execution_count": null,
   "id": "c1258e70-120a-4780-9875-78190e67b635",
   "metadata": {},
   "outputs": [],
   "source": [
    "from imblearn.combine import SMOTEENN\n"
   ]
  },
  {
   "cell_type": "markdown",
   "id": "6bc69028-9b40-4c36-b618-ce9425d047fa",
   "metadata": {},
   "source": [
    "### Balanced Random Forest"
   ]
  },
  {
   "cell_type": "code",
   "execution_count": null,
   "id": "f21106cf-51f5-4af2-bcb3-f4d8db42f727",
   "metadata": {},
   "outputs": [],
   "source": [
    "import pandas as pd\n",
    "from sklearn.preprocessing import StandardScaler\n",
    "from sklearn.model_selection import train_test_split\n",
    "from sklearn.metrics import classification_report"
   ]
  },
  {
   "cell_type": "markdown",
   "id": "de0f90f1-299a-4166-8030-f13415daf309",
   "metadata": {},
   "source": [
    "#### Prepare the data"
   ]
  },
  {
   "cell_type": "code",
   "execution_count": null,
   "id": "f448dcff-17aa-4080-996c-978b791b0e88",
   "metadata": {},
   "outputs": [],
   "source": [
    "# Read dataset\n",
    "df = pd.read_csv('Resources/credit_data.csv')\n",
    "df.head()"
   ]
  },
  {
   "cell_type": "code",
   "execution_count": null,
   "id": "077a705d-8c84-4234-a013-deaccf957582",
   "metadata": {},
   "outputs": [],
   "source": [
    "# Split target column from dataset\n",
    "y = df['credit_risk']\n",
    "X = df.drop(columns='credit_risk')"
   ]
  },
  {
   "cell_type": "code",
   "execution_count": null,
   "id": "2dfdd102-f2f8-41fa-b1f1-bd1fe673d0f7",
   "metadata": {},
   "outputs": [],
   "source": [
    "# Encode the categorical variables using get_dummies\n",
    "X = pd.get_dummies(X)"
   ]
  },
  {
   "cell_type": "code",
   "execution_count": null,
   "id": "fb67305d-9cee-44d8-80df-a7341ece7ee8",
   "metadata": {},
   "outputs": [],
   "source": [
    "# Split data\n",
    "X_train, X_test, y_train, y_test = train_test_split(X, y, random_state=1)"
   ]
  },
  {
   "cell_type": "code",
   "execution_count": null,
   "id": "ea9a7585-c840-4514-82b6-e6bbdd3b1afb",
   "metadata": {},
   "outputs": [],
   "source": [
    "# Count distinct values\n",
    "y_train.value_counts()"
   ]
  },
  {
   "cell_type": "code",
   "execution_count": null,
   "id": "edb6303d-c7ae-491f-94bb-7dd13ccfb942",
   "metadata": {},
   "outputs": [],
   "source": [
    "# Scale the data\n",
    "scaler = StandardScaler()\n",
    "X_scaler = scaler.fit(X_train)\n",
    "X_train_scaled = X_scaler.transform(X_train)\n",
    "X_test_scaled = X_scaler.transform(X_test)"
   ]
  },
  {
   "cell_type": "code",
   "execution_count": null,
   "id": "efe2f2e8-85e6-4abb-acbe-b665f30c1554",
   "metadata": {},
   "outputs": [],
   "source": [
    "from sklearn.ensemble import RandomForestClassifier\n",
    "rf = RandomForestClassifier()\n",
    "rf.fit(X_train_scaled, y_train)\n",
    "y_pred_rf = rf.predict(X_test_scaled)\n",
    "# Print classification report\n",
    "print(classification_report(y_test, y_pred_rf))"
   ]
  },
  {
   "cell_type": "markdown",
   "id": "540c1c0b-162f-438c-ba75-36403fc56076",
   "metadata": {},
   "source": [
    "#### BalancedRandomForestClassifier"
   ]
  },
  {
   "cell_type": "code",
   "execution_count": null,
   "id": "706aafa0-eded-481a-9a56-8293c9697eea",
   "metadata": {},
   "outputs": [],
   "source": [
    "from imblearn.ensemble import BalancedRandomForestClassifier\n",
    "brf = BalancedRandomForestClassifier()\n",
    "brf.fit(X_train_scaled, y_train)"
   ]
  },
  {
   "cell_type": "code",
   "execution_count": null,
   "id": "4e07001d-db5e-4114-9ce9-d5413767cc0a",
   "metadata": {},
   "outputs": [],
   "source": [
    "# Predict labels for testing features\n",
    "y_pred = brf.predict(X_test_scaled)"
   ]
  },
  {
   "cell_type": "code",
   "execution_count": null,
   "id": "e07a6aeb-3237-4cca-939c-f24ca2791129",
   "metadata": {},
   "outputs": [],
   "source": [
    "# Print classification report\n",
    "print(classification_report(y_test, y_pred))"
   ]
  },
  {
   "cell_type": "code",
   "execution_count": null,
   "id": "ced6cc63-7898-48b0-9660-aa17a15ec002",
   "metadata": {},
   "outputs": [],
   "source": []
  }
 ],
 "metadata": {
  "kernelspec": {
   "display_name": "Python 3 (ipykernel)",
   "language": "python",
   "name": "python3"
  },
  "language_info": {
   "codemirror_mode": {
    "name": "ipython",
    "version": 3
   },
   "file_extension": ".py",
   "mimetype": "text/x-python",
   "name": "python",
   "nbconvert_exporter": "python",
   "pygments_lexer": "ipython3",
   "version": "3.11.7"
  }
 },
 "nbformat": 4,
 "nbformat_minor": 5
}

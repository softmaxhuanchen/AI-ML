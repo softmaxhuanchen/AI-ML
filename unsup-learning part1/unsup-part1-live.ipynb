{
 "cells": [
  {
   "cell_type": "markdown",
   "id": "69228ada-e8a6-43e3-9a98-63d03af4518f",
   "metadata": {},
   "source": [
    "### intro\n",
    "1. what is learning? the core idea:\n",
    "\n",
    "2. what is machine learning? the core idea:\n",
    "\n",
    "\n",
    "3. the key to understanding ML\n",
    "\n",
    "4. 3 types AI/ML\n",
    "\n",
    "\n",
    "5. New paradiam of software  \n",
    "\n",
    "6. features/dimensions \n",
    "\n",
    "7. training data\n",
    "\n",
    "8. X, and y\n",
    "\n",
    "9. training vs inference\n",
    " \n",
    "10. unsup learning, time-series, sup learning, NN, Algo trading, Robo advisors and LLM\n"
   ]
  },
  {
   "cell_type": "markdown",
   "id": "23a634df-2142-4bac-9d56-6d464c88384c",
   "metadata": {},
   "source": [
    "### unsup learning\n",
    "- What are clusters? \n"
   ]
  },
  {
   "cell_type": "code",
   "execution_count": null,
   "id": "3f940a42-6f6f-4005-a12d-5c11b331f10f",
   "metadata": {
    "tags": []
   },
   "outputs": [],
   "source": [
    "# Import the modules\n",
    "from sklearn.datasets import make_blobs\n",
    "import matplotlib.pyplot as plt\n",
    "\n",
    "# Generate synthetic clusters\n"
   ]
  },
  {
   "cell_type": "code",
   "execution_count": null,
   "id": "22f12cb4-ffb2-4a8a-9f04-513b48790733",
   "metadata": {
    "tags": []
   },
   "outputs": [],
   "source": [
    "# Visualizing both classes\n"
   ]
  },
  {
   "cell_type": "code",
   "execution_count": null,
   "id": "7e3bc2a4-a259-4630-bc78-438af8701a33",
   "metadata": {
    "tags": []
   },
   "outputs": [],
   "source": [
    "import pandas as pd\n",
    "from pathlib import Path\n",
    "import hvplot.pandas"
   ]
  },
  {
   "cell_type": "code",
   "execution_count": null,
   "id": "bb4ee0fb-74c0-4a94-be3c-5d6db7441712",
   "metadata": {
    "tags": []
   },
   "outputs": [],
   "source": [
    "# Read in the CSV file as a Pandas DataFrame\n",
    "service_ratings_df = pd.read_csv(\n",
    "    Path(\"Resources/service_ratings.csv\")\n",
    ")\n",
    "\n",
    "# Review the DataFrame\n",
    "service_ratings_df.head()\n"
   ]
  },
  {
   "cell_type": "code",
   "execution_count": null,
   "id": "3dadd0e7-3bf8-40ea-ad16-3707782d93d8",
   "metadata": {
    "tags": []
   },
   "outputs": [],
   "source": [
    "# Scatter plot of data\n"
   ]
  },
  {
   "cell_type": "markdown",
   "id": "063fe69f-87ae-4c15-8dcc-810f9599743d",
   "metadata": {},
   "source": [
    "Quesiton: how do the eyes dentify clusters? "
   ]
  },
  {
   "cell_type": "markdown",
   "id": "baedfec6-d2fd-45f6-ad44-87e294b39b34",
   "metadata": {},
   "source": [
    "### K-means algorithm for clustering"
   ]
  },
  {
   "cell_type": "code",
   "execution_count": null,
   "id": "11fd7327-ebc5-4283-be0b-1fe34698c367",
   "metadata": {
    "tags": []
   },
   "outputs": [],
   "source": [
    "from sklearn.cluster import KMeans\n",
    "# Create and initialize the K-means model instance for 2 clusters\n",
    "\n",
    "\n",
    "# Print the model\n"
   ]
  },
  {
   "cell_type": "code",
   "execution_count": null,
   "id": "ab1233ea-7dd9-4e27-8164-e13a6a055cb4",
   "metadata": {
    "tags": []
   },
   "outputs": [],
   "source": [
    "# Fit the data to the instance of the model\n"
   ]
  },
  {
   "cell_type": "code",
   "execution_count": null,
   "id": "cd33d4f2-378a-4cbe-8df3-a2537300c590",
   "metadata": {
    "tags": []
   },
   "outputs": [],
   "source": [
    "# Make predictions about the data clusters using the trained model\n",
    "\n",
    "# Print the predictions\n"
   ]
  },
  {
   "cell_type": "code",
   "execution_count": null,
   "id": "7c24d014-b3ae-4b90-890d-9aef58c0d35e",
   "metadata": {
    "tags": []
   },
   "outputs": [],
   "source": [
    "# Create a copy of the DataFrame\n",
    "\n",
    "\n",
    "# Add a column to the DataFrame that contains the customer_ratings information\n",
    "\n",
    "\n",
    "# Review the DataFrame\n"
   ]
  },
  {
   "cell_type": "code",
   "execution_count": null,
   "id": "6415e695-13d7-4048-bbfa-8cea4d3221d5",
   "metadata": {
    "tags": []
   },
   "outputs": [],
   "source": [
    "# Plot the datapoints based on the customer rating\n"
   ]
  },
  {
   "cell_type": "markdown",
   "id": "69fe03ee-8f0b-435d-998c-d49af8742813",
   "metadata": {},
   "source": [
    "### How many centers should we assume? Elbow curve "
   ]
  },
  {
   "cell_type": "code",
   "execution_count": null,
   "id": "6df62b2a-7cf0-4ade-a3ac-8ed3b91b3282",
   "metadata": {
    "tags": []
   },
   "outputs": [],
   "source": [
    "import pandas as pd\n",
    "from pathlib import Path\n",
    "import hvplot.pandas\n",
    "from sklearn.cluster import KMeans"
   ]
  },
  {
   "cell_type": "code",
   "execution_count": null,
   "id": "9554d839-8e4d-4eb3-85f5-3d5f83b1d73d",
   "metadata": {
    "tags": []
   },
   "outputs": [],
   "source": [
    "service_ratings_df = pd.read_csv(\n",
    "    Path(\"Resources/service_ratings.csv\")\n",
    ")\n",
    "\n",
    "# Review the DataFrame\n",
    "service_ratings_df.head()"
   ]
  },
  {
   "cell_type": "code",
   "execution_count": null,
   "id": "f89e009c-2d93-4473-b671-70aaae8c79dc",
   "metadata": {
    "tags": []
   },
   "outputs": [],
   "source": []
  },
  {
   "cell_type": "code",
   "execution_count": null,
   "id": "4dbee419-5807-4201-8f44-b562af352318",
   "metadata": {
    "tags": []
   },
   "outputs": [],
   "source": [
    "# Define a DataFrame to hold the values for k and the corresponding inertia\n",
    "\n",
    "\n",
    "# Review the DataFrame\n"
   ]
  },
  {
   "cell_type": "code",
   "execution_count": null,
   "id": "6ed201bc-c964-4d28-9dae-3ec8773d7829",
   "metadata": {
    "tags": []
   },
   "outputs": [],
   "source": [
    "# Plot the DataFrame\n"
   ]
  },
  {
   "cell_type": "code",
   "execution_count": null,
   "id": "e9758dd6-93b9-4034-b250-8ecc4977dab9",
   "metadata": {
    "tags": []
   },
   "outputs": [],
   "source": [
    "# Define the model with 4 clusters\n",
    "\n",
    "# Fit the model\n",
    "\n",
    "# Make predictions\n",
    "\n",
    "\n",
    "# Add a class column with the labels\n"
   ]
  },
  {
   "cell_type": "code",
   "execution_count": null,
   "id": "ee5a7060-1b06-44b8-8475-08eb4081f7fd",
   "metadata": {
    "tags": []
   },
   "outputs": [],
   "source": [
    "# Plot the clusters\n"
   ]
  },
  {
   "cell_type": "code",
   "execution_count": null,
   "id": "0e44279c-dcb9-4179-9c0f-cc34471a7832",
   "metadata": {},
   "outputs": [],
   "source": []
  }
 ],
 "metadata": {
  "kernelspec": {
   "display_name": "Python 3 (ipykernel)",
   "language": "python",
   "name": "python3"
  },
  "language_info": {
   "codemirror_mode": {
    "name": "ipython",
    "version": 3
   },
   "file_extension": ".py",
   "mimetype": "text/x-python",
   "name": "python",
   "nbconvert_exporter": "python",
   "pygments_lexer": "ipython3",
   "version": "3.11.5"
  }
 },
 "nbformat": 4,
 "nbformat_minor": 5
}

{
 "cells": [
  {
   "cell_type": "markdown",
   "id": "56b850d5-47cd-4368-8cea-ec254efa7d77",
   "metadata": {},
   "source": [
    "### 1. analyze time series"
   ]
  },
  {
   "cell_type": "code",
   "execution_count": null,
   "id": "7352c6a3-a492-4e9c-805e-3d12c1b5181f",
   "metadata": {},
   "outputs": [],
   "source": [
    "import numpy as np\n",
    "import pandas as pd\n",
    "import hvplot.pandas\n",
    "from pathlib import Path\n",
    "import matplotlib.pyplot as plt"
   ]
  },
  {
   "cell_type": "markdown",
   "id": "4f2fb0ff-ee59-4e3c-9cc7-040f46a3026e",
   "metadata": {},
   "source": [
    "#### Loading Time Series Data Into a DataFrame"
   ]
  },
  {
   "cell_type": "code",
   "execution_count": null,
   "id": "f8fccff6-7ecc-4d4d-82cb-c48ec089dc12",
   "metadata": {},
   "outputs": [],
   "source": [
    "# Set the file path\n",
    "file_path = Path(\"Resources/national-home-sales.csv\")"
   ]
  },
  {
   "cell_type": "code",
   "execution_count": null,
   "id": "80715d4d-e9b4-4adb-901c-4897122b02a4",
   "metadata": {},
   "outputs": [],
   "source": [
    "# Load time series data into Pandas\n",
    "df_home_sales = pd.read_csv(\n",
    "    file_path,\n",
    "    index_col=\"period_end_date\",\n",
    "    parse_dates=True\n",
    ")\n",
    "df_home_sales\n",
    "# df_home_sales.count()\n"
   ]
  },
  {
   "cell_type": "markdown",
   "id": "f5d20d1e-884b-40a7-8a7a-ce73f2a9fa97",
   "metadata": {},
   "source": [
    "### how do we analyze this time series, patterns in the ts.\n",
    "- should we divide the ts in to 3 sub ts?\n",
    "- sub ts ts1 : 'inventory', ts2 :'homes_sold'\n",
    "- plan: \n",
    "1. ts1 corr with ts2?\n",
    "2. visulize\n",
    "3. calculate the corr between ts1 and ts2.\n"
   ]
  },
  {
   "cell_type": "code",
   "execution_count": null,
   "id": "ebc94d66-bdd9-4335-863a-24b34fa6d303",
   "metadata": {
    "tags": []
   },
   "outputs": [],
   "source": [
    "df_home_sales[['inventory', 'homes_sold']].plot()"
   ]
  },
  {
   "cell_type": "markdown",
   "id": "260c62bf-7c6c-46c9-aecf-4fcfc024e8a5",
   "metadata": {
    "tags": []
   },
   "source": [
    "### observations\n",
    "- ts1 is strongly correlated with ts2 \"probabaly\"\n",
    "- ts1 trending down, ts2 tending up (linear realtionship between ts1 and ts2, linear regression, ts2 = a * ts1 + b)"
   ]
  },
  {
   "cell_type": "code",
   "execution_count": null,
   "id": "4df2c3fe-2492-4ea6-a3e6-2ea2085061dd",
   "metadata": {
    "tags": []
   },
   "outputs": [],
   "source": [
    "df_home_sales[['inventory', 'homes_sold']].corr()"
   ]
  },
  {
   "cell_type": "markdown",
   "id": "aca8b5a3-7e3c-4b3f-8056-c50c9304b1b4",
   "metadata": {},
   "source": [
    "### corr is both right and wrong. "
   ]
  },
  {
   "cell_type": "code",
   "execution_count": null,
   "id": "dfc4111b-4046-4dbc-80e9-6636fbd29ffc",
   "metadata": {
    "tags": []
   },
   "outputs": [],
   "source": [
    "ts1 = df_home_sales['inventory']\n",
    "ts2 = df_home_sales['homes_sold'].shift()\n",
    "ts1.corr(ts2)"
   ]
  },
  {
   "cell_type": "code",
   "execution_count": null,
   "id": "2e5e4ec2-0359-49f5-9a69-1ec7a1ef9a96",
   "metadata": {
    "tags": []
   },
   "outputs": [],
   "source": [
    "def corsscorr(ts1, ts2, lag):\n",
    "    return ts1.corr(ts2.shift(lag))\n",
    "                    \n",
    "lags = range(1,40)\n",
    "\n",
    "cc = [corsscorr(ts1, ts2, lag) for lag in lags]\n",
    "\n",
    "cc\n",
    "\n",
    "plt.figure(figsize = [10,5])\n",
    "plt.plot(lags,cc)\n",
    "plt.show()\n",
    "                    \n"
   ]
  },
  {
   "cell_type": "markdown",
   "id": "6ff470e9-de11-4b86-afa7-b875971e7425",
   "metadata": {
    "tags": []
   },
   "source": [
    "### obs\n",
    "- corr change as we shift ts2 ( time series order can't be changed ,but can be shifted)\n",
    "- the stop is too big for the shift to sync to strong corr\n",
    "- ts1 -> ts2 (in the future) => ts1 (in the past) => ts2 at the present\n",
    "\n",
    "### insights\n",
    "- internal pattern (linear relation, cross corr, seasonality) everything superimposed on top of each other, we want to decompose\n",
    "- maybe underlying ts0 -> ts1 -> ts2\n",
    "- if you use the 3 dimension vector => lstm \n",
    "\n"
   ]
  },
  {
   "cell_type": "code",
   "execution_count": null,
   "id": "02fa7a1b-75d9-4a63-b930-e3a2f73ec122",
   "metadata": {
    "tags": []
   },
   "outputs": [],
   "source": [
    "def autocorr(ts, lag = 0):\n",
    "    return ts.corr(ts.shift(lag))\n",
    "\n",
    "lags = range(1,24)\n",
    "\n",
    "ac = [autocorr(ts2, lag) for lag in lags]\n",
    "\n",
    "ac\n",
    "\n",
    "plt.figure(figsize = [10,5])\n",
    "plt.plot(lags,ac)\n",
    "plt.show()\n",
    "                  "
   ]
  },
  {
   "cell_type": "markdown",
   "id": "52e6f843-9b92-4394-aab9-3cdf7529254d",
   "metadata": {},
   "source": [
    "### 2. google colab"
   ]
  },
  {
   "cell_type": "code",
   "execution_count": null,
   "id": "0b11b85e-9ca6-4394-89c5-f89841817b81",
   "metadata": {
    "id": "cJ8NT87dz1Qy"
   },
   "outputs": [],
   "source": []
  }
 ],
 "metadata": {
  "kernelspec": {
   "display_name": "Python 3 (ipykernel)",
   "language": "python",
   "name": "python3"
  },
  "language_info": {
   "codemirror_mode": {
    "name": "ipython",
    "version": 3
   },
   "file_extension": ".py",
   "mimetype": "text/x-python",
   "name": "python",
   "nbconvert_exporter": "python",
   "pygments_lexer": "ipython3",
   "version": "3.11.5"
  }
 },
 "nbformat": 4,
 "nbformat_minor": 5
}

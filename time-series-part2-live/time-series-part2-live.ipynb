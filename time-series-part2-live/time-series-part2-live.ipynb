{
 "cells": [
  {
   "cell_type": "markdown",
   "id": "56b850d5-47cd-4368-8cea-ec254efa7d77",
   "metadata": {},
   "source": [
    "### 1. analyze time series"
   ]
  },
  {
   "cell_type": "code",
   "execution_count": 14,
   "id": "7352c6a3-a492-4e9c-805e-3d12c1b5181f",
   "metadata": {},
   "outputs": [],
   "source": [
    "import numpy as np\n",
    "import pandas as pd\n",
    "import hvplot.pandas\n",
    "from pathlib import Path\n",
    "import matplotlib.pyplot as plt"
   ]
  },
  {
   "cell_type": "markdown",
   "id": "4f2fb0ff-ee59-4e3c-9cc7-040f46a3026e",
   "metadata": {},
   "source": [
    "#### Loading Time Series Data Into a DataFrame"
   ]
  },
  {
   "cell_type": "code",
   "execution_count": 15,
   "id": "f8fccff6-7ecc-4d4d-82cb-c48ec089dc12",
   "metadata": {},
   "outputs": [],
   "source": [
    "# Set the file path\n",
    "file_path = Path(\"Resources/national-home-sales.csv\")"
   ]
  },
  {
   "cell_type": "code",
   "execution_count": 16,
   "id": "80715d4d-e9b4-4adb-901c-4897122b02a4",
   "metadata": {},
   "outputs": [],
   "source": [
    "# Load time series data into Pandas\n",
    "df_home_sales = pd.read_csv(\n",
    "    file_path,\n",
    "    index_col=\"period_end_date\",\n",
    "    parse_dates=True\n",
    ")"
   ]
  },
  {
   "cell_type": "markdown",
   "id": "52e6f843-9b92-4394-aab9-3cdf7529254d",
   "metadata": {},
   "source": [
    "### 2. google colab"
   ]
  },
  {
   "cell_type": "code",
   "execution_count": null,
   "id": "0b11b85e-9ca6-4394-89c5-f89841817b81",
   "metadata": {
    "id": "cJ8NT87dz1Qy"
   },
   "outputs": [],
   "source": []
  }
 ],
 "metadata": {
  "kernelspec": {
   "display_name": "Python 3 (ipykernel)",
   "language": "python",
   "name": "python3"
  },
  "language_info": {
   "codemirror_mode": {
    "name": "ipython",
    "version": 3
   },
   "file_extension": ".py",
   "mimetype": "text/x-python",
   "name": "python",
   "nbconvert_exporter": "python",
   "pygments_lexer": "ipython3",
   "version": "3.11.5"
  }
 },
 "nbformat": 4,
 "nbformat_minor": 5
}
